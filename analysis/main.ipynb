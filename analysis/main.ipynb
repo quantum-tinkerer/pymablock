{
 "cells": [
  {
   "cell_type": "markdown",
   "metadata": {},
   "source": [
    "# on improving lowdin with kpm"
   ]
  },
  {
   "cell_type": "markdown",
   "metadata": {},
   "source": [
    "## imports here"
   ]
  },
  {
   "cell_type": "code",
   "execution_count": null,
   "metadata": {},
   "outputs": [],
   "source": [
    "import kwant\n",
    "import numpy as np\n",
    "import scipy.linalg as la\n",
    "import scipy.sparse as sla\n",
    "\n",
    "import itertools\n",
    "\n",
    "import matplotlib.pyplot as plt\n",
    "%matplotlib inline"
   ]
  },
  {
   "cell_type": "markdown",
   "metadata": {},
   "source": [
    "## prepare random Hamiltonian"
   ]
  },
  {
   "cell_type": "code",
   "execution_count": null,
   "metadata": {},
   "outputs": [],
   "source": [
    "def H0_random(nA=4, nB=100, gap=1, epsilonA=0.2, epsilonB=10):\n",
    "    \"\"\"Generate random Hamiltonian with quasi-degenerate states.\"\"\"\n",
    "    energiesA = epsilonA * np.random.random(nA) - epsilonA / 2\n",
    "    \n",
    "    energiesB = epsilonB * np.random.random(nB) - epsilonB / 2\n",
    "    energiesB = energiesB[np.abs(energiesB) > gap/2]\n",
    "\n",
    "    energies = np.append(energiesA, energiesB)\n",
    "    U = kwant.rmt.circular(len(energies))\n",
    "    \n",
    "    return np.diag(energies)#U.transpose().conjugate() @ np.diag(energies) @ U\n",
    "\n",
    "\n",
    "def H1_random(n, v=0.1):\n",
    "    return kwant.rmt.gaussian(n, v=v)"
   ]
  },
  {
   "cell_type": "code",
   "execution_count": null,
   "metadata": {},
   "outputs": [],
   "source": [
    "alphas = np.logspace(-8, 0, 100)\n",
    "np.random.seed(0)\n",
    "\n",
    "H0 = H0_random()        # This is H_0\n",
    "H1 = H1_random(len(H0)) # This is perturbation (H')\n"
   ]
  },
  {
   "cell_type": "markdown",
   "metadata": {},
   "source": [
    "## exact solution\n",
    "\n",
    "$H(\\alpha) = H_0 + \\alpha H^\\prime$"
   ]
  },
  {
   "cell_type": "code",
   "execution_count": null,
   "metadata": {},
   "outputs": [],
   "source": [
    "%%time\n",
    "\n",
    "window = (-.25, +.25)\n",
    "ev, evec = la.eigh(H0)\n",
    "\n",
    "indices = [i for (i, e) in enumerate(ev) if window[0] < e < window[1]]\n",
    "n = len(indices)"
   ]
  },
  {
   "cell_type": "code",
   "execution_count": null,
   "metadata": {},
   "outputs": [],
   "source": [
    "%%time\n",
    "\n",
    "energies = []\n",
    "for alpha in alphas:\n",
    "    e = la.eigvalsh(H0 + alpha * H1)\n",
    "    energies.append(e)\n",
    "energies = np.array(energies)"
   ]
  },
  {
   "cell_type": "code",
   "execution_count": null,
   "metadata": {},
   "outputs": [],
   "source": [
    "energies.shape"
   ]
  },
  {
   "cell_type": "code",
   "execution_count": null,
   "metadata": {},
   "outputs": [],
   "source": [
    "plt.plot(alphas, np.array(energies), 'C0');\n",
    "plt.ylim(-1, 1)    "
   ]
  },
  {
   "cell_type": "markdown",
   "metadata": {},
   "source": [
    "## explicit lowdin implementation\n",
    "\n",
    "$\n",
    "H^{(0)}_{ij} = (H_0)_{i,j}\n",
    "$\n",
    "\n",
    "$\n",
    "H^{(1)}_{ij} = (H^\\prime)_{i,j}\n",
    "$\n",
    "\n",
    "$\n",
    "H^{(2)}_{ij} = \\frac{1}{2} \\sum_m \\left[(H^\\prime)_{i,m} (H^\\prime)_{m, j} \\times \\left(\\frac{1}{E_i-E_m} + \\frac{1}{E_j - E_m} \\right) \\right]\n",
    "$"
   ]
  },
  {
   "cell_type": "code",
   "execution_count": null,
   "metadata": {},
   "outputs": [],
   "source": [
    "%%time\n",
    "\n",
    "def triproduct(left, matrix, right):\n",
    "    return left.conjugate() @ matrix @ right\n",
    "\n",
    "H_eff_1 = []\n",
    "H_eff_2 = []\n",
    "\n",
    "# iterate over states in group A\n",
    "for i, j in itertools.product(indices, indices):\n",
    "    \n",
    "    # calculate 1-st order perturbation\n",
    "    H_eff_1.append(triproduct(evec[:, i], H1, evec[:, j]))\n",
    "    \n",
    "    element = 0\n",
    "    # iterate over states in group B\n",
    "    for m in range(len(ev)):\n",
    "\n",
    "        if m in indices:\n",
    "            continue\n",
    "\n",
    "        # This calculates H'_{im} H'_{mj} x (1 / (Ei - Em) + 1 / (Ej / Em))\n",
    "        v1 = triproduct(evec[:, i], H1, evec[:, m])\n",
    "        v2 = triproduct(evec[:, m], H1, evec[:, j])\n",
    "        element += v1 * v2 * (1 / (ev[i] - ev[m]) + 1 / (ev[j] - ev[m]))\n",
    "        \n",
    "    H_eff_2.append(0.5 * element)\n",
    "    \n",
    "    \n",
    "H_eff_0 = np.diag(ev[indices])    \n",
    "H_eff_1 = np.array(H_eff_1).reshape(n, n)\n",
    "H_eff_2 = np.array(H_eff_2).reshape(n, n)"
   ]
  },
  {
   "cell_type": "code",
   "execution_count": null,
   "metadata": {},
   "outputs": [],
   "source": [
    "H_eff_0"
   ]
  },
  {
   "cell_type": "code",
   "execution_count": null,
   "metadata": {},
   "outputs": [],
   "source": [
    "H_eff_1"
   ]
  },
  {
   "cell_type": "code",
   "execution_count": null,
   "metadata": {},
   "outputs": [],
   "source": [
    "H_eff_2"
   ]
  },
  {
   "cell_type": "code",
   "execution_count": null,
   "metadata": {},
   "outputs": [],
   "source": [
    "# only h1_eff\n",
    "energies_effective_1 = []\n",
    "# up to h2_eff\n",
    "energies_effective_2 = []\n",
    "\n",
    "for alpha in alphas:\n",
    "    H_eff = (H_eff_0 +\n",
    "             alpha * H_eff_1 +\n",
    "             0**2 * H_eff_2\n",
    "            )\n",
    "    \n",
    "    e = la.eigvalsh(H_eff)\n",
    "    energies_effective_1.append(e)\n",
    "    H_eff = (H_eff_0 +\n",
    "             alpha * H_eff_1 +\n",
    "             alpha**2 * H_eff_2\n",
    "            )\n",
    "    \n",
    "    e = la.eigvalsh(H_eff)\n",
    "    energies_effective_2.append(e)"
   ]
  },
  {
   "cell_type": "code",
   "execution_count": null,
   "metadata": {},
   "outputs": [],
   "source": [
    "# first and second order\n",
    "\n",
    "fig = plt.figure(figsize=(4,4))\n",
    "\n",
    "plt.plot(alphas, np.array(energies), 'C0');\n",
    "plt.plot(alphas, np.array(energies_effective_1), 'C3-');\n",
    "plt.plot(alphas, np.array(energies_effective_2), 'C8-');\n",
    "plt.ylim(-.35, .35)\n"
   ]
  },
  {
   "cell_type": "code",
   "execution_count": null,
   "metadata": {},
   "outputs": [],
   "source": [
    "import holoviews as hv\n",
    "hv.notebook_extension()"
   ]
  },
  {
   "cell_type": "code",
   "execution_count": null,
   "metadata": {},
   "outputs": [],
   "source": [
    "%%opts Overlay [logx=True logy=True]\n",
    "\n",
    "(\n",
    "    hv.Path((alphas, np.abs(energies[:,indices]-energies_effective_1))) *\n",
    "    hv.Path((alphas, np.abs(energies[:,indices]-energies_effective_2)))\n",
    ")[1e-8:,1e-16:]"
   ]
  },
  {
   "cell_type": "markdown",
   "metadata": {},
   "source": [
    "# kpm improvement (below unfinished)\n",
    "\n",
    "Goal is to optimize $H^{(2)}$ using KPM.\n",
    "\n",
    "My rough understanding from the discussion comes here:\n",
    "\n",
    "$\n",
    "H^{(2)}_{ij} \\rightarrow \\frac{1}{2} <i | H^\\prime  \\left[\\sum_m |m > < m| \\left( \\frac{1}{E_i-E_m} + \\frac{1}{E_j - E_m}\\right) \\right] H^\\prime |j>\n",
    "$\n",
    "\n",
    "Now with\n",
    "\n",
    "$\n",
    "\\sum_m |m > < m| \\frac{1}{E_i-E_m} = \\sum_m |m > < m| \\frac{1}{E_i-H_0} = P_B \\frac{1}{E_i-E_m} = f(E_i, H_0)\n",
    "$\n",
    "\n",
    "we transform further into\n",
    "$\n",
    "H^{(2)}_{ij} \\rightarrow \\frac{1}{2} <i | H^\\prime  \\left[ f(E_i, H_0) + f(E_j, H_0) \\right] H^\\prime |j>\n",
    "$"
   ]
  },
  {
   "cell_type": "code",
   "execution_count": null,
   "metadata": {},
   "outputs": [],
   "source": [
    "%%time\n",
    "\n",
    "window = (-.25, +.25)\n",
    "ev, evec = la.eigh(H0)\n",
    "\n",
    "indices = [i for (i, e) in enumerate(ev) if window[0] < e < window[1]]\n",
    "n = len(indices)"
   ]
  },
  {
   "cell_type": "code",
   "execution_count": null,
   "metadata": {},
   "outputs": [],
   "source": [
    "%%time\n",
    "\n",
    "def triproduct(left, matrix, right):\n",
    "    return left.conjugate() @ matrix @ right\n",
    "\n",
    "\n",
    "def proj(vec, subspace):\n",
    "    P_A = subspace @ subspace.T.conj()\n",
    "    return vec -  P_A @ vec\n",
    "\n",
    "\n",
    "H_eff_1 = []\n",
    "H_eff_2 = []\n",
    "\n",
    "# iterate over states in group A\n",
    "for i, j in itertools.product(indices, indices):\n",
    "    \n",
    "    # calculate 1-st order perturbation\n",
    "    H_eff_1.append(triproduct(evec[:, i], H1, evec[:, j]))    \n",
    "    \n",
    "H_eff_0 = np.diag(ev[indices])    \n",
    "H_eff_1 = np.array(H_eff_1).reshape(n, n)"
   ]
  },
  {
   "cell_type": "code",
   "execution_count": null,
   "metadata": {},
   "outputs": [],
   "source": [
    "from codes.kpm_funcs import build_perturbation"
   ]
  },
  {
   "cell_type": "code",
   "execution_count": null,
   "metadata": {},
   "outputs": [],
   "source": [
    "kpm_params = dict(num_moments=1000)\n",
    "H_eff_2 = build_perturbation(ev[indices], evec[:,indices], H0, H1, kpm_params=kpm_params)"
   ]
  },
  {
   "cell_type": "code",
   "execution_count": null,
   "metadata": {},
   "outputs": [],
   "source": [
    "# only h1_eff\n",
    "energies_effective_1 = []\n",
    "# up to h2_eff\n",
    "energies_effective_2 = []\n",
    "\n",
    "for alpha in alphas:\n",
    "    H_eff = (H_eff_0 +\n",
    "             alpha * H_eff_1 +\n",
    "             0**2 * H_eff_2\n",
    "            )\n",
    "    \n",
    "    e = la.eigvalsh(H_eff)\n",
    "    energies_effective_1.append(e)\n",
    "    H_eff = (H_eff_0 +\n",
    "             alpha * H_eff_1 +\n",
    "             alpha**2 * H_eff_2\n",
    "            )\n",
    "    \n",
    "    e = la.eigvalsh(H_eff)\n",
    "    energies_effective_2.append(e)"
   ]
  },
  {
   "cell_type": "code",
   "execution_count": null,
   "metadata": {},
   "outputs": [],
   "source": [
    "# first and second order\n",
    "\n",
    "fig = plt.figure(figsize=(4,4))\n",
    "\n",
    "plt.plot(alphas, np.array(energies), 'C0');\n",
    "plt.plot(alphas, np.array(energies_effective_1), 'C3-');\n",
    "plt.plot(alphas, np.array(energies_effective_2), 'C8-');\n",
    "plt.ylim(-.35, .35)\n"
   ]
  },
  {
   "cell_type": "code",
   "execution_count": null,
   "metadata": {},
   "outputs": [],
   "source": [
    "%%opts Overlay [logx=True logy=True]\n",
    "\n",
    "(\n",
    "    hv.Path((alphas, np.abs(energies[:,indices]-energies_effective_1))) *\n",
    "    hv.Path((alphas, np.abs(energies[:,indices]-energies_effective_2)))\n",
    ")[1e-8:,1e-16:]"
   ]
  }
 ],
 "metadata": {
  "kernelspec": {
   "display_name": "Python 3",
   "language": "python",
   "name": "python3"
  },
  "language_info": {
   "codemirror_mode": {
    "name": "ipython",
    "version": 3
   },
   "file_extension": ".py",
   "mimetype": "text/x-python",
   "name": "python",
   "nbconvert_exporter": "python",
   "pygments_lexer": "ipython3",
   "version": "3.6.6"
  }
 },
 "nbformat": 4,
 "nbformat_minor": 2
}
