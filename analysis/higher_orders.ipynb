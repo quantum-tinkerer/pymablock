{
 "cells": [
  {
   "cell_type": "markdown",
   "metadata": {},
   "source": [
    "# k.p example of using the Lowdin perturbation\n",
    "\n",
    "This example requires [semicon](https://gitlab.kwant-project.org/semicon/semicon) to be installed.\n",
    "\n",
    "It should be as easy as \n",
    "```\n",
    "pip install git+https://gitlab.kwant-project.org/semicon/semicon.git\n",
    "```"
   ]
  },
  {
   "cell_type": "code",
   "execution_count": null,
   "metadata": {},
   "outputs": [],
   "source": [
    "try:\n",
    "    import semicon\n",
    "except ImportError:\n",
    "    print(\"Semicon should be installed to run this notebook.\")"
   ]
  },
  {
   "cell_type": "code",
   "execution_count": null,
   "metadata": {},
   "outputs": [],
   "source": [
    "import kwant\n",
    "import scipy\n",
    "import sympy\n",
    "import semicon\n",
    "\n",
    "\n",
    "print(\"semicon version:\", semicon.__version__)\n",
    "print(\"kwant version:\", kwant.__version__)\n",
    "print(\"scipy version:\", scipy.__version__)\n",
    "print(\"sympy version\", sympy.__version__)"
   ]
  },
  {
   "cell_type": "code",
   "execution_count": null,
   "metadata": {},
   "outputs": [],
   "source": [
    "import warnings\n",
    "warnings.filterwarnings(\"ignore\", category=FutureWarning) \n",
    "warnings.filterwarnings(\"ignore\", category=kwant.KwantDeprecationWarning)"
   ]
  },
  {
   "cell_type": "code",
   "execution_count": null,
   "metadata": {},
   "outputs": [],
   "source": [
    "import kwant\n",
    "import semicon\n",
    "\n",
    "import numpy as np\n",
    "import scipy.linalg as la\n",
    "import scipy.sparse\n",
    "import scipy.sparse.linalg as sla\n",
    "\n",
    "import sympy\n",
    "sympy.init_printing(print_builtin=False)\n",
    "\n",
    "import matplotlib.pyplot as plt\n",
    "%matplotlib inline\n",
    "\n",
    "import codes.old_lowdin as olo\n",
    "import codes.higher_order_lowdin as nlo"
   ]
  },
  {
   "cell_type": "code",
   "execution_count": null,
   "metadata": {},
   "outputs": [],
   "source": [
    "%load_ext line_profiler"
   ]
  },
  {
   "cell_type": "markdown",
   "metadata": {},
   "source": [
    "# Prepare k.p model and solve it exactly"
   ]
  },
  {
   "cell_type": "code",
   "execution_count": null,
   "metadata": {},
   "outputs": [],
   "source": [
    "widths = [5, 12.5, 5, 5]\n",
    "gamma_0 = 1.0\n",
    "\n",
    "grid_spacing = 0.5\n",
    "shape = lambda site: 0 - grid_spacing / 2 < site.pos[0] < sum(widths)\n",
    "\n",
    "model = semicon.models.ZincBlende(\n",
    "    components=('foreman',),\n",
    "    parameter_coords='z', \n",
    "    default_databank='lawaetz'\n",
    ")\n",
    "\n",
    "kpham = model.hamiltonian\n",
    "\n",
    "AlSb = model.parameters('AlSb', valence_band_offset=.18).renormalize(new_gamma_0=gamma_0)\n",
    "InAs = model.parameters('InAs').renormalize(new_gamma_0=gamma_0)\n",
    "GaSb = model.parameters('GaSb', valence_band_offset=.56).renormalize(new_gamma_0=gamma_0)\n",
    "\n",
    "params, walls = semicon.misc.two_deg(\n",
    "    parameters = [AlSb, InAs, GaSb, AlSb],\n",
    "    widths = widths,\n",
    "    grid_spacing=grid_spacing,\n",
    "    extra_constants=semicon.parameters.constants,\n",
    ")"
   ]
  },
  {
   "cell_type": "code",
   "execution_count": null,
   "metadata": {},
   "outputs": [],
   "source": [
    "def calc_energy(k):\n",
    "    p = {'k_x': k, 'k_y': 0}\n",
    "    mat = syst.hamiltonian_submatrix(params={**p, **params})\n",
    "    return la.eigvalsh(mat)\n",
    "\n",
    "\n",
    "template = kwant.continuum.discretize(str(kpham), coords='z', \n",
    "                                      grid_spacing=grid_spacing)\n",
    "\n",
    "syst = kwant.Builder()\n",
    "syst.fill(template, shape, (0, ))\n",
    "syst = syst.finalized()\n",
    "\n",
    "N = len(syst.sites)\n",
    "momenta = np.linspace(-.3, .3, 81)\n",
    "energies_exact = np.array([calc_energy(k) for k in momenta])"
   ]
  },
  {
   "cell_type": "code",
   "execution_count": null,
   "metadata": {},
   "outputs": [],
   "source": [
    "ylims = (500-5, 530+5)\n",
    "xlims = (-.3, .3)\n",
    "\n",
    "window = (.500, .530)\n",
    "\n",
    "plt.plot(momenta, 1000 * energies_exact, 'k-');\n",
    "plt.plot(xlims, 1000 * np.array([window, window]))\n",
    "plt.ylim(*ylims)\n",
    "plt.xlim(*xlims)"
   ]
  },
  {
   "cell_type": "markdown",
   "metadata": {},
   "source": [
    "# prepare perturbation basis"
   ]
  },
  {
   "cell_type": "code",
   "execution_count": null,
   "metadata": {},
   "outputs": [],
   "source": [
    "def find_indices(ev, lower, upper):\n",
    "    return [i for (i, e) in enumerate(ev) if lower < e < upper]"
   ]
  },
  {
   "cell_type": "code",
   "execution_count": null,
   "metadata": {},
   "outputs": [],
   "source": [
    "# for simplicity lets import everything now\n",
    "from codes.lowdin import *\n",
    "\n",
    "gens = sympy.symbols(['k_x', 'k_y'])\n",
    "H0, H1 = prepare_hamiltonian(\n",
    "    kpham, gens, 'z', grid_spacing, shape, (0,)\n",
    ")"
   ]
  },
  {
   "cell_type": "markdown",
   "metadata": {},
   "source": [
    "## Full diagonalisation: we know everything"
   ]
  },
  {
   "cell_type": "code",
   "execution_count": null,
   "metadata": {},
   "outputs": [],
   "source": [
    "mat0 = H0.hamiltonian_submatrix(params=params, sparse=True)\n",
    "mat1 = {k: v.hamiltonian_submatrix(params=params) \n",
    "        for k, v in H1.items()}\n",
    "\n",
    "ev, evec = la.eigh(mat0.A)\n",
    "indices = find_indices(ev, *window) "
   ]
  },
  {
   "cell_type": "markdown",
   "metadata": {},
   "source": [
    "## Old lowdin at higher order"
   ]
  },
  {
   "cell_type": "code",
   "execution_count": null,
   "metadata": {},
   "outputs": [],
   "source": [
    "from importlib import reload\n",
    "olo = reload(olo)"
   ]
  },
  {
   "cell_type": "code",
   "execution_count": null,
   "metadata": {},
   "outputs": [],
   "source": [
    "%%time\n",
    "order=6\n",
    "gens = sympy.symbols('k_x k_y')\n",
    "inter_keys = olo.get_maximum_powers(gens, order)\n",
    "\n",
    "model = olo.get_effective_model(ev, evec, indices, mat1, inter_keys)\n",
    "\n",
    "ham = sympy.expand(model.tosympy())"
   ]
  },
  {
   "cell_type": "code",
   "execution_count": null,
   "metadata": {},
   "outputs": [],
   "source": [
    "model_old = model\n",
    "ham"
   ]
  },
  {
   "cell_type": "code",
   "execution_count": null,
   "metadata": {},
   "outputs": [],
   "source": [
    "# %lprun -f  olo.get_effective_model olo.get_effective_model(ev, evec, indices, mat1, inter_keys)"
   ]
  },
  {
   "cell_type": "markdown",
   "metadata": {},
   "source": [
    "## KPM lowdin at higher order"
   ]
  },
  {
   "cell_type": "code",
   "execution_count": null,
   "metadata": {},
   "outputs": [],
   "source": [
    "from importlib import reload\n",
    "nlo = reload(nlo)"
   ]
  },
  {
   "cell_type": "code",
   "execution_count": null,
   "metadata": {},
   "outputs": [],
   "source": [
    "indices"
   ]
  },
  {
   "cell_type": "code",
   "execution_count": null,
   "metadata": {},
   "outputs": [],
   "source": [
    "%%time\n",
    "order=6\n",
    "kpm_params = dict(num_moments=1000)\n",
    "gens = sympy.symbols('k_x k_y')\n",
    "inter_keys = nlo.get_maximum_powers(gens, order)\n",
    "\n",
    "# Getting sparse vectors results in different basis, result looks different\n",
    "# energies, evec_A = sla.eigsh(mat0, sigma=.520, k=4)\n",
    "# evec_A, _ = la.qr(evec_A[:, np.argsort(energies)], mode='economic')\n",
    "evec_A = evec[:, indices]\n",
    "# B states to include exactly, 3 options: some, all, none\n",
    "# evec_B = evec[:, np.arange(300, 328)]\n",
    "# evec_B = np.hstack([evec[:, np.arange(332, 440)], evec[:, np.arange(0, 328)]])\n",
    "evec_B = None\n",
    "\n",
    "model = nlo.get_effective_model(mat0, mat1, evec_A, evec_B,\n",
    "                                interesting_keys=inter_keys, order=order, kpm_params=kpm_params)\n",
    "\n",
    "ham = sympy.expand(model.tosympy())"
   ]
  },
  {
   "cell_type": "code",
   "execution_count": null,
   "metadata": {},
   "outputs": [],
   "source": [
    "# %lprun -f  nlo.get_effective_model nlo.get_effective_model(mat0, mat1, evec_A, evec_B, inter_keys, order=6, kpm_params=kpm_params)"
   ]
  },
  {
   "cell_type": "code",
   "execution_count": null,
   "metadata": {},
   "outputs": [],
   "source": [
    "# %lprun -f  nlo.divide_by_energies nlo.get_effective_model(mat0, mat1, evec_A, inter_keys, order=4, kpm_params=kpm_params)"
   ]
  },
  {
   "cell_type": "code",
   "execution_count": null,
   "metadata": {},
   "outputs": [],
   "source": [
    "inter_keys"
   ]
  },
  {
   "cell_type": "code",
   "execution_count": null,
   "metadata": {},
   "outputs": [],
   "source": [
    "model_new = model\n",
    "ham"
   ]
  },
  {
   "cell_type": "code",
   "execution_count": null,
   "metadata": {},
   "outputs": [],
   "source": [
    "for key in model_old.keys():\n",
    "    assert nlo.allclose(model_old[key], model_new[key], rtol=1e-1), (key, model_old[key] - model_new[key])"
   ]
  },
  {
   "cell_type": "markdown",
   "metadata": {},
   "source": [
    "## Old lowdin at higher order"
   ]
  },
  {
   "cell_type": "code",
   "execution_count": null,
   "metadata": {},
   "outputs": [],
   "source": [
    "from importlib import reload\n",
    "olo = reload(olo)"
   ]
  },
  {
   "cell_type": "code",
   "execution_count": null,
   "metadata": {},
   "outputs": [],
   "source": [
    "# Simple model\n",
    "ev2 = np.array([1., 5.])\n",
    "mat02 = np.diag(ev2)\n",
    "mat12 = {sympy.Symbol('x'): np.array([[0, 1.], [1., 0.5]])}\n",
    "evec2 = np.eye(2)\n",
    "indices2 = [0]"
   ]
  },
  {
   "cell_type": "code",
   "execution_count": null,
   "metadata": {},
   "outputs": [],
   "source": [
    "gens2 = [sympy.symbols('x')]\n",
    "inter_keys2 = olo.get_maximum_powers(gens2, 8)\n",
    "\n",
    "model = olo.get_effective_model(ev2, evec2, indices2, mat12, inter_keys2)\n",
    "\n",
    "ham = sympy.expand(model.tosympy())"
   ]
  },
  {
   "cell_type": "code",
   "execution_count": null,
   "metadata": {},
   "outputs": [],
   "source": [
    "inter_keys2"
   ]
  },
  {
   "cell_type": "code",
   "execution_count": null,
   "metadata": {},
   "outputs": [],
   "source": [
    "model_old2 = model\n",
    "ham"
   ]
  },
  {
   "cell_type": "markdown",
   "metadata": {},
   "source": [
    "## KPM lowdin at higher order"
   ]
  },
  {
   "cell_type": "code",
   "execution_count": null,
   "metadata": {},
   "outputs": [],
   "source": [
    "import codes.higher_order_lowdin as nlo"
   ]
  },
  {
   "cell_type": "code",
   "execution_count": null,
   "metadata": {},
   "outputs": [],
   "source": [
    "from importlib import reload\n",
    "nlo = reload(nlo)"
   ]
  },
  {
   "cell_type": "code",
   "execution_count": null,
   "metadata": {},
   "outputs": [],
   "source": [
    "kpm_params = dict(num_moments=1000)\n",
    "\n",
    "evec_A = evec2[:, indices2]\n",
    "evec_B = evec2[:, np.array([1])]\n",
    "# evec_B = None\n",
    "\n",
    "model = nlo.get_effective_model(mat02, mat12, evec_A, evec_B, interesting_keys=inter_keys2, order=8, kpm_params=kpm_params)\n",
    "\n",
    "ham = sympy.expand(model.tosympy())"
   ]
  },
  {
   "cell_type": "code",
   "execution_count": null,
   "metadata": {},
   "outputs": [],
   "source": [
    "inter_keys2"
   ]
  },
  {
   "cell_type": "code",
   "execution_count": null,
   "metadata": {},
   "outputs": [],
   "source": [
    "model_new2 = model\n",
    "ham"
   ]
  },
  {
   "cell_type": "code",
   "execution_count": null,
   "metadata": {},
   "outputs": [],
   "source": [
    "for key in model_old2.keys():\n",
    "    assert nlo.allclose(model_old2[key], model_new2[key], atol=1e-6), (key, model_old2[key] - model_new2[key])"
   ]
  }
 ],
 "metadata": {
  "kernelspec": {
   "display_name": "Python 3",
   "language": "python",
   "name": "python3"
  },
  "language_info": {
   "codemirror_mode": {
    "name": "ipython",
    "version": 3
   },
   "file_extension": ".py",
   "mimetype": "text/x-python",
   "name": "python",
   "nbconvert_exporter": "python",
   "pygments_lexer": "ipython3",
   "version": "3.6.6"
  }
 },
 "nbformat": 4,
 "nbformat_minor": 2
}
