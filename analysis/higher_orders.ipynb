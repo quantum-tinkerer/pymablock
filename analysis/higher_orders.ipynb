{
 "cells": [
  {
   "cell_type": "markdown",
   "metadata": {},
   "source": [
    "# k.p example of using the Lowdin perturbation\n",
    "\n",
    "This example requires [semicon](https://gitlab.kwant-project.org/semicon/semicon) to be installed.\n",
    "\n",
    "It should be as easy as \n",
    "```\n",
    "pip install git+https://gitlab.kwant-project.org/semicon/semicon.git\n",
    "```"
   ]
  },
  {
   "cell_type": "code",
   "execution_count": null,
   "metadata": {},
   "outputs": [],
   "source": [
    "try:\n",
    "    import semicon\n",
    "except ImportError:\n",
    "    print(\"Semicon should be installed to run this notebook.\")"
   ]
  },
  {
   "cell_type": "code",
   "execution_count": null,
   "metadata": {},
   "outputs": [],
   "source": [
    "import warnings\n",
    "warnings.filterwarnings(\"ignore\", category=FutureWarning) "
   ]
  },
  {
   "cell_type": "code",
   "execution_count": null,
   "metadata": {},
   "outputs": [],
   "source": [
    "import kwant\n",
    "import semicon\n",
    "\n",
    "import numpy as np\n",
    "import scipy.linalg as la\n",
    "import scipy.sparse\n",
    "\n",
    "import sympy\n",
    "sympy.init_printing(print_builtin=False)\n",
    "\n",
    "import matplotlib.pyplot as plt\n",
    "%matplotlib inline"
   ]
  },
  {
   "cell_type": "markdown",
   "metadata": {},
   "source": [
    "# Prepare k.p model and solve it exactly"
   ]
  },
  {
   "cell_type": "code",
   "execution_count": null,
   "metadata": {},
   "outputs": [],
   "source": [
    "widths = [5, 12.5, 5, 5]\n",
    "gamma_0 = 1.0\n",
    "\n",
    "grid_spacing = 0.5\n",
    "shape = lambda site: 0 - grid_spacing / 2 < site.pos[0] < sum(widths)\n",
    "\n",
    "kpham = semicon.models.foreman('z')\n",
    "\n",
    "AlSb = semicon.parameters.bulk('lawaetz', 'AlSb', gamma_0, valence_band_offset=.18)\n",
    "InAs = semicon.parameters.bulk('lawaetz', 'InAs', gamma_0)\n",
    "GaSb = semicon.parameters.bulk('lawaetz', 'GaSb', gamma_0, valence_band_offset=.56)\n",
    "\n",
    "params, walls = semicon.parameters.two_deg(\n",
    "    parameters = [AlSb, InAs, GaSb, AlSb],\n",
    "    widths = widths,\n",
    "    grid_spacing=grid_spacing,\n",
    "    extra_constants=semicon.parameters.constants,\n",
    ")"
   ]
  },
  {
   "cell_type": "code",
   "execution_count": null,
   "metadata": {},
   "outputs": [],
   "source": [
    "def calc_energy(k):\n",
    "    p = {'k_x': k, 'k_y': 0}\n",
    "    mat = syst.hamiltonian_submatrix(params={**p, **params})\n",
    "    return la.eigvalsh(mat)\n",
    "\n",
    "\n",
    "template = kwant.continuum.discretize(str(kpham), coords='z', \n",
    "                                      grid=grid_spacing)\n",
    "\n",
    "syst = kwant.Builder()\n",
    "syst.fill(template, shape, (0, ))\n",
    "syst = syst.finalized()\n",
    "\n",
    "N = len(syst.sites)\n",
    "momenta = np.linspace(-.3, .3, 81)\n",
    "energies_exact = np.array([calc_energy(k) for k in momenta])"
   ]
  },
  {
   "cell_type": "code",
   "execution_count": null,
   "metadata": {},
   "outputs": [],
   "source": [
    "ylims = (500-5, 530+5)\n",
    "xlims = (-.3, .3)\n",
    "\n",
    "window = (.500, .530)\n",
    "\n",
    "plt.plot(momenta, 1000 * energies_exact, 'k-');\n",
    "plt.plot(xlims, 1000 * np.array([window, window]))\n",
    "plt.ylim(*ylims)\n",
    "plt.xlim(*xlims)"
   ]
  },
  {
   "cell_type": "markdown",
   "metadata": {},
   "source": [
    "# prepare perturbation basis"
   ]
  },
  {
   "cell_type": "code",
   "execution_count": null,
   "metadata": {},
   "outputs": [],
   "source": [
    "def find_indices(ev, lower, upper):\n",
    "    return [i for (i, e) in enumerate(ev) if lower < e < upper]"
   ]
  },
  {
   "cell_type": "code",
   "execution_count": null,
   "metadata": {},
   "outputs": [],
   "source": [
    "# for simplicity lets import everything now\n",
    "from codes.lowdin import *\n",
    "\n",
    "gens = sympy.symbols(['k_x', 'k_y'])\n",
    "H0, H1 = prepare_hamiltonian(\n",
    "    kpham, gens, 'z', grid_spacing, shape, (0,)\n",
    ")\n",
    "\n",
    "M = np.diag([1/2, -1/2, 3/2, 1/2, -1/2, -3/2, 1/2, -1/2])\n",
    "bigM = kwant.operator.Density(H0, M).tocoo().toarray()"
   ]
  },
  {
   "cell_type": "markdown",
   "metadata": {},
   "source": [
    "## Full diagonalisation: we know everything"
   ]
  },
  {
   "cell_type": "code",
   "execution_count": null,
   "metadata": {},
   "outputs": [],
   "source": [
    "mat0 = H0.hamiltonian_submatrix(params=params)\n",
    "mat1 = {k: v.hamiltonian_submatrix(params=params) \n",
    "        for k, v in H1.items()}\n",
    "\n",
    "ev, evec = la.eigh(mat0)\n",
    "indices = find_indices(ev, *window)\n",
    "\n",
    "U, evs = decouple_basis([bigM, mat0], evec[:, indices])\n",
    "\n",
    "# ev[indices] = evs[-1]\n",
    "# evec[:, indices] = evec[:, indices] @ U\n",
    "# apply_smart_gauge(evec)        "
   ]
  },
  {
   "cell_type": "markdown",
   "metadata": {},
   "source": [
    "## Old lowdin at higher order"
   ]
  },
  {
   "cell_type": "code",
   "execution_count": null,
   "metadata": {},
   "outputs": [],
   "source": [
    "import codes.old_lowdin as olo"
   ]
  },
  {
   "cell_type": "code",
   "execution_count": null,
   "metadata": {},
   "outputs": [],
   "source": [
    "from importlib import reload\n",
    "olo = reload(olo)"
   ]
  },
  {
   "cell_type": "code",
   "execution_count": null,
   "metadata": {},
   "outputs": [],
   "source": [
    "gens = sympy.symbols('k_x k_y')\n",
    "inter_keys = olo.get_maximum_powers(gens, 4)\n",
    "\n",
    "model = olo.get_effective_model(ev, evec, indices, mat1, inter_keys)\n",
    "\n",
    "ham = sympy.expand(model.tosympy())"
   ]
  },
  {
   "cell_type": "code",
   "execution_count": null,
   "metadata": {},
   "outputs": [],
   "source": [
    "inter_keys"
   ]
  },
  {
   "cell_type": "code",
   "execution_count": null,
   "metadata": {},
   "outputs": [],
   "source": [
    "model_old = model\n",
    "ham"
   ]
  },
  {
   "cell_type": "markdown",
   "metadata": {},
   "source": [
    "## KPM lowdin at higher order"
   ]
  },
  {
   "cell_type": "code",
   "execution_count": null,
   "metadata": {},
   "outputs": [],
   "source": [
    "import codes.higher_order_lowdin as nlo"
   ]
  },
  {
   "cell_type": "code",
   "execution_count": null,
   "metadata": {},
   "outputs": [],
   "source": [
    "from importlib import reload\n",
    "nlo = reload(nlo)"
   ]
  },
  {
   "cell_type": "code",
   "execution_count": null,
   "metadata": {},
   "outputs": [],
   "source": [
    "kpm_params = dict(num_moments=1000)\n",
    "gens = sympy.symbols('k_x k_y')\n",
    "inter_keys = nlo.get_maximum_powers(gens, 4)\n",
    "\n",
    "evec_A = evec[:, indices].T.conj()\n",
    "model = nlo.get_effective_model(mat0, mat1, evec_A, inter_keys, order=4, kpm_params=kpm_params)\n",
    "\n",
    "ham = sympy.expand(model.tosympy(digits=4))"
   ]
  },
  {
   "cell_type": "code",
   "execution_count": null,
   "metadata": {},
   "outputs": [],
   "source": [
    "inter_keys"
   ]
  },
  {
   "cell_type": "code",
   "execution_count": null,
   "metadata": {},
   "outputs": [],
   "source": [
    "model_new = model\n",
    "ham"
   ]
  },
  {
   "cell_type": "code",
   "execution_count": null,
   "metadata": {},
   "outputs": [],
   "source": [
    "for key in model_old.keys():\n",
    "    assert np.allclose(model_old[key], model_new[key], atol=1e-2), (key, model_old[key] - model_new[key])"
   ]
  },
  {
   "cell_type": "markdown",
   "metadata": {},
   "source": [
    "## Old lowdin at higher order"
   ]
  },
  {
   "cell_type": "code",
   "execution_count": null,
   "metadata": {},
   "outputs": [],
   "source": [
    "from importlib import reload\n",
    "olo = reload(olo)"
   ]
  },
  {
   "cell_type": "code",
   "execution_count": null,
   "metadata": {},
   "outputs": [],
   "source": [
    "# Simple model\n",
    "ev = np.array([1., 5.])\n",
    "mat0 = np.diag(ev)\n",
    "mat1 = {sympy.Symbol('x'): np.array([[0, 1.], [1., 0]])}\n",
    "evec = np.eye(2)\n",
    "indices = [0]"
   ]
  },
  {
   "cell_type": "code",
   "execution_count": null,
   "metadata": {},
   "outputs": [],
   "source": [
    "gens = [sympy.symbols('x')]\n",
    "inter_keys = olo.get_maximum_powers(gens, 2)\n",
    "\n",
    "model = olo.get_effective_model(ev, evec, indices, mat1, inter_keys)\n",
    "\n",
    "ham = sympy.expand(model.tosympy())"
   ]
  },
  {
   "cell_type": "code",
   "execution_count": null,
   "metadata": {},
   "outputs": [],
   "source": [
    "inter_keys"
   ]
  },
  {
   "cell_type": "code",
   "execution_count": null,
   "metadata": {},
   "outputs": [],
   "source": [
    "model_old = model\n",
    "ham"
   ]
  },
  {
   "cell_type": "markdown",
   "metadata": {},
   "source": [
    "## KPM lowdin at higher order"
   ]
  },
  {
   "cell_type": "code",
   "execution_count": null,
   "metadata": {},
   "outputs": [],
   "source": [
    "import codes.higher_order_lowdin as nlo"
   ]
  },
  {
   "cell_type": "code",
   "execution_count": null,
   "metadata": {},
   "outputs": [],
   "source": [
    "from importlib import reload\n",
    "nlo = reload(nlo)"
   ]
  },
  {
   "cell_type": "code",
   "execution_count": null,
   "metadata": {},
   "outputs": [],
   "source": [
    "kpm_params = dict(num_moments=1000)\n",
    "inter_keys = nlo.get_maximum_powers(gens, 2)\n",
    "\n",
    "model = nlo.get_effective_model(mat0, mat1, evec.T.conj()[indices], inter_keys, order=2, kpm_params=kpm_params)\n",
    "\n",
    "ham = sympy.expand(model.tosympy(digits=4))"
   ]
  },
  {
   "cell_type": "code",
   "execution_count": null,
   "metadata": {},
   "outputs": [],
   "source": [
    "inter_keys"
   ]
  },
  {
   "cell_type": "code",
   "execution_count": null,
   "metadata": {},
   "outputs": [],
   "source": [
    "model_new = model\n",
    "ham"
   ]
  },
  {
   "cell_type": "code",
   "execution_count": null,
   "metadata": {},
   "outputs": [],
   "source": [
    "for key in model_old.keys():\n",
    "    assert np.allclose(model_old[key], model_new[key], atol=1e-2), (key, model_old[key] - model_new[key])"
   ]
  },
  {
   "cell_type": "markdown",
   "metadata": {},
   "source": [
    "## Sparse diagonalisation: we know subset of states"
   ]
  },
  {
   "cell_type": "code",
   "execution_count": null,
   "metadata": {},
   "outputs": [],
   "source": [
    "# prepare subspace (like input from sparse diag)\n",
    "indices = find_indices(ev, *window)\n",
    "subspace_slice = slice(indices[0] - 20, indices[-1] + 20 + 1)\n",
    "energies = ev[subspace_slice]\n",
    "subspace = evec[:, subspace_slice]"
   ]
  },
  {
   "cell_type": "code",
   "execution_count": null,
   "metadata": {},
   "outputs": [],
   "source": [
    "# %%time\n",
    "\n",
    "# import scipy.sparse.linalg as sla\n",
    "\n",
    "# mat0 = H0.hamiltonian_submatrix(params=params, sparse=True)\n",
    "# mat1 = {k: v.hamiltonian_submatrix(params=params, sparse=True) \n",
    "#         for k, v in H1.items()}\n",
    "\n",
    "# energies, subspace = sla.eigsh(mat0, sigma=.520, k=10)\n",
    "# subspace, _ = la.qr(subspace, mode='economic')\n",
    "\n",
    "# indices = find_indices(energies, *window)\n",
    "\n",
    "# U, evs = decouple_basis([bigM, mat0], subspace[:, indices])\n",
    "# energies[indices] = evs[-1]\n",
    "\n",
    "# subspace[:, indices] = subspace[:, indices] @ U\n",
    "# apply_smart_gauge(subspace)     "
   ]
  },
  {
   "cell_type": "markdown",
   "metadata": {},
   "source": [
    "### 1. We know all states in the system"
   ]
  },
  {
   "cell_type": "code",
   "execution_count": null,
   "metadata": {},
   "outputs": [],
   "source": [
    "%%time\n",
    "\n",
    "# ev, evec - all eigenvalues and eigenstates of H0\n",
    "# indices - states of the group A\n",
    "indices = find_indices(ev, *window)\n",
    "\n",
    "M0_1 = (evec[:, indices].T.conj() @ mat0 @ evec[:, indices]).diagonal().real\n",
    "M1_1 = first_order(mat1, evec[:, indices])\n",
    "M2_1 = second_order_explicit(mat1, ev, evec, indices)"
   ]
  },
  {
   "cell_type": "markdown",
   "metadata": {},
   "source": [
    "### 2. We know only states we want to include in the effective model"
   ]
  },
  {
   "cell_type": "code",
   "execution_count": null,
   "metadata": {},
   "outputs": [],
   "source": [
    "# %%time\n",
    "\n",
    "# energies, subspace - k eigenvalues and eigenstates of H0\n",
    "# indices - states of the group A\n",
    "indices = find_indices(energies, *window)\n",
    "\n",
    "M0_2 = (subspace[:, indices].T.conj() @ mat0 @ subspace[:, indices]).diagonal().real\n",
    "M1_2 = first_order(mat1, subspace[:, indices])\n",
    "M2_2 = second_order_kpm(mat0, mat1, energies[indices], subspace[:, indices])"
   ]
  },
  {
   "cell_type": "markdown",
   "metadata": {},
   "source": [
    "### 3. We know states we want to include and some close states"
   ]
  },
  {
   "cell_type": "code",
   "execution_count": null,
   "metadata": {},
   "outputs": [],
   "source": [
    "%%time\n",
    "\n",
    "# energies, subspace - k eigenvalues and eigenstates of H0\n",
    "# indices - states of the group A\n",
    "indices = find_indices(energies, *window)\n",
    "\n",
    "M0_3 = (subspace[:, indices].T.conj() @ mat0 @ subspace[:, indices]).diagonal().real\n",
    "M1_3 = first_order(mat1, subspace[:, indices])\n",
    "M2_3_exp = second_order_explicit(mat1, energies, subspace, indices)\n",
    "M2_3_kpm = second_order_kpm(mat0, mat1, energies, subspace, indices)"
   ]
  },
  {
   "cell_type": "markdown",
   "metadata": {},
   "source": [
    "# Look into the effective models"
   ]
  },
  {
   "cell_type": "code",
   "execution_count": null,
   "metadata": {},
   "outputs": [],
   "source": [
    "smp_1 = sympify_perturbation(M0_1, components=[M1_1, M2_1], decimals=4)\n",
    "smp_2 = sympify_perturbation(M0_2, components=[M1_2, M2_2], decimals=4)\n",
    "smp_3 = sympify_perturbation(M0_3, components=[M1_3, M2_3_exp, M2_3_kpm], decimals=4)"
   ]
  },
  {
   "cell_type": "code",
   "execution_count": null,
   "metadata": {},
   "outputs": [],
   "source": [
    "smp_1"
   ]
  },
  {
   "cell_type": "code",
   "execution_count": null,
   "metadata": {},
   "outputs": [],
   "source": [
    "smp_2"
   ]
  },
  {
   "cell_type": "code",
   "execution_count": null,
   "metadata": {},
   "outputs": [],
   "source": [
    "smp_3"
   ]
  },
  {
   "cell_type": "markdown",
   "metadata": {},
   "source": [
    "## compare with exact solution"
   ]
  },
  {
   "cell_type": "code",
   "execution_count": null,
   "metadata": {},
   "outputs": [],
   "source": [
    "def calc_energy(model, k):\n",
    "    p = {'k_x': k, 'k_y': 0}\n",
    "    mat = model(**p)\n",
    "    return la.eigvalsh(mat)\n",
    "\n",
    "\n",
    "model = kwant.continuum.lambdify(smp_1)\n",
    "energies_eff_1 = np.array([calc_energy(model, k) for k in momenta])\n",
    "\n",
    "model = kwant.continuum.lambdify(smp_2)\n",
    "energies_eff_2 = np.array([calc_energy(model, k) for k in momenta])\n",
    "\n",
    "model = kwant.continuum.lambdify(smp_3)\n",
    "energies_eff_3 = np.array([calc_energy(model, k) for k in momenta])"
   ]
  },
  {
   "cell_type": "code",
   "execution_count": null,
   "metadata": {},
   "outputs": [],
   "source": [
    "plt.plot(momenta, 1000 * energies_exact, 'k-');\n",
    "plt.plot(momenta, 1000 * energies_eff_1, 'r-');\n",
    "plt.plot(momenta, 1000 * energies_eff_2, 'g--');\n",
    "plt.plot(momenta, 1000 * energies_eff_3, 'b-.');\n",
    "\n",
    "plt.plot(xlims, 1000 * np.array([window, window]))\n",
    "plt.ylim(*ylims)\n",
    "plt.xlim(*xlims)"
   ]
  },
  {
   "cell_type": "markdown",
   "metadata": {},
   "source": [
    "# check convergence"
   ]
  },
  {
   "cell_type": "code",
   "execution_count": null,
   "metadata": {},
   "outputs": [],
   "source": [
    "def difference_kpm(kpm):\n",
    "    M2 = M2_1\n",
    "    \n",
    "    assert set(M2) == set(kpm)\n",
    "    output = 0\n",
    "    for key, val in M2.items():\n",
    "        output += la.norm(val - kpm[key])\n",
    "    return output\n",
    "    \n",
    "    \n",
    "def difference_mixed(exp, kpm):\n",
    "    M2 = M2_1\n",
    "    assert set(M2) == set(kpm)\n",
    "    assert set(exp) == set(kpm)\n",
    "    \n",
    "    output = 0\n",
    "    for key, val in M2.items():\n",
    "        output += la.norm(val - kpm[key] - exp[key])\n",
    "    return output\n",
    "    "
   ]
  },
  {
   "cell_type": "code",
   "execution_count": null,
   "metadata": {},
   "outputs": [],
   "source": [
    "moments = range(1000, 10000, 2000)\n",
    "\n",
    "\n",
    "kpm_ds = []\n",
    "mixed_ds = []\n",
    "\n",
    "indices = find_indices(energies, *window)\n",
    "mixed_exp = second_order_explicit(mat1, energies, subspace, indices)\n",
    "\n",
    "for num_moments in moments:\n",
    "    print(num_moments)\n",
    "    \n",
    "    kpm = second_order_kpm(mat0, mat1, energies[indices], subspace[:, indices], num_moments=num_moments)    \n",
    "    mixed_kpm = second_order_kpm(mat0, mat1, energies, subspace, indices, num_moments=num_moments)\n",
    "    \n",
    "    kpm_ds.append(difference_kpm(kpm))\n",
    "    mixed_ds.append(difference_mixed(mixed_exp, mixed_kpm))\n",
    "    "
   ]
  },
  {
   "cell_type": "code",
   "execution_count": null,
   "metadata": {},
   "outputs": [],
   "source": [
    "plt.plot(moments, kpm_ds, 'ro-', label='kpm')\n",
    "plt.plot(moments, mixed_ds, 'bo-', label='mixed')\n",
    "plt.ylabel('|explicit - kpm|')\n",
    "plt.xlabel('# moments')\n",
    "plt.ylim(1e-6, 1)\n",
    "plt.yscale('log')\n",
    "plt.grid()\n",
    "plt.legend()"
   ]
  },
  {
   "cell_type": "code",
   "execution_count": null,
   "metadata": {},
   "outputs": [],
   "source": []
  }
 ],
 "metadata": {
  "kernelspec": {
   "display_name": "kpm_pro",
   "language": "python",
   "name": "kpm_pro"
  },
  "language_info": {
   "codemirror_mode": {
    "name": "ipython",
    "version": 3
   },
   "file_extension": ".py",
   "mimetype": "text/x-python",
   "name": "python",
   "nbconvert_exporter": "python",
   "pygments_lexer": "ipython3",
   "version": "3.6.3"
  }
 },
 "nbformat": 4,
 "nbformat_minor": 2
}
