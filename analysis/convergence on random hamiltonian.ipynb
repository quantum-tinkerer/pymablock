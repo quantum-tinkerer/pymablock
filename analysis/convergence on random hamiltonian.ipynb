{
 "cells": [
  {
   "cell_type": "markdown",
   "metadata": {},
   "source": [
    "# on improving lowdin with kpm"
   ]
  },
  {
   "cell_type": "markdown",
   "metadata": {},
   "source": [
    "## imports here"
   ]
  },
  {
   "cell_type": "code",
   "execution_count": 1,
   "metadata": {},
   "outputs": [],
   "source": [
    "import kwant\n",
    "import numpy as np\n",
    "import scipy.linalg as la\n",
    "import scipy.sparse as sla\n",
    "\n",
    "import itertools\n",
    "\n",
    "import matplotlib.pyplot as plt\n",
    "%matplotlib inline"
   ]
  },
  {
   "cell_type": "markdown",
   "metadata": {},
   "source": [
    "## prepare random Hamiltonian"
   ]
  },
  {
   "cell_type": "code",
   "execution_count": 2,
   "metadata": {},
   "outputs": [],
   "source": [
    "def H0_random(nA=4, nB=1000, gap=1, epsilonA=.2, epsilonB=100):\n",
    "    \"\"\"Generate random Hamiltonian with quasi-degenerate states.\"\"\"\n",
    "    energiesA = epsilonA * np.random.random(nA) - epsilonA / 2\n",
    "    \n",
    "    energiesB = epsilonB * np.random.random(nB) - epsilonB / 2\n",
    "    energiesB = energiesB[np.abs(energiesB) > gap/2]\n",
    "\n",
    "    energies = np.append(energiesA, energiesB)\n",
    "    U = kwant.rmt.circular(len(energies))\n",
    "    \n",
    "    return U.transpose().conjugate() @ np.diag(energies) @ U\n",
    "\n",
    "\n",
    "def H1_random(n, v=1):\n",
    "    return kwant.rmt.gaussian(n, v=v)"
   ]
  },
  {
   "cell_type": "code",
   "execution_count": 16,
   "metadata": {},
   "outputs": [],
   "source": [
    "alphas = np.linspace(0, .1, 100)\n",
    "np.random.seed(0)\n",
    "\n",
    "H0 = H0_random()        # This is H_0\n",
    "H1 = H1_random(len(H0)) # This is perturbation (H')\n",
    "\n",
    "H1 = {sympy.sympify('1'): H1}"
   ]
  },
  {
   "cell_type": "code",
   "execution_count": 17,
   "metadata": {},
   "outputs": [
    {
     "name": "stdout",
     "output_type": "stream",
     "text": [
      "CPU times: user 1.89 s, sys: 938 ms, total: 2.82 s\n",
      "Wall time: 853 ms\n"
     ]
    }
   ],
   "source": [
    "%%time\n",
    "ev, evec = la.eigh(H0)\n",
    "\n",
    "window = (-.25, +.25)\n",
    "indices = [i for (i, e) in enumerate(ev) if window[0] < e < window[1]]"
   ]
  },
  {
   "cell_type": "markdown",
   "metadata": {},
   "source": [
    "# 2nd order explicit"
   ]
  },
  {
   "cell_type": "code",
   "execution_count": 18,
   "metadata": {},
   "outputs": [],
   "source": [
    "from codes.lowdin import second_order_explicit"
   ]
  },
  {
   "cell_type": "code",
   "execution_count": 19,
   "metadata": {},
   "outputs": [],
   "source": [
    "import sympy"
   ]
  },
  {
   "cell_type": "code",
   "execution_count": 20,
   "metadata": {},
   "outputs": [
    {
     "name": "stdout",
     "output_type": "stream",
     "text": [
      "CPU times: user 1min 2s, sys: 6.76 s, total: 1min 9s\n",
      "Wall time: 18.2 s\n"
     ]
    }
   ],
   "source": [
    "%%time\n",
    "M2 = second_order_explicit(H1, indices, ev, evec)"
   ]
  },
  {
   "cell_type": "code",
   "execution_count": 21,
   "metadata": {},
   "outputs": [
    {
     "data": {
      "text/plain": [
       "array([[  4.73591262-1.58341610e-14j,   4.49298354+1.53219972e+01j,\n",
       "         11.09941547+8.33100822e+00j,   6.6342512 -3.91349775e+00j],\n",
       "       [  4.49298354-1.53219972e+01j,  -7.6074447 +1.64686892e-14j,\n",
       "         12.75420406-5.06338852e+00j,  -1.52861888+1.70405836e+00j],\n",
       "       [ 11.09941547-8.33100822e+00j,  12.75420406+5.06338852e+00j,\n",
       "         10.01106784-1.36318226e-14j,  -8.22896225-1.95569428e+01j],\n",
       "       [  6.6342512 +3.91349775e+00j,  -1.52861888-1.70405836e+00j,\n",
       "         -8.22896225+1.95569428e+01j, -11.84472949+8.46230876e-15j]])"
      ]
     },
     "execution_count": 21,
     "metadata": {},
     "output_type": "execute_result"
    }
   ],
   "source": [
    "M2[1, 1]"
   ]
  },
  {
   "cell_type": "markdown",
   "metadata": {},
   "source": [
    "# 2nd order KPM"
   ]
  },
  {
   "cell_type": "code",
   "execution_count": 23,
   "metadata": {},
   "outputs": [],
   "source": [
    "from codes.lowdin import second_order_kpm"
   ]
  },
  {
   "cell_type": "code",
   "execution_count": 24,
   "metadata": {},
   "outputs": [
    {
     "name": "stdout",
     "output_type": "stream",
     "text": [
      "CPU times: user 14 s, sys: 2.09 s, total: 16.1 s\n",
      "Wall time: 13.5 s\n"
     ]
    }
   ],
   "source": [
    "%%time\n",
    "M2_kpm = second_order_kpm(H0, H1, ev[indices], evec[:, indices], \n",
    "                          num_moments=1500)"
   ]
  },
  {
   "cell_type": "code",
   "execution_count": 25,
   "metadata": {},
   "outputs": [
    {
     "data": {
      "text/plain": [
       "array([[  4.85552915 +0.j        ,   4.39555798+15.28320118j,\n",
       "         11.44747677 +8.45728259j,   6.79190905 -3.85312289j],\n",
       "       [  4.39555798-15.28320118j,  -7.71223328 +0.j        ,\n",
       "         12.95227229 -5.02672698j,  -1.57830357 +1.65818185j],\n",
       "       [ 11.44747677 -8.45728259j,  12.95227229 +5.02672698j,\n",
       "          9.75602829 +0.j        ,  -8.44467069-19.69761191j],\n",
       "       [  6.79190905 +3.85312289j,  -1.57830357 -1.65818185j,\n",
       "         -8.44467069+19.69761191j, -12.07591632 +0.j        ]])"
      ]
     },
     "execution_count": 25,
     "metadata": {},
     "output_type": "execute_result"
    }
   ],
   "source": [
    "M2_kpm[1, 1]"
   ]
  },
  {
   "cell_type": "markdown",
   "metadata": {},
   "source": [
    "# Convergence"
   ]
  },
  {
   "cell_type": "code",
   "execution_count": 27,
   "metadata": {},
   "outputs": [],
   "source": [
    "def difference(kpm):\n",
    "    assert set(M2) == set(kpm)\n",
    "    output = 0\n",
    "    for key, val in kpm.items():\n",
    "        output += la.norm(val - M2[key])\n",
    "    return output"
   ]
  },
  {
   "cell_type": "code",
   "execution_count": 28,
   "metadata": {},
   "outputs": [
    {
     "name": "stdout",
     "output_type": "stream",
     "text": [
      "100\n",
      "600\n",
      "1100\n",
      "1600\n",
      "2100\n",
      "2600\n",
      "3100\n",
      "3600\n",
      "4100\n",
      "4600\n"
     ]
    }
   ],
   "source": [
    "moments = range(100, 5000, 500)\n",
    "\n",
    "\n",
    "ds = []\n",
    "for num_moment in moments:\n",
    "    print(num_moment)\n",
    "    kpm = second_order_kpm(\n",
    "        H0, H1, ev[indices], evec[:, indices], num_moments=num_moment\n",
    "    )\n",
    "    ds.append(difference(kpm))\n",
    "    "
   ]
  },
  {
   "cell_type": "code",
   "execution_count": 29,
   "metadata": {},
   "outputs": [
    {
     "data": {
      "image/png": "[encoded data removed]",
      "text/plain": [
       "<Figure size 432x288 with 1 Axes>"
      ]
     },
     "metadata": {},
     "output_type": "display_data"
    }
   ],
   "source": [
    "plt.plot(moments, ds, 'o-')\n",
    "plt.ylabel('|explicit - kpm|')\n",
    "plt.xlabel('# moments')\n",
    "plt.ylim(0, 2)\n",
    "plt.grid()"
   ]
  }
 ],
 "metadata": {
  "kernelspec": {
   "display_name": "Python [conda env:kwant]",
   "language": "python",
   "name": "conda-env-kwant-py"
  },
  "language_info": {
   "codemirror_mode": {
    "name": "ipython",
    "version": 3
   },
   "file_extension": ".py",
   "mimetype": "text/x-python",
   "name": "python",
   "nbconvert_exporter": "python",
   "pygments_lexer": "ipython3",
   "version": "3.6.5"
  }
 },
 "nbformat": 4,
 "nbformat_minor": 2
}
