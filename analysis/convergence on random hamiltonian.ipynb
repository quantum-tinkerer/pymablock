{
 "cells": [
  {
   "cell_type": "markdown",
   "metadata": {},
   "source": [
    "# on improving lowdin with kpm"
   ]
  },
  {
   "cell_type": "markdown",
   "metadata": {},
   "source": [
    "## imports here"
   ]
  },
  {
   "cell_type": "code",
   "execution_count": null,
   "metadata": {},
   "outputs": [],
   "source": [
    "import kwant\n",
    "import numpy as np\n",
    "import scipy.linalg as la\n",
    "import scipy.sparse as sla\n",
    "\n",
    "import itertools\n",
    "\n",
    "import matplotlib.pyplot as plt\n",
    "%matplotlib inline"
   ]
  },
  {
   "cell_type": "code",
   "execution_count": null,
   "metadata": {},
   "outputs": [],
   "source": [
    "import sympy"
   ]
  },
  {
   "cell_type": "markdown",
   "metadata": {},
   "source": [
    "## prepare random Hamiltonian"
   ]
  },
  {
   "cell_type": "code",
   "execution_count": null,
   "metadata": {},
   "outputs": [],
   "source": [
    "def H0_random(nA=4, nB=100, gap=1, epsilonA=0.2, epsilonB=10):\n",
    "    \"\"\"Generate random Hamiltonian with quasi-degenerate states.\"\"\"\n",
    "    energiesA = epsilonA * np.random.random(nA) - epsilonA / 2\n",
    "    \n",
    "    energiesB = epsilonB * np.random.random(nB) - epsilonB / 2\n",
    "    energiesB = energiesB[np.abs(energiesB) > gap/2]\n",
    "\n",
    "    energies = np.append(energiesA, energiesB)\n",
    "    U = kwant.rmt.circular(len(energies))\n",
    "    \n",
    "    return U.transpose().conjugate() @ np.diag(energies) @ U\n",
    "\n",
    "\n",
    "def H1_random(n, v=1):\n",
    "    return kwant.rmt.gaussian(n, v=v)"
   ]
  },
  {
   "cell_type": "code",
   "execution_count": null,
   "metadata": {},
   "outputs": [],
   "source": [
    "alphas = np.linspace(0, .1, 100)\n",
    "np.random.seed(0)\n",
    "\n",
    "H0 = H0_random()        # This is H_0\n",
    "H1 = H1_random(len(H0)) # This is perturbation (H')\n",
    "\n",
    "H1 = {sympy.sympify('1'): H1}"
   ]
  },
  {
   "cell_type": "code",
   "execution_count": null,
   "metadata": {},
   "outputs": [],
   "source": [
    "%%time\n",
    "ev, evec = la.eigh(H0)\n",
    "\n",
    "window = (-.25, +.25)\n",
    "indices = [i for (i, e) in enumerate(ev) if window[0] < e < window[1]]"
   ]
  },
  {
   "cell_type": "markdown",
   "metadata": {},
   "source": [
    "# 2nd order explicit"
   ]
  },
  {
   "cell_type": "code",
   "execution_count": null,
   "metadata": {},
   "outputs": [],
   "source": [
    "from codes.lowdin import second_order_explicit"
   ]
  },
  {
   "cell_type": "code",
   "execution_count": null,
   "metadata": {},
   "outputs": [],
   "source": [
    "import sympy"
   ]
  },
  {
   "cell_type": "code",
   "execution_count": null,
   "metadata": {},
   "outputs": [],
   "source": [
    "%%time\n",
    "M2 = second_order_explicit(H1, indices, ev, evec)"
   ]
  },
  {
   "cell_type": "code",
   "execution_count": null,
   "metadata": {},
   "outputs": [],
   "source": [
    "M2[1, 1]"
   ]
  },
  {
   "cell_type": "markdown",
   "metadata": {},
   "source": [
    "# 2nd order KPM"
   ]
  },
  {
   "cell_type": "code",
   "execution_count": null,
   "metadata": {},
   "outputs": [],
   "source": [
    "from codes.lowdin import second_order_kpm"
   ]
  },
  {
   "cell_type": "code",
   "execution_count": null,
   "metadata": {},
   "outputs": [],
   "source": [
    "%%time\n",
    "M2_kpm = second_order_kpm(H0, H1, ev[indices], evec[:, indices], \n",
    "                          num_moments=1500)"
   ]
  },
  {
   "cell_type": "code",
   "execution_count": null,
   "metadata": {},
   "outputs": [],
   "source": [
    "M2_kpm[1, 1]"
   ]
  },
  {
   "cell_type": "markdown",
   "metadata": {},
   "source": [
    "# Convergence"
   ]
  },
  {
   "cell_type": "code",
   "execution_count": null,
   "metadata": {},
   "outputs": [],
   "source": [
    "def difference(kpm):\n",
    "    assert set(M2) == set(kpm)\n",
    "    output = 0\n",
    "    for key, val in kpm.items():\n",
    "        output += la.norm(val - M2[key])\n",
    "    return output"
   ]
  },
  {
   "cell_type": "code",
   "execution_count": null,
   "metadata": {},
   "outputs": [],
   "source": [
    "moments = range(100, 5000, 500)\n",
    "\n",
    "\n",
    "ds = []\n",
    "for num_moment in moments:\n",
    "    print(num_moment)\n",
    "    kpm = second_order_kpm(\n",
    "        H0, H1, ev[indices], evec[:, indices], num_moments=num_moment\n",
    "    )\n",
    "    ds.append(difference(kpm))\n",
    "    "
   ]
  },
  {
   "cell_type": "code",
   "execution_count": null,
   "metadata": {},
   "outputs": [],
   "source": [
    "plt.plot(moments, ds, 'o-')\n",
    "plt.ylabel('|explicit - kpm|')\n",
    "plt.xlabel('# moments')\n",
    "plt.yscale('log')\n",
    "plt.grid()"
   ]
  }
 ],
 "metadata": {
  "kernelspec": {
   "display_name": "Python [conda env:kwant]",
   "language": "python",
   "name": "conda-env-kwant-py"
  },
  "language_info": {
   "codemirror_mode": {
    "name": "ipython",
    "version": 3
   },
   "file_extension": ".py",
   "mimetype": "text/x-python",
   "name": "python",
   "nbconvert_exporter": "python",
   "pygments_lexer": "ipython3",
   "version": "3.6.5"
  }
 },
 "nbformat": 4,
 "nbformat_minor": 2
}
