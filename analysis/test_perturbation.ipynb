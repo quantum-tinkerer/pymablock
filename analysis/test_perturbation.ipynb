{
 "cells": [
  {
   "cell_type": "code",
   "execution_count": null,
   "metadata": {},
   "outputs": [],
   "source": [
    "import numpy as np\n",
    "import scipy\n",
    "\n",
    "\n",
    "import kwant\n",
    "\n",
    "import holoviews as hv\n",
    "hv.notebook_extension()"
   ]
  },
  {
   "cell_type": "markdown",
   "metadata": {},
   "source": [
    "#### check kwant version and use proper vector factory"
   ]
  },
  {
   "cell_type": "code",
   "execution_count": null,
   "metadata": {},
   "outputs": [],
   "source": [
    "from functools import partial\n",
    "from codes.kpm_funcs import build_greens_function, build_perturbation, proj, exact_greens_function"
   ]
  },
  {
   "cell_type": "markdown",
   "metadata": {},
   "source": [
    "### definition of initial Hamiltonian and perturbation"
   ]
  },
  {
   "cell_type": "code",
   "execution_count": null,
   "metadata": {},
   "outputs": [],
   "source": [
    "def H0_random(nA=4, nB=100, gap=1, epsilonA=0.2, epsilonB=10):\n",
    "    \"\"\"Generate random Hamiltonian with quasi-degenerate states.\"\"\"\n",
    "    energiesA = epsilonA * np.random.random(nA) - epsilonA / 2\n",
    "    \n",
    "    energiesB = epsilonB * np.random.random(nB) - epsilonB / 2\n",
    "    energiesB = energiesB[np.abs(energiesB) > gap/2]\n",
    "\n",
    "    energies = np.append(energiesA, energiesB)\n",
    "    U = kwant.rmt.circular(len(energies))\n",
    "    \n",
    "    return np.diag(energies)#U.transpose().conjugate() @ np.diag(energies) @ U\n",
    "\n",
    "\n",
    "def H1_random(n, v=0.1):\n",
    "    return kwant.rmt.gaussian(n, v=v)\n",
    "\n",
    "alphas = np.linspace(0, 1, 100)\n",
    "np.random.seed(1)\n",
    "\n",
    "H0 = H0_random()        # This is H_0\n",
    "H1 = H1_random(len(H0)) # This is perturbation (H')\n",
    "\n",
    "energies = []\n",
    "for alpha in alphas:\n",
    "    e = np.linalg.eigh(H0 + alpha * H1)[0]\n",
    "    energies.append(e)"
   ]
  },
  {
   "cell_type": "code",
   "execution_count": null,
   "metadata": {},
   "outputs": [],
   "source": [
    "H0.shape"
   ]
  },
  {
   "cell_type": "code",
   "execution_count": null,
   "metadata": {},
   "outputs": [],
   "source": [
    "window = (-.25, +.25)\n",
    "eigenvalues0, evec = np.linalg.eigh(H0)\n",
    "\n",
    "indices = [i for (i, e) in enumerate(eigenvalues0) if window[0] < e < window[1]]\n",
    "n = len(indices)"
   ]
  },
  {
   "cell_type": "code",
   "execution_count": null,
   "metadata": {},
   "outputs": [],
   "source": [
    "bounds = (np.min(eigenvalues0)-0.05, np.max(eigenvalues0) + 0.05)"
   ]
  },
  {
   "cell_type": "code",
   "execution_count": null,
   "metadata": {},
   "outputs": [],
   "source": [
    "hv.Path((alphas, energies))[:,window[0]:window[1]]"
   ]
  },
  {
   "cell_type": "markdown",
   "metadata": {},
   "source": [
    "### kpm greens function"
   ]
  },
  {
   "cell_type": "markdown",
   "metadata": {},
   "source": [
    "### compare with exact calculation of Green's funciton"
   ]
  },
  {
   "cell_type": "code",
   "execution_count": null,
   "metadata": {},
   "outputs": [],
   "source": [
    "init_vector = np.exp(2j*np.pi*np.random.rand(2, H0.shape[0]))\n",
    "# init_vector = init_vector / np.linalg.norm(init_vector)"
   ]
  },
  {
   "cell_type": "code",
   "execution_count": null,
   "metadata": {},
   "outputs": [],
   "source": [
    "energies = np.linspace(bounds[0],bounds[1],200)"
   ]
  },
  {
   "cell_type": "code",
   "execution_count": null,
   "metadata": {},
   "outputs": [],
   "source": [
    "e = 0\n",
    "\n",
    "g_exact = exact_greens_function(H0)\n",
    "expanded_init_vector_exact = g_exact(init_vector, [e]*init_vector.shape[0])"
   ]
  },
  {
   "cell_type": "code",
   "execution_count": null,
   "metadata": {},
   "outputs": [],
   "source": [
    "init_vector.shape, expanded_init_vector_exact.shape"
   ]
  },
  {
   "cell_type": "code",
   "execution_count": null,
   "metadata": {},
   "outputs": [],
   "source": [
    "g_kpm = build_greens_function(H0, vectors=init_vector,\n",
    "                              kpm_params=dict(\n",
    "                                  bounds=bounds,\n",
    "                                  num_moments=600)\n",
    "                             )\n",
    "expanded_init_vectors_kpm = g_kpm(e)"
   ]
  },
  {
   "cell_type": "code",
   "execution_count": null,
   "metadata": {},
   "outputs": [],
   "source": [
    "expanded_init_vectors_kpm.shape"
   ]
  },
  {
   "cell_type": "code",
   "execution_count": null,
   "metadata": {},
   "outputs": [],
   "source": [
    "# average quotient of the two vectors\n",
    "np.mean(expanded_init_vector_exact/expanded_init_vectors_kpm, axis=1)"
   ]
  },
  {
   "cell_type": "markdown",
   "metadata": {},
   "source": [
    "#### compare absolute value and phase for the Green's function applied to one vector "
   ]
  },
  {
   "cell_type": "code",
   "execution_count": null,
   "metadata": {},
   "outputs": [],
   "source": [
    "expanded_init_vector_exact.shape, expanded_init_vectors_kpm.shape"
   ]
  },
  {
   "cell_type": "code",
   "execution_count": null,
   "metadata": {},
   "outputs": [],
   "source": [
    "hv.Curve(np.linalg.norm(expanded_init_vector_exact, axis=0)) * hv.Curve(np.linalg.norm(expanded_init_vectors_kpm, axis=0))"
   ]
  },
  {
   "cell_type": "code",
   "execution_count": null,
   "metadata": {},
   "outputs": [],
   "source": [
    "hv.Curve(np.angle(expanded_init_vector_exact[0])) * hv.Curve(np.angle(expanded_init_vectors_kpm[0])) +\\\n",
    "hv.Curve(np.angle(expanded_init_vector_exact[1])) * hv.Curve(np.angle(expanded_init_vectors_kpm[1]))"
   ]
  },
  {
   "cell_type": "markdown",
   "metadata": {},
   "source": [
    "#### Green's function with exact and kpm methods"
   ]
  },
  {
   "cell_type": "code",
   "execution_count": null,
   "metadata": {},
   "outputs": [],
   "source": [
    "%%opts Scatter (color='r')\n",
    "g_exact = exact_greens_function(H0)\n",
    "g_sum_exact = []\n",
    "for e in energies:\n",
    "    expanded_vector_exact = g_exact(init_vector, [e]*init_vector.shape[0])\n",
    "    g_sum_exact.append(np.sum(init_vector.conj() * expanded_vector_exact, axis=1))\n",
    "g_sum_exact = np.array(g_sum_exact)\n",
    "hv.Path((energies, g_sum_exact.real)) * hv.Scatter((np.linalg.eigh(H0)[0], [0]*H0.shape[0]))"
   ]
  },
  {
   "cell_type": "code",
   "execution_count": null,
   "metadata": {},
   "outputs": [],
   "source": [
    "%%opts Scatter (color='r')\n",
    "# density of states = - 1/pi Im(G)\n",
    "hv.Path((energies,-1/np.pi*g_sum_exact.imag)) * hv.Scatter((np.linalg.eigh(H0)[0], [0]*H0.shape[0]))"
   ]
  },
  {
   "cell_type": "code",
   "execution_count": null,
   "metadata": {},
   "outputs": [],
   "source": [
    "%%opts Scatter (color='r')\n",
    "\n",
    "g_kpm = build_greens_function(\n",
    "    H0, vectors=init_vector,\n",
    "    kpm_params=dict(bounds=bounds, num_moments=1000))\n",
    "\n",
    "g_sum_kpm = []\n",
    "for e in energies:\n",
    "    expanded_vectors_kpm = g_kpm(e)\n",
    "    g_sum_kpm.append(np.sum(init_vector.conj() * expanded_vectors_kpm, axis=1) )\n",
    "g_sum_kpm = np.array(g_sum_kpm)\n",
    "hv.Path((energies, g_sum_kpm.real))[:,:] * hv.Scatter((np.linalg.eigh(H0)[0], [0]*H0.shape[0]))"
   ]
  },
  {
   "cell_type": "code",
   "execution_count": null,
   "metadata": {},
   "outputs": [],
   "source": [
    "%%opts Scatter (color='r')\n",
    "\n",
    "g_kpm = build_greens_function(\n",
    "    H0, vectors=init_vector,\n",
    "    kpm_params=dict(bounds=bounds, num_moments=1000))\n",
    "\n",
    "g_sum_kpm = []\n",
    "expanded_vectors_kpm = g_kpm(energies)\n",
    "g_sum_kpm = np.sum(init_vector.conj()[None,] * expanded_vectors_kpm, axis=2)\n",
    "hv.Path((energies, g_sum_kpm.real))[:,:] * hv.Scatter((np.linalg.eigh(H0)[0], [0]*H0.shape[0]))"
   ]
  },
  {
   "cell_type": "code",
   "execution_count": null,
   "metadata": {},
   "outputs": [],
   "source": [
    "expanded_vectors_kpm.shape, g_sum_kpm.shape"
   ]
  },
  {
   "cell_type": "code",
   "execution_count": null,
   "metadata": {},
   "outputs": [],
   "source": [
    "%%opts Scatter (color='r')\n",
    "# density of states = -1\\pi Im(G)\n",
    "hv.Path((energies, -1/np.pi*g_sum_kpm.imag)) * hv.Scatter((np.linalg.eigh(H0)[0], [0]*H0.shape[0]))"
   ]
  },
  {
   "cell_type": "markdown",
   "metadata": {},
   "source": [
    "#### build projectors over a subspace"
   ]
  },
  {
   "cell_type": "code",
   "execution_count": null,
   "metadata": {},
   "outputs": [],
   "source": [
    "window = (-.25, +.25)\n",
    "eigenvalues0, evec = np.linalg.eigh(H0)\n",
    "\n",
    "indices = [i for (i, e) in enumerate(eigenvalues0) if window[0] < e < window[1]]\n",
    "n = len(indices)"
   ]
  },
  {
   "cell_type": "code",
   "execution_count": null,
   "metadata": {},
   "outputs": [],
   "source": [
    "eigs_subspace = eigenvalues0[indices]\n",
    "vecs_subspace = evec[:, indices].T\n",
    "init_vector = (H1 @ vecs_subspace.T).T #np.exp(2j*np.pi*np.random.rand(1, H0.shape[0]))"
   ]
  },
  {
   "cell_type": "code",
   "execution_count": null,
   "metadata": {},
   "outputs": [],
   "source": [
    "init_vector.shape, vecs_subspace.shape"
   ]
  },
  {
   "cell_type": "code",
   "execution_count": null,
   "metadata": {},
   "outputs": [],
   "source": [
    "proj(init_vector, vecs_subspace).shape"
   ]
  },
  {
   "cell_type": "code",
   "execution_count": null,
   "metadata": {},
   "outputs": [],
   "source": [
    "init_vector.shape"
   ]
  },
  {
   "cell_type": "code",
   "execution_count": null,
   "metadata": {},
   "outputs": [],
   "source": [
    "hv.Scatter(np.abs(init_vector).flatten())"
   ]
  },
  {
   "cell_type": "code",
   "execution_count": null,
   "metadata": {},
   "outputs": [],
   "source": [
    "hv.Scatter(np.abs(proj(init_vector, vecs_subspace)).flatten())"
   ]
  },
  {
   "cell_type": "code",
   "execution_count": null,
   "metadata": {},
   "outputs": [],
   "source": [
    "np.linalg.norm(proj(init_vector, vecs_subspace))"
   ]
  },
  {
   "cell_type": "markdown",
   "metadata": {},
   "source": [
    "### perturbation elements of the matrix"
   ]
  },
  {
   "cell_type": "code",
   "execution_count": null,
   "metadata": {},
   "outputs": [],
   "source": [
    "eigenvalues0, psi0 = np.linalg.eigh(H0)\n",
    "kpm_params = dict(num_moments=1000, bounds=(-5,5))"
   ]
  },
  {
   "cell_type": "code",
   "execution_count": null,
   "metadata": {},
   "outputs": [],
   "source": [
    "eigenvalues0[indices]"
   ]
  },
  {
   "cell_type": "code",
   "execution_count": null,
   "metadata": {},
   "outputs": [],
   "source": [
    "psi0[:,indices].shape"
   ]
  },
  {
   "cell_type": "code",
   "execution_count": null,
   "metadata": {},
   "outputs": [],
   "source": [
    "hij2 = build_perturbation(eigenvalues0[indices], psi0[:,indices], H0, H1, kpm_params=kpm_params)"
   ]
  },
  {
   "cell_type": "code",
   "execution_count": null,
   "metadata": {},
   "outputs": [],
   "source": [
    "hij2.shape"
   ]
  },
  {
   "cell_type": "code",
   "execution_count": null,
   "metadata": {},
   "outputs": [],
   "source": [
    "np.allclose(hij2, hij2.conj().T)"
   ]
  },
  {
   "cell_type": "code",
   "execution_count": null,
   "metadata": {},
   "outputs": [],
   "source": [
    "hij2"
   ]
  },
  {
   "cell_type": "markdown",
   "metadata": {},
   "source": [
    "#### apply to a specific realization of $H_0$ and $H$"
   ]
  },
  {
   "cell_type": "code",
   "execution_count": null,
   "metadata": {},
   "outputs": [],
   "source": [
    "eigenvalues0, psi0 = np.linalg.eigh(H0)"
   ]
  },
  {
   "cell_type": "code",
   "execution_count": null,
   "metadata": {},
   "outputs": [],
   "source": [
    "rescaled_ham, (a0, b0) = kwant.kpm._rescale(H0, 0.0005, None, None)\n",
    "rescaled_ham, (a1, b1) = kwant.kpm._rescale(H0 + H1, 0.0005, None, None)"
   ]
  },
  {
   "cell_type": "code",
   "execution_count": null,
   "metadata": {},
   "outputs": [],
   "source": [
    "a0, a1, b0, b1"
   ]
  },
  {
   "cell_type": "code",
   "execution_count": null,
   "metadata": {},
   "outputs": [],
   "source": [
    "kpm_params = dict(bounds=(b0-a0, a0+b0))"
   ]
  },
  {
   "cell_type": "code",
   "execution_count": null,
   "metadata": {},
   "outputs": [],
   "source": [
    "eigenvalues, psi = np.linalg.eigh(H0 + H1)"
   ]
  },
  {
   "cell_type": "code",
   "execution_count": null,
   "metadata": {},
   "outputs": [],
   "source": [
    "window = (-.25, +.25)\n",
    "ev, evec = np.linalg.eigh(H0)\n",
    "\n",
    "indices = [i for (i, e) in enumerate(ev) if window[0] < e < window[1]]\n",
    "n = len(indices)"
   ]
  },
  {
   "cell_type": "markdown",
   "metadata": {},
   "source": [
    "#### first order correction"
   ]
  },
  {
   "cell_type": "code",
   "execution_count": null,
   "metadata": {},
   "outputs": [],
   "source": [
    "hij1 = psi0[:,indices].conj().T @ (H1 @ psi0[:,indices])"
   ]
  },
  {
   "cell_type": "code",
   "execution_count": null,
   "metadata": {},
   "outputs": [],
   "source": [
    "hij1.shape"
   ]
  },
  {
   "cell_type": "code",
   "execution_count": null,
   "metadata": {},
   "outputs": [],
   "source": [
    "np.allclose(hij1, hij1.conj().T)"
   ]
  },
  {
   "cell_type": "markdown",
   "metadata": {},
   "source": [
    "#### second order correction"
   ]
  },
  {
   "cell_type": "code",
   "execution_count": null,
   "metadata": {},
   "outputs": [],
   "source": [
    "kpm_params"
   ]
  },
  {
   "cell_type": "code",
   "execution_count": null,
   "metadata": {},
   "outputs": [],
   "source": [
    "kpm_params['num_moments'] = 1000"
   ]
  },
  {
   "cell_type": "code",
   "execution_count": null,
   "metadata": {},
   "outputs": [],
   "source": [
    "hij2 = build_perturbation(eigenvalues0[indices], psi0[:,indices], H0, H1, kpm_params=kpm_params)"
   ]
  },
  {
   "cell_type": "code",
   "execution_count": null,
   "metadata": {},
   "outputs": [],
   "source": [
    "hij2.shape"
   ]
  },
  {
   "cell_type": "code",
   "execution_count": null,
   "metadata": {},
   "outputs": [],
   "source": [
    "np.allclose(hij2, hij2.conj().T)"
   ]
  },
  {
   "cell_type": "code",
   "execution_count": null,
   "metadata": {},
   "outputs": [],
   "source": [
    "hij2"
   ]
  },
  {
   "cell_type": "code",
   "execution_count": null,
   "metadata": {},
   "outputs": [],
   "source": [
    "h_eff = np.diag(eigenvalues0[indices]) + hij1 + hij2"
   ]
  },
  {
   "cell_type": "code",
   "execution_count": null,
   "metadata": {},
   "outputs": [],
   "source": [
    "e_eff, psi_eff = np.linalg.eigh(h_eff)"
   ]
  },
  {
   "cell_type": "code",
   "execution_count": null,
   "metadata": {},
   "outputs": [],
   "source": [
    "# h1_eff and h2_eff\n",
    "\n",
    "eigs_exact = []\n",
    "eigs_eff1 = []\n",
    "eigs_eff2 = []\n",
    "alphas = np.logspace(-8, 0, 200)\n",
    "for alpha in alphas:\n",
    "    eigs_exact.append(np.linalg.eigh(H0 + alpha * H1)[0][indices])\n",
    "    eigs_eff1.append(np.linalg.eigh(np.diag(ev[indices])+\n",
    "                                   alpha * hij1\n",
    "                                  )[0]\n",
    "                   )\n",
    "    eigs_eff2.append(np.linalg.eigh(np.diag(ev[indices])+\n",
    "                                   alpha * hij1 +\n",
    "                                   alpha**2 * hij2\n",
    "                                  )[0]\n",
    "                   )\n",
    "eigs_exact = np.array(eigs_exact)\n",
    "eigs_eff1 = np.array(eigs_eff1)\n",
    "eigs_eff2 = np.array(eigs_eff2)"
   ]
  },
  {
   "cell_type": "code",
   "execution_count": null,
   "metadata": {},
   "outputs": [],
   "source": [
    "(\n",
    "    hv.Path((alphas, eigs_exact), kdims=[r'$\\alpha$', r'$\\epsilon$']) *\n",
    "    hv.Path((alphas, eigs_eff1), kdims=[r'$\\alpha$', r'$\\epsilon$']) *\n",
    "    hv.Path((alphas, eigs_eff2), kdims=[r'$\\alpha$', r'$\\epsilon$'])\n",
    ")[:,-0.35:0.35]"
   ]
  },
  {
   "cell_type": "code",
   "execution_count": null,
   "metadata": {},
   "outputs": [],
   "source": [
    "%%opts Overlay [logy=False]\n",
    "(\n",
    "    hv.Path((alphas, np.abs(eigs_exact-eigs_eff1)),\n",
    "           kdims=[r'$\\alpha$', 'diff']) *\n",
    "    hv.Path((alphas, np.abs(eigs_exact-eigs_eff2)),\n",
    "           kdims=[r'$\\alpha$', 'diff'])\n",
    ")[:,1e-8:]"
   ]
  },
  {
   "cell_type": "code",
   "execution_count": null,
   "metadata": {},
   "outputs": [],
   "source": [
    "%%opts Overlay [logx=True logy=True]\n",
    "(\n",
    "    hv.Path((alphas, np.abs(eigs_exact-eigs_eff1)),\n",
    "           kdims=[r'$\\alpha$', 'diff']) *\n",
    "    hv.Path((alphas, np.abs(eigs_exact-eigs_eff2)),\n",
    "            kdims=[r'$\\alpha$', 'diff'])\n",
    ")[1e-8:,1e-16:]"
   ]
  }
 ],
 "metadata": {
  "kernelspec": {
   "display_name": "Python 3",
   "language": "python",
   "name": "python3"
  },
  "language_info": {
   "codemirror_mode": {
    "name": "ipython",
    "version": 3
   },
   "file_extension": ".py",
   "mimetype": "text/x-python",
   "name": "python",
   "nbconvert_exporter": "python",
   "pygments_lexer": "ipython3",
   "version": "3.6.6"
  }
 },
 "nbformat": 4,
 "nbformat_minor": 2
}
