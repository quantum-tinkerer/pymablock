{
 "cells": [
  {
   "cell_type": "code",
   "execution_count": 453,
   "metadata": {},
   "outputs": [],
   "source": [
    "import numpy as np\n",
    "import kwant"
   ]
  },
  {
   "cell_type": "code",
   "execution_count": 454,
   "metadata": {},
   "outputs": [],
   "source": [
    "num_vectors = 3\n",
    "dim = 10\n",
    "ham = kwant.rmt.gaussian(dim)"
   ]
  },
  {
   "cell_type": "code",
   "execution_count": 455,
   "metadata": {},
   "outputs": [],
   "source": [
    "vectors = np.identity(dim)[:num_vectors]"
   ]
  },
  {
   "cell_type": "code",
   "execution_count": 456,
   "metadata": {},
   "outputs": [],
   "source": [
    "eigenvalues = np.diagonal(ham)[:num_vectors]"
   ]
  },
  {
   "cell_type": "code",
   "execution_count": 457,
   "metadata": {},
   "outputs": [
    {
     "data": {
      "text/plain": [
       "array([-0.86100547+0.j,  1.10731596+0.j, -1.72619685+0.j])"
      ]
     },
     "execution_count": 457,
     "metadata": {},
     "output_type": "execute_result"
    }
   ],
   "source": [
    "eigenvalues"
   ]
  },
  {
   "cell_type": "code",
   "execution_count": 458,
   "metadata": {},
   "outputs": [],
   "source": [
    "from kpm_funcs import _kernel, _make_vector_factory"
   ]
  },
  {
   "cell_type": "code",
   "execution_count": 459,
   "metadata": {},
   "outputs": [],
   "source": [
    "def build_greens_function(ham, params=None, vectors=None, kpm_params=dict()):\n",
    "    \"\"\"Build a Green's function operator.\n",
    "\n",
    "    Returns a function that takes a Fermi energy, and returns the\n",
    "    Green's function of the `vectors` over the occupied energies of the\n",
    "    Hamiltonian.\n",
    "\n",
    "    Parameters\n",
    "    ----------\n",
    "    ham : kwant.System or ndarray\n",
    "        Finalized kwant system or ndarray of the Hamiltonian.\n",
    "    params : dict, optional\n",
    "        Parameters for the kwant system.\n",
    "    vectors : ndarray (M,N), optional\n",
    "        Vectors upon which the projector will act. `M` is the\n",
    "        number of vectors and `N` the number of orbitals in the\n",
    "        system.\n",
    "    kpm_params : dict, optional\n",
    "        Dictionary containing the parameters to pass to the `~kwant.kpm`\n",
    "        module. 'num_vectors' will be overwritten to match the number\n",
    "        of vectors, and 'operator' key will be deleted.\n",
    "    \"\"\"\n",
    "    if vectors is None:\n",
    "        kpm_params['vector_factory'] = None\n",
    "    else:\n",
    "        vectors = np.atleast_2d(vectors)\n",
    "        num_vectors = vectors.shape[0]\n",
    "        kpm_params['num_vectors'] = num_vectors\n",
    "        kpm_params['vector_factory'] = _make_vector_factory(vectors)\n",
    "\n",
    "    # extract the number of moments or set default to 100\n",
    "    num_moments = kpm_params.get('num_moments', 100)\n",
    "    # prefactors of the kernel in kpm\n",
    "    m = np.arange(num_moments)\n",
    "    gs = _kernel(np.ones(num_moments))\n",
    "    gs[0] = gs[0] / 2\n",
    "\n",
    "    kpm_params['num_moments'] = num_moments\n",
    "    # overwrite operator to extract kpm expanded vectors only\n",
    "    kpm_params['operator'] = lambda bra, ket: ket\n",
    "\n",
    "    # calculate kpm expanded vectors\n",
    "    spectrum = kwant.kpm.SpectralDensity(ham, params=params, **kpm_params)\n",
    "    print('Bounds of initial hamiltonian', spectrum.bounds)\n",
    "    expanded_vectors = np.array(spectrum._moments_list)\n",
    "\n",
    "\n",
    "    def get_coefs(e_F):\n",
    "        # TODO put the proper coefficients here\n",
    "        e_F = np.atleast_1d(e_F)\n",
    "        e_rescaled = (e_F - spectrum._b) / spectrum._a\n",
    "        phi_e = np.arccos(e_rescaled)\n",
    "        prefactor = 2j / np.sqrt(1 - e_rescaled)\n",
    "        coef = gs * np.exp(-1j * np.outer(phi_e, m))\n",
    "        coef = prefactor[:, None] * coef\n",
    "        return coef\n",
    "\n",
    "    return lambda e_F : get_coefs(e_F) @ expanded_vectors.T"
   ]
  },
  {
   "cell_type": "code",
   "execution_count": 460,
   "metadata": {},
   "outputs": [],
   "source": [
    "params = None\n",
    "kpm_params = dict()\n",
    "\n",
    "if vectors is None:\n",
    "    kpm_params['vector_factory'] = None\n",
    "else:\n",
    "    num_vectors = vectors.shape[0]\n",
    "    kpm_params['num_vectors'] = num_vectors\n",
    "    kpm_params['vector_factory'] = _make_vector_factory(vectors)\n",
    "\n",
    "# extract the number of moments or set default to 100\n",
    "num_moments = kpm_params.get('num_moments', 100)\n",
    "kpm_params['num_moments'] = num_moments\n",
    "# overwrite operator to extract kpm expanded vectors only\n",
    "kpm_params['operator'] = lambda bra, ket: ket\n",
    "\n",
    "# calculate kpm expanded vectors\n",
    "spectrum = kwant.kpm.SpectralDensity(ham, params=params, **kpm_params)\n",
    "expanded_vectors = np.array(spectrum._moments_list)"
   ]
  },
  {
   "cell_type": "code",
   "execution_count": 461,
   "metadata": {},
   "outputs": [
    {
     "data": {
      "text/plain": [
       "(3, 100, 10)"
      ]
     },
     "execution_count": 461,
     "metadata": {},
     "output_type": "execute_result"
    }
   ],
   "source": [
    "expanded_vectors.shape"
   ]
  },
  {
   "cell_type": "code",
   "execution_count": 462,
   "metadata": {},
   "outputs": [],
   "source": [
    "e_F = [0, 1]\n",
    "# TODO put the proper coefficients here\n",
    "e_F = np.atleast_1d(e_F)\n",
    "e_rescaled = (e_F - spectrum._b) / spectrum._a\n",
    "phi_e = np.arccos(e_rescaled)\n",
    "prefactor = 2j / np.sqrt(1 - e_rescaled)\n",
    "m = np.arange(num_moments)\n",
    "gs = _kernel(np.ones(num_moments))"
   ]
  },
  {
   "cell_type": "code",
   "execution_count": 463,
   "metadata": {},
   "outputs": [
    {
     "data": {
      "text/plain": [
       "((2,), (2,), (2,), (2,), (100,), (100,))"
      ]
     },
     "execution_count": 463,
     "metadata": {},
     "output_type": "execute_result"
    }
   ],
   "source": [
    "e_F.shape, e_rescaled.shape, phi_e.shape, prefactor.shape, m.shape, gs.shape"
   ]
  },
  {
   "cell_type": "code",
   "execution_count": 464,
   "metadata": {},
   "outputs": [
    {
     "data": {
      "text/plain": [
       "(100, 2)"
      ]
     },
     "execution_count": 464,
     "metadata": {},
     "output_type": "execute_result"
    }
   ],
   "source": [
    "np.outer(m, phi_e).shape"
   ]
  },
  {
   "cell_type": "code",
   "execution_count": 465,
   "metadata": {},
   "outputs": [
    {
     "data": {
      "text/plain": [
       "(2, 100)"
      ]
     },
     "execution_count": 465,
     "metadata": {},
     "output_type": "execute_result"
    }
   ],
   "source": [
    "(gs * np.outer(phi_e, m)).shape"
   ]
  },
  {
   "cell_type": "code",
   "execution_count": 466,
   "metadata": {},
   "outputs": [
    {
     "data": {
      "text/plain": [
       "(2, 100)"
      ]
     },
     "execution_count": 466,
     "metadata": {},
     "output_type": "execute_result"
    }
   ],
   "source": [
    "(prefactor[:,None] * (gs * np.outer(phi_e, m))).shape"
   ]
  },
  {
   "cell_type": "code",
   "execution_count": 467,
   "metadata": {},
   "outputs": [
    {
     "data": {
      "text/plain": [
       "(2, 100)"
      ]
     },
     "execution_count": 467,
     "metadata": {},
     "output_type": "execute_result"
    }
   ],
   "source": [
    "coef = (prefactor[:,None] * (gs * np.outer(phi_e, m)))\n",
    "coef.shape"
   ]
  },
  {
   "cell_type": "code",
   "execution_count": 468,
   "metadata": {},
   "outputs": [
    {
     "data": {
      "text/plain": [
       "(3, 100, 10)"
      ]
     },
     "execution_count": 468,
     "metadata": {},
     "output_type": "execute_result"
    }
   ],
   "source": [
    "expanded_vectors.shape"
   ]
  },
  {
   "cell_type": "code",
   "execution_count": 469,
   "metadata": {},
   "outputs": [
    {
     "data": {
      "text/plain": [
       "(10, 100, 3)"
      ]
     },
     "execution_count": 469,
     "metadata": {},
     "output_type": "execute_result"
    }
   ],
   "source": [
    "(expanded_vectors.T).shape"
   ]
  },
  {
   "cell_type": "code",
   "execution_count": 470,
   "metadata": {},
   "outputs": [
    {
     "data": {
      "text/plain": [
       "(10, 2, 3)"
      ]
     },
     "execution_count": 470,
     "metadata": {},
     "output_type": "execute_result"
    }
   ],
   "source": [
    "(coef @ expanded_vectors.T).shape"
   ]
  },
  {
   "cell_type": "code",
   "execution_count": 471,
   "metadata": {},
   "outputs": [],
   "source": [
    "greens = (coef @ expanded_vectors.T)"
   ]
  },
  {
   "cell_type": "code",
   "execution_count": 472,
   "metadata": {},
   "outputs": [],
   "source": [
    "g = build_greens_function(ham, vectors=vectors)"
   ]
  },
  {
   "cell_type": "code",
   "execution_count": 473,
   "metadata": {},
   "outputs": [
    {
     "data": {
      "text/plain": [
       "(10, 2, 3)"
      ]
     },
     "execution_count": 473,
     "metadata": {},
     "output_type": "execute_result"
    }
   ],
   "source": [
    "g([0,1]).shape"
   ]
  },
  {
   "cell_type": "markdown",
   "metadata": {},
   "source": [
    "#### now build the perturbation matrix"
   ]
  },
  {
   "cell_type": "code",
   "execution_count": 474,
   "metadata": {},
   "outputs": [],
   "source": [
    "psi = g(eigenvalues[:2])"
   ]
  },
  {
   "cell_type": "code",
   "execution_count": 475,
   "metadata": {},
   "outputs": [
    {
     "data": {
      "text/plain": [
       "(10, 2, 3)"
      ]
     },
     "execution_count": 475,
     "metadata": {},
     "output_type": "execute_result"
    }
   ],
   "source": [
    "psi.shape"
   ]
  },
  {
   "cell_type": "code",
   "execution_count": 476,
   "metadata": {},
   "outputs": [],
   "source": [
    "# we want only the diagonal elements that map each vector to its eigenvalue\n",
    "psi_i = np.diagonal(psi, axis1=1, axis2=2)"
   ]
  },
  {
   "cell_type": "code",
   "execution_count": 477,
   "metadata": {},
   "outputs": [
    {
     "data": {
      "text/plain": [
       "(10, 2)"
      ]
     },
     "execution_count": 477,
     "metadata": {},
     "output_type": "execute_result"
    }
   ],
   "source": [
    "psi_i.shape"
   ]
  },
  {
   "cell_type": "code",
   "execution_count": 478,
   "metadata": {},
   "outputs": [
    {
     "data": {
      "text/plain": [
       "(2, 2)"
      ]
     },
     "execution_count": 478,
     "metadata": {},
     "output_type": "execute_result"
    }
   ],
   "source": [
    "(psi_i.conj().T @ psi_i).shape"
   ]
  },
  {
   "cell_type": "markdown",
   "metadata": {},
   "source": [
    "#### alternative way of calculating"
   ]
  },
  {
   "cell_type": "code",
   "execution_count": 479,
   "metadata": {},
   "outputs": [],
   "source": [
    "greens = lambda vec, e: build_greens_function(ham, vectors=vec)(e).squeeze()"
   ]
  },
  {
   "cell_type": "code",
   "execution_count": 480,
   "metadata": {},
   "outputs": [
    {
     "data": {
      "text/plain": [
       "(10,)"
      ]
     },
     "execution_count": 480,
     "metadata": {},
     "output_type": "execute_result"
    }
   ],
   "source": [
    "greens(vectors[0], eigenvalues[0]).shape"
   ]
  },
  {
   "cell_type": "code",
   "execution_count": 481,
   "metadata": {},
   "outputs": [],
   "source": [
    "psi_i = np.array([greens(vec, e) for (vec, e) in zip(vectors, eigenvalues)]).T"
   ]
  },
  {
   "cell_type": "code",
   "execution_count": 482,
   "metadata": {},
   "outputs": [
    {
     "data": {
      "text/plain": [
       "(10, 3)"
      ]
     },
     "execution_count": 482,
     "metadata": {},
     "output_type": "execute_result"
    }
   ],
   "source": [
    "psi_i.shape"
   ]
  },
  {
   "cell_type": "code",
   "execution_count": 483,
   "metadata": {},
   "outputs": [
    {
     "data": {
      "text/plain": [
       "(3, 3)"
      ]
     },
     "execution_count": 483,
     "metadata": {},
     "output_type": "execute_result"
    }
   ],
   "source": [
    "(psi_i.conj().T @ psi_i).shape"
   ]
  },
  {
   "cell_type": "markdown",
   "metadata": {},
   "source": [
    "### perturbation elements of the matrix"
   ]
  },
  {
   "cell_type": "code",
   "execution_count": 484,
   "metadata": {},
   "outputs": [],
   "source": [
    "import scipy"
   ]
  },
  {
   "cell_type": "code",
   "execution_count": 485,
   "metadata": {},
   "outputs": [],
   "source": [
    "def build_perturbation(eigenvalues, psi, ham, params=None):\n",
    "    \"\"\"Build the perturbation elements `<psi_i|H|psi_j>`.\n",
    "\n",
    "    Given a perturbed Hamiltonian `H`, we calculate the the\n",
    "    perturbation approximation of the effect of the complement\n",
    "    space `B` on the space `A`.\n",
    "    The vectors `psi` expand a space `A`, which complement is `B`.\n",
    "    `psi` are eigenvectors of `H_0` (not specified) with a\n",
    "    corresponding set of `eigenvalues`.\n",
    "\n",
    "    Parameters\n",
    "    ----------\n",
    "    eigenvalues : (M) array of floats\n",
    "        Eigenvalues of the eigenvectors `psi` of `H_0`.\n",
    "    psi : (M, N) ndarray\n",
    "        Vectors of length (N), the same as the system defined\n",
    "        by `ham`.\n",
    "    ham : kwant.System or ndarray\n",
    "        Finalized kwant system or ndarray of the Hamiltonian.\n",
    "    params : dict, optional\n",
    "        Parameters for the kwant system.\n",
    "\n",
    "    Returns\n",
    "    -------\n",
    "    ham_ij : (M, M) ndarray\n",
    "        Matrix elements of the second order perturbation\n",
    "        of subspace `A` due to the interaction `H` with\n",
    "        the subspace `B`.\n",
    "    \"\"\"\n",
    "    # Normalize the format of vectors\n",
    "    eigenvalues = np.atleast_1d(eigenvalues)\n",
    "    psi = np.atleast_2d(psi)\n",
    "    # Normalize the format of 'ham'\n",
    "    if isinstance(ham, kwant.system.System):\n",
    "        ham = ham.hamiltonian_submatrix(params=params, sparse=True)\n",
    "    try:\n",
    "        ham = scipy.sparse.csr_matrix(ham)\n",
    "    except Exception:\n",
    "        raise ValueError(\"'ham' is neither a matrix nor a Kwant system.\")\n",
    "\n",
    "    def proj_A(vec):\n",
    "        return (psi.conj() @ vec.T).T @ psi\n",
    "    def proj_B(vec):\n",
    "        return vec - (psi.conj() @ vec.T).T @ psi\n",
    "\n",
    "    # project the vectors to the subspace `B`\n",
    "    p_vectors = proj_B((ham @ psi.T).T)\n",
    "#     # Build the greens functions for these vectors\n",
    "#     green = build_greens_function(ham, params=params, vectors=p_vectors)\n",
    "#     psi_i = green(eigenvalues)\n",
    "#     # we want only the diagonal elements that map each vector to its eigenvalue\n",
    "#     psi_i = np.diagonal(psi_i, axis1=1, axis2=2)\n",
    "    \"\"\"\n",
    "    This is may be too much of computation, because this evaluates\n",
    "    the Green's function of each vector to every other energy.\n",
    "    It could be less expensive to build each green function and evaluate\n",
    "    it for each energy. Like this\n",
    "    \"\"\"\n",
    "    greens = lambda vec, e: build_greens_function(\n",
    "        ham, params=params, vectors=proj_B(vec))(e).squeeze()\n",
    "    psi_i = np.array([greens(vec, e)\n",
    "                      for (vec, e) in zip(p_vectors, eigenvalues)]).T\n",
    "    # evaluate for all the energies\n",
    "\n",
    "    ham_ij = psi_i.conj().T @ psi_i\n",
    "    return ham_ij"
   ]
  },
  {
   "cell_type": "code",
   "execution_count": 486,
   "metadata": {},
   "outputs": [],
   "source": [
    "vec = np.atleast_2d(vectors[0])"
   ]
  },
  {
   "cell_type": "code",
   "execution_count": 487,
   "metadata": {},
   "outputs": [],
   "source": [
    "psi = vectors"
   ]
  },
  {
   "cell_type": "code",
   "execution_count": 488,
   "metadata": {},
   "outputs": [
    {
     "data": {
      "text/plain": [
       "(1, 10)"
      ]
     },
     "execution_count": 488,
     "metadata": {},
     "output_type": "execute_result"
    }
   ],
   "source": [
    "vec.shape"
   ]
  },
  {
   "cell_type": "code",
   "execution_count": 489,
   "metadata": {},
   "outputs": [
    {
     "data": {
      "text/plain": [
       "array([[ 1.,  0.,  0.,  0.,  0.,  0.,  0.,  0.,  0.,  0.]])"
      ]
     },
     "execution_count": 489,
     "metadata": {},
     "output_type": "execute_result"
    }
   ],
   "source": [
    "(psi.conj() @ vec.T).T @ psi"
   ]
  },
  {
   "cell_type": "code",
   "execution_count": 490,
   "metadata": {},
   "outputs": [
    {
     "data": {
      "text/plain": [
       "array([[ 0.,  0.,  0.,  0.,  0.,  0.,  0.,  0.,  0.,  0.]])"
      ]
     },
     "execution_count": 490,
     "metadata": {},
     "output_type": "execute_result"
    }
   ],
   "source": [
    "vec - (psi.conj() @ vec.T).T @ psi"
   ]
  },
  {
   "cell_type": "code",
   "execution_count": null,
   "metadata": {},
   "outputs": [],
   "source": []
  },
  {
   "cell_type": "code",
   "execution_count": 491,
   "metadata": {},
   "outputs": [],
   "source": [
    "vec = (ham @ vec.T).T"
   ]
  },
  {
   "cell_type": "code",
   "execution_count": 492,
   "metadata": {},
   "outputs": [
    {
     "data": {
      "text/plain": [
       "(1, 10)"
      ]
     },
     "execution_count": 492,
     "metadata": {},
     "output_type": "execute_result"
    }
   ],
   "source": [
    "vec.shape"
   ]
  },
  {
   "cell_type": "code",
   "execution_count": 493,
   "metadata": {},
   "outputs": [
    {
     "data": {
      "text/plain": [
       "array([[ 132.00528015  +0.j        ,   11.89253877 +89.59757249j,\n",
       "         -19.84011813-114.69985409j],\n",
       "       [  11.89253877 -89.59757249j,  614.17399098  +0.j        ,\n",
       "         -92.10016620  -3.88725425j],\n",
       "       [ -19.84011813+114.69985409j,  -92.10016620  +3.88725425j,\n",
       "         351.11349124  +0.j        ]])"
      ]
     },
     "execution_count": 493,
     "metadata": {},
     "output_type": "execute_result"
    }
   ],
   "source": [
    "build_perturbation(eigenvalues, vectors, ham)"
   ]
  },
  {
   "cell_type": "code",
   "execution_count": 494,
   "metadata": {},
   "outputs": [
    {
     "data": {
      "text/plain": [
       "(3, 10)"
      ]
     },
     "execution_count": 494,
     "metadata": {},
     "output_type": "execute_result"
    }
   ],
   "source": [
    "psi.shape"
   ]
  },
  {
   "cell_type": "markdown",
   "metadata": {},
   "source": [
    "#### apply to a specific realization of $H_0$ and $H$"
   ]
  },
  {
   "cell_type": "code",
   "execution_count": 495,
   "metadata": {},
   "outputs": [],
   "source": [
    "# from kpm_funcs import build_perturbation"
   ]
  },
  {
   "cell_type": "code",
   "execution_count": 496,
   "metadata": {},
   "outputs": [],
   "source": [
    "ham0 = np.diag(np.random.rand(10) + 3 + 0j)"
   ]
  },
  {
   "cell_type": "code",
   "execution_count": 497,
   "metadata": {},
   "outputs": [
    {
     "data": {
      "text/plain": [
       "11.562701178087046"
      ]
     },
     "execution_count": 497,
     "metadata": {},
     "output_type": "execute_result"
    }
   ],
   "source": [
    "np.linalg.norm(ham0)"
   ]
  },
  {
   "cell_type": "code",
   "execution_count": 498,
   "metadata": {},
   "outputs": [],
   "source": [
    "ham = kwant.rmt.gaussian(10) / 50"
   ]
  },
  {
   "cell_type": "code",
   "execution_count": 499,
   "metadata": {},
   "outputs": [
    {
     "data": {
      "text/plain": [
       "0.27362655640194788"
      ]
     },
     "execution_count": 499,
     "metadata": {},
     "output_type": "execute_result"
    }
   ],
   "source": [
    "np.linalg.norm(ham)"
   ]
  },
  {
   "cell_type": "code",
   "execution_count": 500,
   "metadata": {},
   "outputs": [],
   "source": [
    "eigenvalues0, psi0 = np.linalg.eigh(ham0)"
   ]
  },
  {
   "cell_type": "code",
   "execution_count": 501,
   "metadata": {},
   "outputs": [],
   "source": [
    "eigenvalues, psi = np.linalg.eigh(ham0+ham)"
   ]
  },
  {
   "cell_type": "code",
   "execution_count": 502,
   "metadata": {},
   "outputs": [],
   "source": [
    "num = 3\n",
    "hij = build_perturbation(eigenvalues0[:num], psi0[:,:num].T, ham0)"
   ]
  },
  {
   "cell_type": "code",
   "execution_count": 503,
   "metadata": {},
   "outputs": [
    {
     "data": {
      "text/plain": [
       "array([[ 0.+0.j,  0.+0.j,  0.+0.j],\n",
       "       [ 0.+0.j,  0.+0.j,  0.+0.j],\n",
       "       [ 0.+0.j,  0.+0.j,  0.+0.j]])"
      ]
     },
     "execution_count": 503,
     "metadata": {},
     "output_type": "execute_result"
    }
   ],
   "source": [
    "hij"
   ]
  },
  {
   "cell_type": "code",
   "execution_count": 504,
   "metadata": {},
   "outputs": [],
   "source": [
    "h_eff = ham0[:num,:num] + hij + hij.conj().T"
   ]
  },
  {
   "cell_type": "code",
   "execution_count": 505,
   "metadata": {},
   "outputs": [],
   "source": [
    "e_eff, psi_eff = np.linalg.eigh(h_eff)"
   ]
  },
  {
   "cell_type": "code",
   "execution_count": 506,
   "metadata": {},
   "outputs": [
    {
     "data": {
      "text/plain": [
       "array([ 3.2093241 ,  3.43869929,  3.45809193,  3.56738235,  3.67911395,\n",
       "        3.70810615,  3.74861241,  3.84851607,  3.88625987,  3.95410046])"
      ]
     },
     "execution_count": 506,
     "metadata": {},
     "output_type": "execute_result"
    }
   ],
   "source": [
    "eigenvalues0"
   ]
  },
  {
   "cell_type": "code",
   "execution_count": 507,
   "metadata": {},
   "outputs": [
    {
     "data": {
      "text/plain": [
       "array([ 3.17447536,  3.39964186,  3.45143085,  3.57330549,  3.63980566,\n",
       "        3.68840329,  3.7437198 ,  3.84001982,  3.8584946 ,  3.97446047])"
      ]
     },
     "execution_count": 507,
     "metadata": {},
     "output_type": "execute_result"
    }
   ],
   "source": [
    "eigenvalues"
   ]
  },
  {
   "cell_type": "code",
   "execution_count": 508,
   "metadata": {},
   "outputs": [
    {
     "data": {
      "text/plain": [
       "array([ 3.2093241 ,  3.45809193,  3.88625987])"
      ]
     },
     "execution_count": 508,
     "metadata": {},
     "output_type": "execute_result"
    }
   ],
   "source": [
    "e_eff"
   ]
  },
  {
   "cell_type": "code",
   "execution_count": 510,
   "metadata": {},
   "outputs": [],
   "source": [
    "g = build_greens_function(ham, vectors=psi0[:,:num].T)"
   ]
  },
  {
   "cell_type": "code",
   "execution_count": 516,
   "metadata": {},
   "outputs": [
    {
     "name": "stderr",
     "output_type": "stream",
     "text": [
      "/opt/conda/lib/python3.6/site-packages/ipykernel/__main__.py:51: RuntimeWarning: invalid value encountered in arccos\n",
      "/opt/conda/lib/python3.6/site-packages/ipykernel/__main__.py:52: RuntimeWarning: invalid value encountered in sqrt\n"
     ]
    },
    {
     "data": {
      "text/plain": [
       "array([[[ nan+nanj,  nan+nanj,  nan+nanj],\n",
       "        [ nan+nanj,  nan+nanj,  nan+nanj],\n",
       "        [ nan+nanj,  nan+nanj,  nan+nanj],\n",
       "        [ nan+nanj,  nan+nanj,  nan+nanj],\n",
       "        [ nan+nanj,  nan+nanj,  nan+nanj],\n",
       "        [ nan+nanj,  nan+nanj,  nan+nanj],\n",
       "        [ nan+nanj,  nan+nanj,  nan+nanj],\n",
       "        [ nan+nanj,  nan+nanj,  nan+nanj],\n",
       "        [ nan+nanj,  nan+nanj,  nan+nanj],\n",
       "        [ nan+nanj,  nan+nanj,  nan+nanj]],\n",
       "\n",
       "       [[ nan+nanj,  nan+nanj,  nan+nanj],\n",
       "        [ nan+nanj,  nan+nanj,  nan+nanj],\n",
       "        [ nan+nanj,  nan+nanj,  nan+nanj],\n",
       "        [ nan+nanj,  nan+nanj,  nan+nanj],\n",
       "        [ nan+nanj,  nan+nanj,  nan+nanj],\n",
       "        [ nan+nanj,  nan+nanj,  nan+nanj],\n",
       "        [ nan+nanj,  nan+nanj,  nan+nanj],\n",
       "        [ nan+nanj,  nan+nanj,  nan+nanj],\n",
       "        [ nan+nanj,  nan+nanj,  nan+nanj],\n",
       "        [ nan+nanj,  nan+nanj,  nan+nanj]],\n",
       "\n",
       "       [[ nan+nanj,  nan+nanj,  nan+nanj],\n",
       "        [ nan+nanj,  nan+nanj,  nan+nanj],\n",
       "        [ nan+nanj,  nan+nanj,  nan+nanj],\n",
       "        [ nan+nanj,  nan+nanj,  nan+nanj],\n",
       "        [ nan+nanj,  nan+nanj,  nan+nanj],\n",
       "        [ nan+nanj,  nan+nanj,  nan+nanj],\n",
       "        [ nan+nanj,  nan+nanj,  nan+nanj],\n",
       "        [ nan+nanj,  nan+nanj,  nan+nanj],\n",
       "        [ nan+nanj,  nan+nanj,  nan+nanj],\n",
       "        [ nan+nanj,  nan+nanj,  nan+nanj]],\n",
       "\n",
       "       [[ nan+nanj,  nan+nanj,  nan+nanj],\n",
       "        [ nan+nanj,  nan+nanj,  nan+nanj],\n",
       "        [ nan+nanj,  nan+nanj,  nan+nanj],\n",
       "        [ nan+nanj,  nan+nanj,  nan+nanj],\n",
       "        [ nan+nanj,  nan+nanj,  nan+nanj],\n",
       "        [ nan+nanj,  nan+nanj,  nan+nanj],\n",
       "        [ nan+nanj,  nan+nanj,  nan+nanj],\n",
       "        [ nan+nanj,  nan+nanj,  nan+nanj],\n",
       "        [ nan+nanj,  nan+nanj,  nan+nanj],\n",
       "        [ nan+nanj,  nan+nanj,  nan+nanj]],\n",
       "\n",
       "       [[ nan+nanj,  nan+nanj,  nan+nanj],\n",
       "        [ nan+nanj,  nan+nanj,  nan+nanj],\n",
       "        [ nan+nanj,  nan+nanj,  nan+nanj],\n",
       "        [ nan+nanj,  nan+nanj,  nan+nanj],\n",
       "        [ nan+nanj,  nan+nanj,  nan+nanj],\n",
       "        [ nan+nanj,  nan+nanj,  nan+nanj],\n",
       "        [ nan+nanj,  nan+nanj,  nan+nanj],\n",
       "        [ nan+nanj,  nan+nanj,  nan+nanj],\n",
       "        [ nan+nanj,  nan+nanj,  nan+nanj],\n",
       "        [ nan+nanj,  nan+nanj,  nan+nanj]],\n",
       "\n",
       "       [[ nan+nanj,  nan+nanj,  nan+nanj],\n",
       "        [ nan+nanj,  nan+nanj,  nan+nanj],\n",
       "        [ nan+nanj,  nan+nanj,  nan+nanj],\n",
       "        [ nan+nanj,  nan+nanj,  nan+nanj],\n",
       "        [ nan+nanj,  nan+nanj,  nan+nanj],\n",
       "        [ nan+nanj,  nan+nanj,  nan+nanj],\n",
       "        [ nan+nanj,  nan+nanj,  nan+nanj],\n",
       "        [ nan+nanj,  nan+nanj,  nan+nanj],\n",
       "        [ nan+nanj,  nan+nanj,  nan+nanj],\n",
       "        [ nan+nanj,  nan+nanj,  nan+nanj]],\n",
       "\n",
       "       [[ nan+nanj,  nan+nanj,  nan+nanj],\n",
       "        [ nan+nanj,  nan+nanj,  nan+nanj],\n",
       "        [ nan+nanj,  nan+nanj,  nan+nanj],\n",
       "        [ nan+nanj,  nan+nanj,  nan+nanj],\n",
       "        [ nan+nanj,  nan+nanj,  nan+nanj],\n",
       "        [ nan+nanj,  nan+nanj,  nan+nanj],\n",
       "        [ nan+nanj,  nan+nanj,  nan+nanj],\n",
       "        [ nan+nanj,  nan+nanj,  nan+nanj],\n",
       "        [ nan+nanj,  nan+nanj,  nan+nanj],\n",
       "        [ nan+nanj,  nan+nanj,  nan+nanj]],\n",
       "\n",
       "       [[ nan+nanj,  nan+nanj,  nan+nanj],\n",
       "        [ nan+nanj,  nan+nanj,  nan+nanj],\n",
       "        [ nan+nanj,  nan+nanj,  nan+nanj],\n",
       "        [ nan+nanj,  nan+nanj,  nan+nanj],\n",
       "        [ nan+nanj,  nan+nanj,  nan+nanj],\n",
       "        [ nan+nanj,  nan+nanj,  nan+nanj],\n",
       "        [ nan+nanj,  nan+nanj,  nan+nanj],\n",
       "        [ nan+nanj,  nan+nanj,  nan+nanj],\n",
       "        [ nan+nanj,  nan+nanj,  nan+nanj],\n",
       "        [ nan+nanj,  nan+nanj,  nan+nanj]],\n",
       "\n",
       "       [[ nan+nanj,  nan+nanj,  nan+nanj],\n",
       "        [ nan+nanj,  nan+nanj,  nan+nanj],\n",
       "        [ nan+nanj,  nan+nanj,  nan+nanj],\n",
       "        [ nan+nanj,  nan+nanj,  nan+nanj],\n",
       "        [ nan+nanj,  nan+nanj,  nan+nanj],\n",
       "        [ nan+nanj,  nan+nanj,  nan+nanj],\n",
       "        [ nan+nanj,  nan+nanj,  nan+nanj],\n",
       "        [ nan+nanj,  nan+nanj,  nan+nanj],\n",
       "        [ nan+nanj,  nan+nanj,  nan+nanj],\n",
       "        [ nan+nanj,  nan+nanj,  nan+nanj]],\n",
       "\n",
       "       [[ nan+nanj,  nan+nanj,  nan+nanj],\n",
       "        [ nan+nanj,  nan+nanj,  nan+nanj],\n",
       "        [ nan+nanj,  nan+nanj,  nan+nanj],\n",
       "        [ nan+nanj,  nan+nanj,  nan+nanj],\n",
       "        [ nan+nanj,  nan+nanj,  nan+nanj],\n",
       "        [ nan+nanj,  nan+nanj,  nan+nanj],\n",
       "        [ nan+nanj,  nan+nanj,  nan+nanj],\n",
       "        [ nan+nanj,  nan+nanj,  nan+nanj],\n",
       "        [ nan+nanj,  nan+nanj,  nan+nanj],\n",
       "        [ nan+nanj,  nan+nanj,  nan+nanj]]])"
      ]
     },
     "execution_count": 516,
     "metadata": {},
     "output_type": "execute_result"
    }
   ],
   "source": [
    "g(eigenvalues0)"
   ]
  },
  {
   "cell_type": "code",
   "execution_count": 517,
   "metadata": {},
   "outputs": [
    {
     "data": {
      "text/plain": [
       "array([ 3.2093241 ,  3.43869929,  3.45809193,  3.56738235,  3.67911395,\n",
       "        3.70810615,  3.74861241,  3.84851607,  3.88625987,  3.95410046])"
      ]
     },
     "execution_count": 517,
     "metadata": {},
     "output_type": "execute_result"
    }
   ],
   "source": [
    "eigenvalues0"
   ]
  },
  {
   "cell_type": "code",
   "execution_count": null,
   "metadata": {},
   "outputs": [],
   "source": []
  }
 ],
 "metadata": {
  "kernelspec": {
   "display_name": "Python 3",
   "language": "python",
   "name": "python3"
  },
  "language_info": {
   "codemirror_mode": {
    "name": "ipython",
    "version": 3
   },
   "file_extension": ".py",
   "mimetype": "text/x-python",
   "name": "python",
   "nbconvert_exporter": "python",
   "pygments_lexer": "ipython3",
   "version": "3.6.5"
  }
 },
 "nbformat": 4,
 "nbformat_minor": 2
}
