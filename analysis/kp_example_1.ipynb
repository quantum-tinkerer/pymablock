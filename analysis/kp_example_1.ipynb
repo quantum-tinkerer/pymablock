{
 "cells": [
  {
   "cell_type": "markdown",
   "metadata": {},
   "source": [
    "# k.p example of using the Lowdin perturbation\n",
    "\n",
    "This example requires [semicon](https://gitlab.kwant-project.org/semicon/semicon) to be installed.\n",
    "\n",
    "It should be as easy as \n",
    "```\n",
    "pip install git+https://gitlab.kwant-project.org/semicon/semicon.git\n",
    "```"
   ]
  },
  {
   "cell_type": "code",
   "execution_count": null,
   "metadata": {},
   "outputs": [],
   "source": [
    "try:\n",
    "    import semicon\n",
    "except ImportError:\n",
    "    print(\"Semicon should be installed to run this notebook.\")"
   ]
  },
  {
   "cell_type": "code",
   "execution_count": null,
   "metadata": {},
   "outputs": [],
   "source": [
    "import warnings\n",
    "warnings.filterwarnings(\"ignore\", category=FutureWarning) "
   ]
  },
  {
   "cell_type": "code",
   "execution_count": null,
   "metadata": {},
   "outputs": [],
   "source": [
    "import kwant\n",
    "import semicon\n",
    "\n",
    "import numpy as np\n",
    "import scipy.linalg as la\n",
    "\n",
    "import sympy\n",
    "sympy.init_printing(print_builtin=False)\n",
    "\n",
    "import matplotlib.pyplot as plt\n",
    "%matplotlib inline"
   ]
  },
  {
   "cell_type": "markdown",
   "metadata": {},
   "source": [
    "# Prepare k.p model and solve it exactly"
   ]
  },
  {
   "cell_type": "code",
   "execution_count": null,
   "metadata": {},
   "outputs": [],
   "source": [
    "widths = [5, 12.5, 5, 5]\n",
    "gamma_0 = 1.0\n",
    "\n",
    "grid_spacing = 0.5\n",
    "shape = lambda site: 0 - grid_spacing / 2 < site.pos[0] < sum(widths)\n",
    "\n",
    "kpham = semicon.models.foreman('z')\n",
    "\n",
    "AlSb = semicon.parameters.bulk('lawaetz', 'AlSb', gamma_0, valence_band_offset=.18)\n",
    "InAs = semicon.parameters.bulk('lawaetz', 'InAs', gamma_0)\n",
    "GaSb = semicon.parameters.bulk('lawaetz', 'GaSb', gamma_0, valence_band_offset=.56)\n",
    "\n",
    "params, walls = semicon.parameters.two_deg(\n",
    "    parameters = [AlSb, InAs, GaSb, AlSb],\n",
    "    widths = widths,\n",
    "    grid_spacing=grid_spacing,\n",
    "    extra_constants=semicon.parameters.constants,\n",
    ")"
   ]
  },
  {
   "cell_type": "code",
   "execution_count": null,
   "metadata": {},
   "outputs": [],
   "source": [
    "def calc_energy(k):\n",
    "    p = {'k_x': k, 'k_y': 0}\n",
    "    mat = syst.hamiltonian_submatrix(params={**p, **params})\n",
    "    return la.eigvalsh(mat)\n",
    "\n",
    "\n",
    "template = kwant.continuum.discretize(str(kpham), coords='z', \n",
    "                                      grid_spacing=grid_spacing)\n",
    "\n",
    "syst = kwant.Builder()\n",
    "syst.fill(template, shape, (0, ))\n",
    "syst = syst.finalized()\n",
    "\n",
    "N = len(syst.sites)\n",
    "momenta = np.linspace(-.3, .3, 81)\n",
    "energies_exact = np.array([calc_energy(k) for k in momenta])"
   ]
  },
  {
   "cell_type": "code",
   "execution_count": null,
   "metadata": {},
   "outputs": [],
   "source": [
    "plt.figure(figsize=(12, 4))\n",
    "\n",
    "plt.subplot(121)\n",
    "ylims = (400-5, 660)\n",
    "xlims = (-.3, .3)\n",
    "\n",
    "window = (.480, .550)\n",
    "\n",
    "plt.plot(momenta, 1000 * energies_exact, 'k-');\n",
    "plt.plot(xlims, 1000 * np.array([window, window]))\n",
    "plt.ylim(*ylims)\n",
    "plt.xlim(*xlims)\n",
    "\n",
    "\n",
    "\n",
    "plt.subplot(122)\n",
    "ylims = (500-5, 530+5)\n",
    "xlims = (-.3, .3)\n",
    "\n",
    "window = (.500, .530)\n",
    "\n",
    "plt.plot(momenta, 1000 * energies_exact, 'k-');\n",
    "plt.plot(xlims, 1000 * np.array([window, window]))\n",
    "plt.ylim(*ylims)\n",
    "plt.xlim(*xlims)"
   ]
  },
  {
   "cell_type": "markdown",
   "metadata": {},
   "source": [
    "# prepare perturbation basis"
   ]
  },
  {
   "cell_type": "code",
   "execution_count": null,
   "metadata": {},
   "outputs": [],
   "source": [
    "def find_indices(ev, lower, upper):\n",
    "    return [i for (i, e) in enumerate(ev) if lower < e < upper]"
   ]
  },
  {
   "cell_type": "code",
   "execution_count": null,
   "metadata": {},
   "outputs": [],
   "source": [
    "# for simplicity lets import everything now\n",
    "from codes.lowdin import *\n",
    "\n",
    "gens = sympy.symbols(['k_x', 'k_y'])\n",
    "H0, H1 = prepare_hamiltonian(\n",
    "    kpham, gens, 'z', grid_spacing, shape, (0,)\n",
    ")\n",
    "\n",
    "M = np.diag([1/2, -1/2, 3/2, 1/2, -1/2, -3/2, 1/2, -1/2])\n",
    "bigM = kwant.operator.Density(H0, M).tocoo().toarray()"
   ]
  },
  {
   "cell_type": "markdown",
   "metadata": {},
   "source": [
    "## Full diagonalisation: we know everything"
   ]
  },
  {
   "cell_type": "code",
   "execution_count": null,
   "metadata": {},
   "outputs": [],
   "source": [
    "mat0 = H0.hamiltonian_submatrix(params=params)\n",
    "mat1 = {k: v.hamiltonian_submatrix(params=params) \n",
    "        for k, v in H1.items()}\n",
    "\n",
    "ev, evec = la.eigh(mat0)\n",
    "indices = find_indices(ev, *window)\n",
    "\n",
    "U, evs = decouple_basis([bigM, mat0], evec[:, indices])\n",
    "ev[indices] = evs[-1]\n",
    "\n",
    "evec[:, indices] = evec[:, indices] @ U\n",
    "apply_smart_gauge(evec)        "
   ]
  },
  {
   "cell_type": "markdown",
   "metadata": {},
   "source": [
    "## zero and 1st order"
   ]
  },
  {
   "cell_type": "code",
   "execution_count": null,
   "metadata": {},
   "outputs": [],
   "source": [
    "from codes.lowdin import second_order"
   ]
  },
  {
   "cell_type": "code",
   "execution_count": null,
   "metadata": {},
   "outputs": [],
   "source": [
    "indices = find_indices(ev, *window)\n",
    "\n",
    "order_0 = (evec[:, indices].T.conj() @ mat0 @ evec[:, indices]).diagonal().real\n",
    "order_1 = first_order(mat1, evec[:, indices])"
   ]
  },
  {
   "cell_type": "code",
   "execution_count": null,
   "metadata": {},
   "outputs": [],
   "source": [
    "assert np.allclose(order_0, ev[indices])"
   ]
  },
  {
   "cell_type": "markdown",
   "metadata": {},
   "source": [
    "### 1. We know all states in the system"
   ]
  },
  {
   "cell_type": "code",
   "execution_count": null,
   "metadata": {},
   "outputs": [],
   "source": [
    "%%time\n",
    "indices = find_indices(ev, *window)\n",
    "\n",
    "evecA = evec[:, indices]\n",
    "evecB = np.delete(evec, indices, 1)\n",
    "\n",
    "exp_only, _ = second_order(mat0, mat1, evecA, evecB)"
   ]
  },
  {
   "cell_type": "markdown",
   "metadata": {},
   "source": [
    "### 2. We know only states we want to include in the effective model"
   ]
  },
  {
   "cell_type": "code",
   "execution_count": null,
   "metadata": {},
   "outputs": [],
   "source": [
    "%%time\n",
    "indices = find_indices(ev, *window)\n",
    "evecA = evec[:, indices]\n",
    "\n",
    "_, kpm_only = second_order(mat0, mat1, evecA, moments=1000)"
   ]
  },
  {
   "cell_type": "markdown",
   "metadata": {},
   "source": [
    "### 3. We know states we want to include and some close states"
   ]
  },
  {
   "cell_type": "code",
   "execution_count": null,
   "metadata": {},
   "outputs": [],
   "source": [
    "# prepare subspace (like input from sparse diag)\n",
    "subspace_slice = find_indices(ev, .400, .660)\n",
    "energies = ev[subspace_slice]\n",
    "subspace = evec[:, subspace_slice]\n",
    "indices = find_indices(energies, *window)"
   ]
  },
  {
   "cell_type": "code",
   "execution_count": null,
   "metadata": {},
   "outputs": [],
   "source": [
    "evecA = subspace[:, indices]\n",
    "evecB = np.delete(subspace, indices, 1)\n",
    "\n",
    "exp, kpm = second_order(mat0, mat1, evecA, evecB, moments=1000)"
   ]
  },
  {
   "cell_type": "markdown",
   "metadata": {},
   "source": [
    "# Look into the effective models"
   ]
  },
  {
   "cell_type": "code",
   "execution_count": null,
   "metadata": {},
   "outputs": [],
   "source": [
    "smp_1 = sympify_perturbation(order_0, components=[order_1, exp_only], decimals=4)\n",
    "smp_2 = sympify_perturbation(order_0, components=[order_1, kpm_only], decimals=4)\n",
    "smp_3 = sympify_perturbation(order_0, components=[order_1, exp, kpm], decimals=4)"
   ]
  },
  {
   "cell_type": "code",
   "execution_count": null,
   "metadata": {},
   "outputs": [],
   "source": [
    "smp_1"
   ]
  },
  {
   "cell_type": "code",
   "execution_count": null,
   "metadata": {},
   "outputs": [],
   "source": [
    "smp_2"
   ]
  },
  {
   "cell_type": "code",
   "execution_count": null,
   "metadata": {},
   "outputs": [],
   "source": [
    "smp_3"
   ]
  },
  {
   "cell_type": "markdown",
   "metadata": {},
   "source": [
    "## compare with exact solution"
   ]
  },
  {
   "cell_type": "code",
   "execution_count": null,
   "metadata": {},
   "outputs": [],
   "source": [
    "def calc_energy(model, k):\n",
    "    p = {'k_x': k, 'k_y': 0}\n",
    "    mat = model(**p)\n",
    "    return la.eigvalsh(mat)\n",
    "\n",
    "\n",
    "model = kwant.continuum.lambdify(smp_1)\n",
    "energies_eff_1 = np.array([calc_energy(model, k) for k in momenta])\n",
    "\n",
    "model = kwant.continuum.lambdify(smp_2)\n",
    "energies_eff_2 = np.array([calc_energy(model, k) for k in momenta])\n",
    "\n",
    "model = kwant.continuum.lambdify(smp_3)\n",
    "energies_eff_3 = np.array([calc_energy(model, k) for k in momenta])"
   ]
  },
  {
   "cell_type": "code",
   "execution_count": null,
   "metadata": {},
   "outputs": [],
   "source": [
    "plt.plot(momenta, 1000 * energies_exact, 'k-');\n",
    "plt.plot(momenta, 1000 * energies_eff_1, 'r-');\n",
    "plt.plot(momenta, 1000 * energies_eff_2, 'g--');\n",
    "plt.plot(momenta, 1000 * energies_eff_3, 'b-.');\n",
    "\n",
    "plt.plot(xlims, 1000 * np.array([window, window]))\n",
    "plt.ylim(*ylims)\n",
    "plt.xlim(*xlims)"
   ]
  },
  {
   "cell_type": "markdown",
   "metadata": {},
   "source": [
    "# check convergence"
   ]
  },
  {
   "cell_type": "code",
   "execution_count": null,
   "metadata": {},
   "outputs": [],
   "source": [
    "def difference_kpm(kpm):\n",
    "    M2 = exp_only\n",
    "    \n",
    "    assert set(M2) == set(kpm)\n",
    "    output = 0\n",
    "    for key, val in M2.items():\n",
    "        output += la.norm(val - kpm[key])\n",
    "    return output\n",
    "    \n",
    "    \n",
    "def difference_mixed(exp, kpm):\n",
    "    M2 = exp_only\n",
    "    assert set(M2) == set(kpm)\n",
    "    assert set(M2) == set(exp)\n",
    "    \n",
    "    output = 0\n",
    "    for key, val in M2.items():\n",
    "        output += la.norm(val - kpm[key] - exp[key])\n",
    "    return output\n",
    "    "
   ]
  },
  {
   "cell_type": "code",
   "execution_count": null,
   "metadata": {},
   "outputs": [],
   "source": [
    "moments = range(1000, 10000, 2000)\n",
    "\n",
    "\n",
    "kpm_ds = []\n",
    "mixed_ds = []\n",
    "\n",
    "indices = find_indices(energies, *window)\n",
    "\n",
    "\n",
    "evecA = subspace[:, indices]\n",
    "evecB = np.delete(subspace, indices, 1)\n",
    "\n",
    "for num_moments in moments:\n",
    "    print(num_moments)\n",
    "    \n",
    "    _, pure_kpm = second_order(mat0, mat1, evecA, evecB=None, moments=num_moments)\n",
    "    exp, kpm = second_order(mat0, mat1, evecA, evecB, moments=num_moments)\n",
    "    \n",
    "    kpm_ds.append(difference_kpm(pure_kpm))\n",
    "    mixed_ds.append(difference_mixed(exp, kpm))\n",
    "    "
   ]
  },
  {
   "cell_type": "code",
   "execution_count": null,
   "metadata": {},
   "outputs": [],
   "source": [
    "plt.plot(moments, kpm_ds, 'ro-', label='kpm')\n",
    "plt.plot(moments, mixed_ds, 'bo-', label='mixed')\n",
    "plt.ylabel('|explicit - kpm|')\n",
    "plt.xlabel('# moments')\n",
    "plt.ylim(1e-6, 1)\n",
    "plt.yscale('log')\n",
    "plt.grid()\n",
    "plt.legend()"
   ]
  }
 ],
 "metadata": {
  "kernelspec": {
   "display_name": "Python 3",
   "language": "python",
   "name": "python3"
  },
  "language_info": {
   "codemirror_mode": {
    "name": "ipython",
    "version": 3
   },
   "file_extension": ".py",
   "mimetype": "text/x-python",
   "name": "python",
   "nbconvert_exporter": "python",
   "pygments_lexer": "ipython3",
   "version": "3.6.5"
  }
 },
 "nbformat": 4,
 "nbformat_minor": 2
}
