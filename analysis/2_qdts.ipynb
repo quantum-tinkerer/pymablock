{
 "cells": [
  {
   "cell_type": "markdown",
   "metadata": {},
   "source": [
    "# Two quantum dots test"
   ]
  },
  {
   "cell_type": "code",
   "execution_count": null,
   "metadata": {},
   "outputs": [],
   "source": [
    "import warnings\n",
    "warnings.filterwarnings(\"ignore\", category=FutureWarning) "
   ]
  },
  {
   "cell_type": "code",
   "execution_count": null,
   "metadata": {},
   "outputs": [],
   "source": [
    "import kwant\n",
    "\n",
    "import numpy as np\n",
    "import scipy.linalg as la\n",
    "\n",
    "import sympy\n",
    "sympy.init_printing(print_builtin=False)\n",
    "\n",
    "import matplotlib.pyplot as plt\n",
    "%matplotlib inline"
   ]
  },
  {
   "cell_type": "code",
   "execution_count": null,
   "metadata": {},
   "outputs": [],
   "source": [
    "from scipy.sparse import csc_matrix"
   ]
  },
  {
   "cell_type": "markdown",
   "metadata": {},
   "source": [
    "# Hamiltonian, parameters, system"
   ]
  },
  {
   "cell_type": "code",
   "execution_count": null,
   "metadata": {},
   "outputs": [],
   "source": [
    "Ly = 6\n",
    "L1, L2, L3 = 10, 10, 10\n",
    "a = 1\n",
    "\n",
    "hamiltonian = \"A * (k_x**2 + k_y**2) + V0 * V(site) - V0\"\n",
    "potential = lambda site: np.heaviside(site.pos[0] - L1 - a/2, 0) * np.heaviside(L1 + L2 - site.pos[0] + a/2, 0)"
   ]
  },
  {
   "cell_type": "markdown",
   "metadata": {},
   "source": [
    "## create total system"
   ]
  },
  {
   "cell_type": "code",
   "execution_count": null,
   "metadata": {},
   "outputs": [],
   "source": [
    "from kwant.continuum import discretize"
   ]
  },
  {
   "cell_type": "code",
   "execution_count": null,
   "metadata": {},
   "outputs": [],
   "source": [
    "transverse_shape = lambda site: (-Ly/2 - a/2 < site.pos[1] < Ly/2 + a/2)\n",
    "\n",
    "shape1 = lambda site: (0 < site.pos[0] < L1 + a/2) and transverse_shape(site)\n",
    "shape2 = lambda site: (L1 + a/2 < site.pos[0] < L1 + L2 + a/2) and transverse_shape(site)\n",
    "shape3 = lambda site: (L1 + L2 + a/2 < site.pos[0] < L1+L2+L3 + a/2) and transverse_shape(site)\n",
    "\n",
    "\n",
    "prim_vecs =  a * np.eye(2)\n",
    "template = discretize(hamiltonian, grid_spacing=a)\n",
    "\n",
    "syst = kwant.Builder()\n",
    "\n",
    "shape = lambda site: shape1(site) or shape2(site) or shape3(site)\n",
    "syst.fill(template, shape, (a/2, 0))\n",
    "syst = syst.finalized()\n",
    "\n",
    "N = len(syst.sites)\n",
    "kwant.plot(syst, fig_size=(10, 4), show=False);\n",
    "# plt.xlim(0, 30);"
   ]
  },
  {
   "cell_type": "code",
   "execution_count": null,
   "metadata": {},
   "outputs": [],
   "source": [
    "N"
   ]
  },
  {
   "cell_type": "markdown",
   "metadata": {},
   "source": [
    "## test subregion shape functions"
   ]
  },
  {
   "cell_type": "code",
   "execution_count": null,
   "metadata": {},
   "outputs": [],
   "source": [
    "# syst = kwant.Builder()\n",
    "# syst.fill(template, shape1, (a, 0))\n",
    "# syst.fill(template, shape3, (L2+L1+a, 0))\n",
    "\n",
    "# syst = syst.finalized()\n",
    "# kwant.plot(syst, fig_size=(10, 4), show=False);\n",
    "# plt.xlim(0, 30);\n",
    "\n",
    "\n",
    "# syst = kwant.Builder()\n",
    "# syst.fill(template, shape2, (L1+a, 0))\n",
    "# syst = syst.finalized()\n",
    "\n",
    "# kwant.plot(syst, fig_size=(10, 4), show=False);\n",
    "# plt.xlim(0, 30);"
   ]
  },
  {
   "cell_type": "code",
   "execution_count": null,
   "metadata": {},
   "outputs": [],
   "source": [
    "V = np.array([potential(s) for s in syst.sites])\n",
    "\n",
    "fig = plt.figure(figsize=(10, 4))\n",
    "ax = fig.gca()\n",
    "\n",
    "kwant.plot(syst, ax=ax);\n",
    "kwant.plotter.map(syst, V, ax=ax, colorbar=True);"
   ]
  },
  {
   "cell_type": "code",
   "execution_count": null,
   "metadata": {},
   "outputs": [],
   "source": [
    "V0 = 0.5\n",
    "kwant.plotter.map(syst, V0 * V - V0);"
   ]
  },
  {
   "cell_type": "markdown",
   "metadata": {},
   "source": [
    "# diagonalise"
   ]
  },
  {
   "cell_type": "code",
   "execution_count": null,
   "metadata": {},
   "outputs": [],
   "source": [
    "params = dict(A=1, V0=.5, V=potential)\n",
    "mat = syst.hamiltonian_submatrix(params=params)\n",
    "ev_exact, evec_exact = la.eigh(mat)"
   ]
  },
  {
   "cell_type": "code",
   "execution_count": null,
   "metadata": {},
   "outputs": [],
   "source": [
    "print(len(ev_exact[ev_exact<0]))\n",
    "\n",
    "plt.hlines(ev_exact, 0, 1);\n",
    "plt.ylim(None, .5);"
   ]
  },
  {
   "cell_type": "code",
   "execution_count": null,
   "metadata": {},
   "outputs": [],
   "source": [
    "import holoviews as hv\n",
    "hv.notebook_extension()"
   ]
  },
  {
   "cell_type": "code",
   "execution_count": null,
   "metadata": {},
   "outputs": [],
   "source": [
    "%%output size=400\n",
    "%%opts Raster (cmap='viridis' interpolation='sinc') [colorbar=True]\n",
    "\n",
    "coords = np.array([s.pos for s in syst.sites])\n",
    "\n",
    "plots = {}\n",
    "for i in range(10):\n",
    "    wf = np.abs(evec_exact[:, i])**2\n",
    "    wf = kwant.plotter.mask_interpolate(coords, wf, oversampling=1)[0]\n",
    "    img = hv.Raster(np.rot90(wf))\n",
    "    plots[ev_exact[i]] = img\n",
    "    \n",
    "hv.HoloMap(plots, kdims='E')    "
   ]
  },
  {
   "cell_type": "markdown",
   "metadata": {},
   "source": [
    "# Solve separate halfs of the system and use hoppings as perturbation"
   ]
  },
  {
   "cell_type": "code",
   "execution_count": null,
   "metadata": {},
   "outputs": [],
   "source": [
    "# Be sure to choose a proper value for the middle of the system.\n",
    "Lmid = 15 + a/2\n",
    "\n",
    "PL = kwant.operator.Density(syst, where=lambda site: site.pos[0] < Lmid, sum=True).tocoo()\n",
    "PR = kwant.operator.Density(syst, where=lambda site: site.pos[0] > Lmid, sum=True).tocoo()\n",
    "\n",
    "\n",
    "assert la.norm(PL + PR - np.eye(N)) == 0\n",
    "\n",
    "\n",
    "PL = csc_matrix(PL)[PL.getnnz(1) > 0]\n",
    "PR = csc_matrix(PR)[PR.getnnz(1) > 0]"
   ]
  },
  {
   "cell_type": "code",
   "execution_count": null,
   "metadata": {},
   "outputs": [],
   "source": [
    "HL = PL @ mat @ PL.T\n",
    "HR = PR @ mat @ PR.T"
   ]
  },
  {
   "cell_type": "code",
   "execution_count": null,
   "metadata": {},
   "outputs": [],
   "source": [
    "evL, evecL = la.eigh(HL)\n",
    "evR, evecR = la.eigh(HR)"
   ]
  },
  {
   "cell_type": "code",
   "execution_count": null,
   "metadata": {},
   "outputs": [],
   "source": [
    "evecL = PL.T @ evecL\n",
    "evecR = PR.T @ evecR"
   ]
  },
  {
   "cell_type": "code",
   "execution_count": null,
   "metadata": {},
   "outputs": [],
   "source": [
    "%%output size=400\n",
    "%%opts Raster (cmap='viridis' interpolation='sinc') [colorbar=True]\n",
    "\n",
    "coords = np.array([s.pos for s in syst.sites])\n",
    "\n",
    "plots_L = {}\n",
    "for i in range(10):\n",
    "    wf = np.abs(evecL[:, i])**2\n",
    "    wf = kwant.plotter.mask_interpolate(coords, wf, oversampling=1)[0]\n",
    "    img = hv.Raster(np.rot90(wf))\n",
    "    \n",
    "    plots_L[i] = img\n",
    "    \n",
    "    \n",
    "plots_R = {}\n",
    "for i in range(10):\n",
    "    wf = np.abs(evecR[:, i])**2\n",
    "    wf = kwant.plotter.mask_interpolate(coords, wf, oversampling=1)[0]\n",
    "    img = hv.Raster(np.rot90(wf))\n",
    "    \n",
    "    plots_R[i] = img    \n",
    "    \n",
    "    \n",
    "hv.HoloMap(plots_L, kdims='E') + hv.HoloMap(plots_R, kdims='E')    "
   ]
  },
  {
   "cell_type": "markdown",
   "metadata": {},
   "source": [
    "## Gather together  and calculate effective model"
   ]
  },
  {
   "cell_type": "code",
   "execution_count": null,
   "metadata": {},
   "outputs": [],
   "source": [
    "H0 = PL.T @ HL @ PL + PR.T @ HR @ PR\n",
    "Hprime = mat - H0"
   ]
  },
  {
   "cell_type": "code",
   "execution_count": null,
   "metadata": {},
   "outputs": [],
   "source": [
    "evec = np.hstack([evecL[:, :2], evecR[:, :2], evecL[:, 2:], evecR[:, 2:]])\n",
    "ev = np.hstack([evL[:2], evR[:2], evL[2:], evR[2:]])"
   ]
  },
  {
   "cell_type": "code",
   "execution_count": null,
   "metadata": {},
   "outputs": [],
   "source": [
    "indices = range(4)"
   ]
  },
  {
   "cell_type": "code",
   "execution_count": null,
   "metadata": {},
   "outputs": [],
   "source": [
    "# for simplicity lets import everything now\n",
    "from codes.lowdin import *"
   ]
  },
  {
   "cell_type": "code",
   "execution_count": null,
   "metadata": {},
   "outputs": [],
   "source": [
    "%%time\n",
    "\n",
    "M0 = (evec[:, indices].T.conj() @ H0 @ evec[:, indices]).real\n",
    "M1 = first_order({sympy.sympify(1): Hprime}, evec[:, indices])\n",
    "M2 = second_order_explicit({sympy.sympify(1): Hprime}, ev, evec, indices)"
   ]
  },
  {
   "cell_type": "markdown",
   "metadata": {},
   "source": [
    "## Effective model energies"
   ]
  },
  {
   "cell_type": "code",
   "execution_count": null,
   "metadata": {},
   "outputs": [],
   "source": [
    "model = M0 + M1[1] + M2[1]\n",
    "ev_effective = np.sort(la.eigvalsh(model))\n",
    "ev_effective"
   ]
  },
  {
   "cell_type": "markdown",
   "metadata": {},
   "source": [
    "## Difference between separate halfs and effective"
   ]
  },
  {
   "cell_type": "code",
   "execution_count": null,
   "metadata": {},
   "outputs": [],
   "source": [
    "la.norm(ev_effective - ev[:4])"
   ]
  },
  {
   "cell_type": "markdown",
   "metadata": {},
   "source": [
    "## Difference between exact full system and effective"
   ]
  },
  {
   "cell_type": "code",
   "execution_count": null,
   "metadata": {},
   "outputs": [],
   "source": [
    "la.norm(ev_effective - ev_exact[:4])"
   ]
  },
  {
   "cell_type": "markdown",
   "metadata": {},
   "source": [
    "# Look into the model"
   ]
  },
  {
   "cell_type": "code",
   "execution_count": null,
   "metadata": {},
   "outputs": [],
   "source": [
    "sympy.sympify(np.round(M0, 4))"
   ]
  },
  {
   "cell_type": "code",
   "execution_count": null,
   "metadata": {},
   "outputs": [],
   "source": [
    "sympy.sympify(np.round(M1[1], 4))"
   ]
  },
  {
   "cell_type": "code",
   "execution_count": null,
   "metadata": {},
   "outputs": [],
   "source": [
    "sympy.sympify(np.round(M2[1], 4))"
   ]
  }
 ],
 "metadata": {
  "kernelspec": {
   "display_name": "Python 3",
   "language": "python",
   "name": "python3"
  },
  "language_info": {
   "codemirror_mode": {
    "name": "ipython",
    "version": 3
   },
   "file_extension": ".py",
   "mimetype": "text/x-python",
   "name": "python",
   "nbconvert_exporter": "python",
   "pygments_lexer": "ipython3",
   "version": "3.6.6"
  }
 },
 "nbformat": 4,
 "nbformat_minor": 2
}
