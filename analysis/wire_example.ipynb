{
 "cells": [
  {
   "cell_type": "code",
   "execution_count": null,
   "metadata": {},
   "outputs": [],
   "source": [
    "import kwant\n",
    "import semicon\n",
    "\n",
    "import numpy as np\n",
    "import scipy.linalg as la\n",
    "import scipy.sparse\n",
    "import scipy.sparse.linalg as sla\n",
    "\n",
    "import sympy\n",
    "sympy.init_printing(print_builtin=False)\n",
    "\n",
    "import matplotlib.pyplot as plt\n",
    "%matplotlib inline\n",
    "\n",
    "import codes.higher_order_lowdin as lowdin"
   ]
  },
  {
   "cell_type": "code",
   "execution_count": null,
   "metadata": {},
   "outputs": [],
   "source": [
    "# %load_ext line_profiler"
   ]
  },
  {
   "cell_type": "markdown",
   "metadata": {},
   "source": [
    "# k.p example of using the Lowdin perturbation\n",
    "\n",
    "This example requires [semicon](https://gitlab.kwant-project.org/semicon/semicon) to be installed.\n",
    "\n",
    "It should be as easy as \n",
    "```\n",
    "pip install git+https://gitlab.kwant-project.org/semicon/semicon.git\n",
    "```"
   ]
  },
  {
   "cell_type": "code",
   "execution_count": null,
   "metadata": {},
   "outputs": [],
   "source": [
    "try:\n",
    "    import semicon\n",
    "except ImportError:\n",
    "    print(\"Semicon should be installed to run this notebook.\")"
   ]
  },
  {
   "cell_type": "code",
   "execution_count": null,
   "metadata": {},
   "outputs": [],
   "source": [
    "import kwant\n",
    "import scipy\n",
    "import sympy\n",
    "import semicon\n",
    "\n",
    "\n",
    "print(\"semicon version:\", semicon.__version__)\n",
    "print(\"kwant version:\", kwant.__version__)\n",
    "print(\"scipy version:\", scipy.__version__)\n",
    "print(\"sympy version\", sympy.__version__)"
   ]
  },
  {
   "cell_type": "code",
   "execution_count": null,
   "metadata": {},
   "outputs": [],
   "source": [
    "import warnings\n",
    "warnings.filterwarnings(\"ignore\", category=FutureWarning) \n",
    "warnings.filterwarnings(\"ignore\", category=kwant.KwantDeprecationWarning)"
   ]
  },
  {
   "cell_type": "markdown",
   "metadata": {},
   "source": [
    "# Prepare k.p model and solve it exactly"
   ]
  },
  {
   "cell_type": "code",
   "execution_count": null,
   "metadata": {},
   "outputs": [],
   "source": [
    "gamma_0 = 1.0\n",
    "\n",
    "# Get the k.p model for ZincBlende material\n",
    "model = semicon.models.ZincBlende(\n",
    "    components=('foreman',),\n",
    "    default_databank='lawaetz'\n",
    ")\n",
    "kpham = model.hamiltonian\n",
    "\n",
    "# Get parameters for InAs\n",
    "InAs = model.parameters('InAs').renormalize(new_gamma_0=gamma_0)\n",
    "\n",
    "display(kpham)\n",
    "\n"
   ]
  },
  {
   "cell_type": "code",
   "execution_count": null,
   "metadata": {},
   "outputs": [],
   "source": [
    "# Discretize the model to get a kwant tight-binding model\n",
    "grid_spacing = 0.5\n",
    "R = 10\n",
    "\n",
    "tbham = kwant.continuum.discretize(kpham, grid=grid_spacing)\n",
    "\n",
    "# Fill an infinite wire with circular cross section with the model\n",
    "shape = lambda site: la.norm(site.pos) < R\n",
    "tz = np.array(tbham.symmetry.periods)[-1]\n",
    "wire = kwant.Builder(symmetry=kwant.TranslationalSymmetry(tz))\n",
    "wire.fill(tbham, shape, start=(0, 0, 0))\n",
    "kwant.plotter.plot(wire, num_lead_cells=10, pos_transform=lambda pos: pos[:2]);\n",
    "\n",
    "# Get the unit cell and hopping matrices\n",
    "wiref = wire.finalized()\n",
    "Hos = wiref.cell_hamiltonian(params=InAs, sparse=True).tocsr()\n",
    "Hos.eliminate_zeros()\n",
    "Hhop = wiref.inter_cell_hopping(params=InAs, sparse=True).tocsr()\n",
    "Hhop.eliminate_zeros()\n",
    "\n",
    "# Make second order model in k_z\n",
    "H0 = lowdin.Model({1: Hos})\n",
    "Hkz = lowdin.Model({'k_z': (1j * Hhop - 1j * Hhop.T.conj()), 'k_z**2': -(Hhop + Hhop.T.conj())})\n",
    "H = H0 + Hkz\n",
    "\n",
    "# exact eigenenergies\n",
    "es = []\n",
    "ks = np.linspace(-0.5, 0.5, 21)\n",
    "for k in ks:\n",
    "    e = scipy.sparse.linalg.eigsh(H.subs({'k_z': k})[1], return_eigenvectors=False, sigma=0.5, k=6)\n",
    "    es.append(e)\n",
    "\n",
    "es = np.array(es)\n",
    "    \n",
    "plt.plot(ks, es, '-');"
   ]
  },
  {
   "cell_type": "code",
   "execution_count": null,
   "metadata": {},
   "outputs": [],
   "source": [
    "# Add electric field perturbations\n",
    "\n",
    "xop = kwant.operator.Density(wiref, onsite=lambda site: site.pos[0] * np.eye(8), sum=True).tocoo().tocsr()\n",
    "xop.eliminate_zeros()\n",
    "yop = kwant.operator.Density(wiref, onsite=lambda site: site.pos[1] * np.eye(8), sum=True).tocoo().tocsr()\n",
    "yop.eliminate_zeros()\n",
    "\n",
    "V = lowdin.Model({'E_x': -xop, 'E_x': -yop})"
   ]
  },
  {
   "cell_type": "code",
   "execution_count": null,
   "metadata": {},
   "outputs": [],
   "source": [
    "# Make perturbation basis of two lowest states\n",
    "E0, vecsA = scipy.sparse.linalg.eigsh(Hos, return_eigenvectors=True, sigma=0.5, k=2)\n",
    "vecsA, _ = la.qr(vecsA, mode='economic')\n",
    "\n",
    "model0 = lowdin.effective_model(H0, Hkz + V, evec_A=vecsA, order=2)"
   ]
  },
  {
   "cell_type": "code",
   "execution_count": null,
   "metadata": {},
   "outputs": [],
   "source": [
    "model0.around().tosympy()"
   ]
  },
  {
   "cell_type": "code",
   "execution_count": null,
   "metadata": {},
   "outputs": [],
   "source": [
    "# remove some keys\n",
    "intersting_keys = lowdin._interesting_keys((Hkz + V).keys(), order=2)\n",
    "intersting_keys -= set(sympy.sympify(['k_z**3', 'k_z**4', 'E_x**2', 'E_y**2']))\n",
    "model0 = lowdin.effective_model(H0, Hkz + V, evec_A=vecsA, order=2, interesting_keys=intersting_keys)\n",
    "model0.around().tosympy()"
   ]
  },
  {
   "cell_type": "code",
   "execution_count": null,
   "metadata": {},
   "outputs": [],
   "source": [
    "# Make perturbation basis of second lowest states\n",
    "E0, vecsA = scipy.sparse.linalg.eigsh(Hos, return_eigenvectors=True, sigma=0.8, k=4)\n",
    "vecsA, _ = la.qr(vecsA, mode='economic')\n",
    "\n",
    "model1 = lowdin.effective_model(H0, Hkz + V, evec_A=vecsA, order=2, interesting_keys=intersting_keys)"
   ]
  },
  {
   "cell_type": "code",
   "execution_count": null,
   "metadata": {},
   "outputs": [],
   "source": [
    "model1.around().tosympy()"
   ]
  },
  {
   "cell_type": "code",
   "execution_count": null,
   "metadata": {},
   "outputs": [],
   "source": [
    "# effective eigenenergies\n",
    "es1 = []\n",
    "es0 = []\n",
    "ks2 = np.linspace(-0.5, 0.5, 101)\n",
    "for k in ks2:\n",
    "    e = la.eigh((model0).subs({'k_z': k, 'E_x': 0})[1], eigvals_only=True)\n",
    "    es0.append(e)\n",
    "    e = la.eigh((model1).subs({'k_z': k, 'E_x': 0})[1], eigvals_only=True)\n",
    "    es1.append(e)\n",
    "es0 = np.array(es0)\n",
    "es1 = np.array(es1)\n",
    "    \n",
    "plt.plot(ks, es, '--')\n",
    "plt.plot(ks2, es0, '-')\n",
    "plt.plot(ks2, es1, '-')"
   ]
  },
  {
   "cell_type": "code",
   "execution_count": null,
   "metadata": {},
   "outputs": [],
   "source": [
    "# Use 12 states exactly\n",
    "# Make perturbation basis of two lowest states\n",
    "E0, vecs = scipy.sparse.linalg.eigsh(Hos, return_eigenvectors=True, sigma=0.5, k=12)\n",
    "vecs, _ = la.qr(vecs, mode='economic')\n",
    "\n",
    "model0 = lowdin.effective_model(H0, Hkz + V, evec_A=vecs[:, :2], order=2, interesting_keys=intersting_keys)\n",
    "display(model0.around().tosympy())\n",
    "\n",
    "model1 = lowdin.effective_model(H0, Hkz + V, evec_A=vecs[:, 2: 6], order=2, interesting_keys=intersting_keys)\n",
    "display(model1.around().tosympy())\n",
    "\n",
    "# effective eigenenergies\n",
    "es1 = []\n",
    "es0 = []\n",
    "ks2 = np.linspace(-0.5, 0.5, 101)\n",
    "for k in ks2:\n",
    "    e = la.eigh((model0).subs({'k_z': k, 'E_x': 0})[1], eigvals_only=True)\n",
    "    es0.append(e)\n",
    "    e = la.eigh((model1).subs({'k_z': k, 'E_x': 0})[1], eigvals_only=True)\n",
    "    es1.append(e)\n",
    "es0 = np.array(es0)\n",
    "es1 = np.array(es1)\n",
    "    \n",
    "plt.plot(ks, es, '--')\n",
    "plt.plot(ks2, es0, '-')\n",
    "plt.plot(ks2, es1, '-')"
   ]
  },
  {
   "cell_type": "markdown",
   "metadata": {},
   "source": [
    "### Magnetic field perturbation"
   ]
  },
  {
   "cell_type": "code",
   "execution_count": null,
   "metadata": {},
   "outputs": [],
   "source": [
    "from codes.combine import apply_peierls_to_template"
   ]
  },
  {
   "cell_type": "code",
   "execution_count": null,
   "metadata": {},
   "outputs": [],
   "source": [
    "# Discretize the model to get a kwant tight-binding model\n",
    "grid_spacing = 0.5\n",
    "R = 2\n",
    "\n",
    "tbham = kwant.continuum.discretize(kpham, grid=grid_spacing)\n",
    "\n",
    "# Apply Peierels substitution to have magnetic field\n",
    "tbham2 = apply_peierls_to_template(tbham)\n",
    "\n",
    "# Fill an infinite wire with circular cross section with the model\n",
    "shape = lambda site: la.norm(site.pos) < R\n",
    "tz = np.array(tbham2.symmetry.periods)[-1]\n",
    "wire = kwant.Builder(symmetry=kwant.TranslationalSymmetry(tz))\n",
    "wire.fill(tbham2, shape, start=(0, 0, 0))\n",
    "kwant.plotter.plot(wire, num_lead_cells=10, pos_transform=lambda pos: pos[:2]);\n",
    "\n",
    "params = {**InAs, 'e':1, 'B_x': 0, 'B_y': 0, 'B_z': 0}\n",
    "\n",
    "# Get the unit cell and hopping matrices\n",
    "wiref = wire.finalized()\n",
    "kwant.plotter.bands(wiref, params=params)\n",
    "Hos = wiref.cell_hamiltonian(params=params, sparse=True).tocsr()\n",
    "Hhop = wiref.inter_cell_hopping(params=params, sparse=True).tocsr()"
   ]
  },
  {
   "cell_type": "code",
   "execution_count": null,
   "metadata": {},
   "outputs": [],
   "source": [
    "# Generate magnetic field perturbation terms\n",
    "deltaB = 1\n",
    "HBos = 0\n",
    "HBhop = 0\n",
    "for B in ['B_x', 'B_y', 'B_z']:\n",
    "    paramsB = params.copy()\n",
    "    paramsB[B] = deltaB\n",
    "    valB = (wiref.cell_hamiltonian(params=paramsB, sparse=True).tocsr()\n",
    "            - wiref.cell_hamiltonian(params=params, sparse=True).tocsr()) / deltaB\n",
    "    HBos += lowdin.Model({B: valB})\n",
    "    valB = (wiref.inter_cell_hopping(params=paramsB, sparse=True).tocsr()\n",
    "            - wiref.inter_cell_hopping(params=params, sparse=True).tocsr()) / deltaB\n",
    "    HBhop += lowdin.Model({B: valB})"
   ]
  }
 ],
 "metadata": {
  "kernelspec": {
   "display_name": "Python [conda env:kwant_conda]",
   "language": "python",
   "name": "conda-env-kwant_conda-py"
  },
  "language_info": {
   "codemirror_mode": {
    "name": "ipython",
    "version": 3
   },
   "file_extension": ".py",
   "mimetype": "text/x-python",
   "name": "python",
   "nbconvert_exporter": "python",
   "pygments_lexer": "ipython3",
   "version": "3.7.1"
  }
 },
 "nbformat": 4,
 "nbformat_minor": 2
}
