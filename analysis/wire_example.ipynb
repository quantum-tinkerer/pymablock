{
 "cells": [
  {
   "cell_type": "code",
   "execution_count": null,
   "metadata": {},
   "outputs": [],
   "source": [
    "import kwant\n",
    "import semicon\n",
    "\n",
    "import numpy as np\n",
    "import scipy.linalg as la\n",
    "import scipy.sparse\n",
    "import scipy.sparse.linalg as sla\n",
    "import pickle\n",
    "\n",
    "import sympy\n",
    "sympy.init_printing(print_builtin=False)\n",
    "\n",
    "import matplotlib.pyplot as plt\n",
    "%matplotlib inline\n",
    "\n",
    "import codes.higher_order_lowdin as lowdin\n",
    "from codes.combine import apply_peierls_to_template, magnetic_perturbation"
   ]
  },
  {
   "cell_type": "code",
   "execution_count": null,
   "metadata": {},
   "outputs": [],
   "source": [
    "# %load_ext line_profiler"
   ]
  },
  {
   "cell_type": "markdown",
   "metadata": {},
   "source": [
    "# k.p example of using the Lowdin perturbation\n",
    "\n",
    "This example requires [semicon](https://gitlab.kwant-project.org/semicon/semicon) to be installed.\n",
    "\n",
    "It should be as easy as \n",
    "```\n",
    "pip install git+https://gitlab.kwant-project.org/semicon/semicon.git\n",
    "```"
   ]
  },
  {
   "cell_type": "code",
   "execution_count": null,
   "metadata": {},
   "outputs": [],
   "source": [
    "try:\n",
    "    import semicon\n",
    "except ImportError:\n",
    "    print(\"Semicon should be installed to run this notebook.\")"
   ]
  },
  {
   "cell_type": "code",
   "execution_count": null,
   "metadata": {},
   "outputs": [],
   "source": [
    "import kwant\n",
    "import scipy\n",
    "import sympy\n",
    "import semicon\n",
    "\n",
    "\n",
    "print(\"semicon version:\", semicon.__version__)\n",
    "print(\"kwant version:\", kwant.__version__)\n",
    "print(\"scipy version:\", scipy.__version__)\n",
    "print(\"sympy version\", sympy.__version__)"
   ]
  },
  {
   "cell_type": "code",
   "execution_count": null,
   "metadata": {},
   "outputs": [],
   "source": [
    "import warnings\n",
    "warnings.filterwarnings(\"ignore\", category=FutureWarning) \n",
    "warnings.filterwarnings(\"ignore\", category=kwant.KwantDeprecationWarning)"
   ]
  },
  {
   "cell_type": "markdown",
   "metadata": {},
   "source": [
    "## Prepare k.p model and solve it exactly"
   ]
  },
  {
   "cell_type": "code",
   "execution_count": null,
   "metadata": {},
   "outputs": [],
   "source": [
    "gamma_0 = 1.0\n",
    "\n",
    "# Get the k.p model for ZincBlende material\n",
    "model = semicon.models.ZincBlende(\n",
    "    components=('foreman',),\n",
    "    default_databank='lawaetz'\n",
    ")\n",
    "kpham = model.hamiltonian\n",
    "\n",
    "# Get parameters for InAs\n",
    "InAs = model.parameters('InAs').renormalize(new_gamma_0=gamma_0)\n",
    "\n",
    "display(kpham)\n",
    "\n",
    "# Add Zeeman field with InAs bulk g-factor value\n",
    "g_bulk = -15\n",
    "\n",
    "kpham += sum(-sympy.sympify(B) * g_bulk * sympy.sympify('mu_B') * model.spin_operators[i] for i, B in enumerate(['B_x', 'B_y', 'B_z']))\n",
    "\n",
    "# Add electric field\n",
    "kpham += sympy.sympify('- E_x * x - E_y * y') * np.eye(8)\n",
    "\n",
    "InAs = {**InAs, 'B_x': 0, 'B_y': 0, 'B_z': 0, 'E_x': 0, 'E_y': 0}"
   ]
  },
  {
   "cell_type": "code",
   "execution_count": null,
   "metadata": {},
   "outputs": [],
   "source": [
    "kpham"
   ]
  },
  {
   "cell_type": "code",
   "execution_count": null,
   "metadata": {},
   "outputs": [],
   "source": [
    "# Discretize the model to get a kwant tight-binding model\n",
    "grid_spacing = 0.2\n",
    "R = 5\n",
    "\n",
    "tbham = kwant.continuum.discretize(kpham, grid=grid_spacing)\n",
    "# Add orbital magnetic field\n",
    "tbham = apply_peierls_to_template(tbham)\n",
    "\n",
    "# Fill an infinite wire with circular cross section with the model\n",
    "shape = lambda site: la.norm(site.pos) < R\n",
    "tz = np.array(tbham.symmetry.periods)[-1]\n",
    "wire = kwant.Builder(symmetry=kwant.TranslationalSymmetry(tz))\n",
    "wire.fill(tbham, shape, start=(0, 0, 0))\n",
    "kwant.plotter.plot(wire, num_lead_cells=10, pos_transform=lambda pos: pos[:2]);\n",
    "\n",
    "# Get the unit cell and hopping matrices\n",
    "wiref = wire.finalized()\n",
    "Hos = wiref.cell_hamiltonian(params=InAs, sparse=True).tocsr()\n",
    "Hos.eliminate_zeros()\n",
    "Hhop = wiref.inter_cell_hopping(params=InAs, sparse=True).tocsr()\n",
    "Hhop.eliminate_zeros()\n",
    "\n",
    "# Make second order model in k_z\n",
    "H0 = lowdin.Model({1: Hos + (Hhop + Hhop.T.conj())})\n",
    "Hkz = lowdin.Model({'k_z': grid_spacing * (1j * Hhop - 1j * Hhop.T.conj()),\n",
    "                    'k_z**2': grid_spacing**2 * (-1) * (Hhop + Hhop.T.conj())})\n",
    "H = H0 + Hkz"
   ]
  },
  {
   "cell_type": "code",
   "execution_count": null,
   "metadata": {},
   "outputs": [],
   "source": [
    "def exact_spectrum(wire, ks, params, sigma=0.5, num_states=6):\n",
    "    wrapped_wire = kwant.wraparound.wraparound(wire).finalized()\n",
    "    es = []\n",
    "    a = params['grid_spacing']\n",
    "    for k in ks:\n",
    "        pars = {**params, 'k_x': k * a}\n",
    "        e = scipy.sparse.linalg.eigsh(wrapped_wire.hamiltonian_submatrix(params=pars, sparse=True),\n",
    "                                      return_eigenvectors=False, sigma=sigma, k=num_states)\n",
    "        e = sorted(e)\n",
    "        es.append(e)\n",
    "    return np.array(es)"
   ]
  },
  {
   "cell_type": "code",
   "execution_count": null,
   "metadata": {},
   "outputs": [],
   "source": [
    "%%time\n",
    "# exact eigenenergies\n",
    "ks = np.linspace(-0.1, 0.1, 21)\n",
    "\n",
    "E_x = 0\n",
    "B_z = 0\n",
    "# This takes long, precalculate it\n",
    "try:\n",
    "    es = pickle.load(open('wire_exact_0.pickle', 'rb'))['es']\n",
    "except:\n",
    "    params = InAs.copy()\n",
    "    params.update(E_x=E_x, B_z=B_z, grid_spacing=grid_spacing)\n",
    "    es = exact_spectrum(wire, ks, params, sigma=0.5, num_states=6)\n",
    "    pickle.dump(dict(es=es,\n",
    "                     params=params,\n",
    "                     R=R,\n",
    "                     grid_spacing=grid_spacing),\n",
    "        open('wire_exact_0.pickle', 'wb'))\n",
    "    \n",
    "plt.plot(ks, es, '-');"
   ]
  },
  {
   "cell_type": "markdown",
   "metadata": {},
   "source": [
    "## Build perturbative Hamiltonian"
   ]
  },
  {
   "cell_type": "code",
   "execution_count": null,
   "metadata": {},
   "outputs": [],
   "source": [
    "def electric_terms(wiref):\n",
    "    # Make electric field perturbations\n",
    "\n",
    "    xop = kwant.operator.Density(wiref, onsite=lambda site: site.pos[0] * np.eye(8), sum=True).tocoo().tocsr()\n",
    "    xop.eliminate_zeros()\n",
    "    yop = kwant.operator.Density(wiref, onsite=lambda site: site.pos[1] * np.eye(8), sum=True).tocoo().tocsr()\n",
    "    yop.eliminate_zeros()\n",
    "\n",
    "    V = lowdin.Model({'E_x': -xop, 'E_y': -yop})\n",
    "    \n",
    "    return V\n",
    "\n",
    "def magnetic_terms(tbham, shape, order=1):\n",
    "    # Make magnetic field perturbations\n",
    "    HB = 0\n",
    "    for i, (n, B) in enumerate(zip(np.eye(3), ['B_x', 'B_y', 'B_z'])):\n",
    "        # orbital magnetic field\n",
    "        for k in range(1, order + 1):\n",
    "            tbhamB = magnetic_perturbation(tbham, n=n, order=k)\n",
    "            wireB = kwant.Builder(symmetry=kwant.TranslationalSymmetry(tz))\n",
    "            wireB.fill(tbhamB, shape, start=(0, 0, 0))\n",
    "            wireB = wireB.finalized()\n",
    "            matB = wireB.cell_hamiltonian(params=InAs, sparse=True).tocsr()\n",
    "            matB += wireB.inter_cell_hopping(params=InAs, sparse=True).tocsr() + wireB.inter_cell_hopping(params=InAs, sparse=True).tocsr().T.conj()\n",
    "            HB += lowdin.Model({B + '**{}'.format(k): matB})\n",
    "        # Zeeman term\n",
    "        matZ = kwant.operator.Density(wiref, onsite=lambda site: model.spin_operators[i], sum=True).tocoo().tocsr()\n",
    "        matZ.eliminate_zeros()\n",
    "        HB += lowdin.Model({B: InAs['mu_B'] * g_bulk * matZ})\n",
    "\n",
    "    return HB"
   ]
  },
  {
   "cell_type": "code",
   "execution_count": null,
   "metadata": {},
   "outputs": [],
   "source": [
    "sz0 = 0.5 * np.diag([1, -1, 3, 1, -1, -3, -1, 1])\n",
    "\n",
    "sz = kwant.operator.Density(wiref, \n",
    "                            onsite=lambda site: sz0,\n",
    "                            sum=True).tocoo().tocsr()\n",
    "\n",
    "def fix_basis(E0, vecsA):\n",
    "    # Order eigenstates by energy\n",
    "    e_order = np.argsort(E0)\n",
    "    E02 = np.sort(E0)\n",
    "    vecsA2 = vecsA[:, e_order]\n",
    "    # Make sure that the degenerate states are orthogonal\n",
    "    vecsA2, _ = la.qr(vecsA2, mode='economic')\n",
    "    assert len(E02) % 2 == 0\n",
    "    # Fix basis in degenerate eigensubspace by spin z polarization\n",
    "    szA = vecsA2.T.conj() @ sz @ vecsA2\n",
    "    for i in range(0, len(E02), 2):\n",
    "        assert np.isclose(E02[i], E02[i+1]), (i, E02)\n",
    "        _, U = la.eigh(szA[i:i+2, i:i+2])\n",
    "        vecsA2[:, i:i+2] = vecsA2[:, i:i+2] @ U\n",
    "        szAi = vecsA2[:, i:i+2].T.conj() @ sz @ vecsA2[:, i:i+2]\n",
    "        assert np.allclose(szAi, np.diag(np.diag(szAi)))\n",
    "    # fix phases, this is arbitrary, but removes phase ambiguity\n",
    "    phases = np.diag(np.angle(vecsA2.T @ vecsA2))\n",
    "    vecsA2 = vecsA2 @ np.diag(np.exp(-1j*phases/2))\n",
    "    return E02, vecsA2"
   ]
  },
  {
   "cell_type": "markdown",
   "metadata": {},
   "source": [
    "### Lowest subband $l=0$ states"
   ]
  },
  {
   "cell_type": "code",
   "execution_count": null,
   "metadata": {},
   "outputs": [],
   "source": [
    "# E_x = 0.01 # V/nm\n",
    "# B_z = 0.25 # Tesla\n",
    "E_x = 0.015 # V/nm\n",
    "B_z = 0.25 # Tesla"
   ]
  },
  {
   "cell_type": "markdown",
   "metadata": {},
   "source": [
    "#### 2nd order in most parameters, linear in B"
   ]
  },
  {
   "cell_type": "code",
   "execution_count": null,
   "metadata": {},
   "outputs": [],
   "source": [
    "%%time\n",
    "# Make perturbation basis of two lowest states\n",
    "kpm_params = dict(num_moments=1000)\n",
    "\n",
    "E0, vecsA = scipy.sparse.linalg.eigsh(H0[1], return_eigenvectors=True, sigma=0.45, k=2)\n",
    "E0, vecsA = fix_basis(E0, vecsA)\n",
    "print(E0)\n",
    "\n",
    "V = electric_terms(wiref)\n",
    "HB = magnetic_terms(tbham, shape)\n",
    "\n",
    "# only keep most interesting keys\n",
    "intersting_keys = sympy.sympify(['k_z', 'k_z**2',\n",
    "                                 'E_x', 'E_y', 'E_x**2', 'E_y**2',\n",
    "                                 'B_x', 'B_y', 'B_z',\n",
    "                                 'E_x * k_z', 'E_y * k_z',\n",
    "                                ])\n",
    "\n",
    "model0 = lowdin.effective_model(H0, Hkz + V + HB, evec_A=vecsA, order=2,\n",
    "                                kpm_params=kpm_params,\n",
    "                                interesting_keys=intersting_keys)\n",
    "\n",
    "display(model0.around(decimals=4).tosympy())"
   ]
  },
  {
   "cell_type": "code",
   "execution_count": null,
   "metadata": {},
   "outputs": [],
   "source": [
    "%%time\n",
    "# effective eigenenergies with electric and magnetic fields\n",
    "es0 = []\n",
    "\n",
    "ks = np.linspace(-0.1, 0.1, 101)\n",
    "for k in ks:\n",
    "    pars = {'k_z': k, 'E_x': E_x, 'E_y': 0, 'B_x': 0, 'B_y': 0, 'B_z': B_z}\n",
    "    e = la.eigh((model0).subs(pars)[1], eigvals_only=True)\n",
    "    es0.append(e)\n",
    "es2 = np.array(es0)\n",
    "\n",
    "# This takes long, precalculate it\n",
    "filename = 'wire_exact_{}_{}.pickle'.format(E_x, B_z)\n",
    "try:\n",
    "    esEB = pickle.load(open(filename, 'rb'))['esEB']\n",
    "except:\n",
    "    params = InAs.copy()\n",
    "    params.update(E_x=E_x, B_z=B_z, grid_spacing=grid_spacing)\n",
    "    esEB = exact_spectrum(wire, ks, params, sigma=0.42, num_states=2)\n",
    "    pickle.dump(dict(esEB=esEB,\n",
    "                     params=params,\n",
    "                     R=R,\n",
    "                     grid_spacing=grid_spacing),\n",
    "        open(filename, 'wb'))\n",
    "    \n",
    "plt.plot(ks, esEB, '--')\n",
    "plt.plot(ks, es2, '-')"
   ]
  },
  {
   "cell_type": "code",
   "execution_count": null,
   "metadata": {},
   "outputs": [],
   "source": [
    "plt.plot(ks, esEB, '--')\n",
    "plt.plot(ks, es2, '-')\n",
    "plt.ylim([0.545, 0.547])\n",
    "plt.xlim([-0.04, 0.04])"
   ]
  },
  {
   "cell_type": "markdown",
   "metadata": {},
   "source": [
    "#### 2nd order in all parameters"
   ]
  },
  {
   "cell_type": "code",
   "execution_count": null,
   "metadata": {},
   "outputs": [],
   "source": [
    "%%time\n",
    "# Make perturbation basis of two lowest states\n",
    "kpm_params = dict(num_moments=1000)\n",
    "\n",
    "E0, vecsA = scipy.sparse.linalg.eigsh(H0[1], return_eigenvectors=True, sigma=0.45, k=2)\n",
    "E0, vecsA = fix_basis(E0, vecsA)\n",
    "print(E0)\n",
    "\n",
    "V = electric_terms(wiref)\n",
    "HB = magnetic_terms(tbham, shape, order=2)\n",
    "\n",
    "# only keep up to correct power\n",
    "intersting_keys = lowdin._interesting_keys(sympy.sympify(['k_z', 'E_x', 'E_y', 'B_x', 'B_y', 'B_z']), order=2)\n",
    "\n",
    "model0 = lowdin.effective_model(H0, Hkz + V + HB, evec_A=vecsA, order=2,\n",
    "                                kpm_params=kpm_params,\n",
    "                                interesting_keys=intersting_keys)\n",
    "\n",
    "display(model0.around(decimals=4).tosympy())"
   ]
  },
  {
   "cell_type": "code",
   "execution_count": null,
   "metadata": {},
   "outputs": [],
   "source": [
    "%%time\n",
    "# effective eigenenergies with electric and magnetic fields\n",
    "es0 = []\n",
    "\n",
    "ks = np.linspace(-0.1, 0.1, 101)\n",
    "for k in ks:\n",
    "    pars = {'k_z': k, 'E_x': E_x, 'E_y': 0, 'B_x': 0, 'B_y': 0, 'B_z': B_z}\n",
    "    e = la.eigh((model0).subs(pars)[1], eigvals_only=True)\n",
    "    es0.append(e)\n",
    "es2 = np.array(es0)\n",
    "\n",
    "# This takes long, precalculate it\n",
    "filename = 'wire_exact_{}_{}.pickle'.format(E_x, B_z)\n",
    "try:\n",
    "    esEB = pickle.load(open(filename, 'rb'))['esEB']\n",
    "except:\n",
    "    params = InAs.copy()\n",
    "    params.update(E_x=E_x, B_z=B_z, grid_spacing=grid_spacing)\n",
    "    esEB = exact_spectrum(wire, ks, params, sigma=0.42, num_states=2)\n",
    "    pickle.dump(dict(esEB=esEB,\n",
    "                     params=params,\n",
    "                     R=R,\n",
    "                     grid_spacing=grid_spacing),\n",
    "        open(filename, 'wb'))\n",
    "    \n",
    "plt.plot(ks, esEB, '--')\n",
    "plt.plot(ks, es2, '-')"
   ]
  },
  {
   "cell_type": "code",
   "execution_count": null,
   "metadata": {},
   "outputs": [],
   "source": [
    "plt.plot(ks, esEB, '--')\n",
    "plt.plot(ks, es2, '-')\n",
    "plt.ylim([0.545, 0.547])\n",
    "plt.xlim([-0.04, 0.04])"
   ]
  },
  {
   "cell_type": "markdown",
   "metadata": {},
   "source": [
    "#### 4th order in $E$, 2nd order in everything"
   ]
  },
  {
   "cell_type": "code",
   "execution_count": null,
   "metadata": {},
   "outputs": [],
   "source": [
    "%%time\n",
    "# Make perturbation basis of two lowest states\n",
    "kpm_params = dict(num_moments=1000)\n",
    "\n",
    "E0, vecsA = scipy.sparse.linalg.eigsh(H0[1], return_eigenvectors=True, sigma=0.45, k=2)\n",
    "E0, vecsA = fix_basis(E0, vecsA)\n",
    "print(E0)\n",
    "\n",
    "V = electric_terms(wiref)\n",
    "HB = magnetic_terms(tbham, shape)\n",
    "\n",
    "# only keep most interesting keys\n",
    "intersting_keys = (list(lowdin._interesting_keys(sympy.sympify(['k_z', 'E_x', 'E_y', 'B_x', 'B_y', 'B_z']), order=2))\n",
    "                  + sympy.sympify(['E_x**3', 'E_x**4']))\n",
    "\n",
    "model0 = lowdin.effective_model(H0, Hkz + V + HB, evec_A=vecsA, order=4,\n",
    "                                kpm_params=kpm_params,\n",
    "                                interesting_keys=intersting_keys)\n",
    "\n",
    "display(model0.around(decimals=6).tosympy())"
   ]
  },
  {
   "cell_type": "code",
   "execution_count": null,
   "metadata": {},
   "outputs": [],
   "source": [
    "%%time\n",
    "# effective eigenenergies with electric and magnetic fields\n",
    "es0 = []\n",
    "ks = np.linspace(-0.1, 0.1, 101)\n",
    "for k in ks:\n",
    "    pars = {'k_z': k, 'E_x': E_x, 'E_y': 0, 'B_x': 0, 'B_y': 0, 'B_z': B_z}\n",
    "    e = la.eigh((model0).subs(pars)[1], eigvals_only=True)\n",
    "    es0.append(e)\n",
    "es42 = np.array(es0)\n",
    "\n",
    "# This takes long, precalculate it\n",
    "filename = 'wire_exact_{}_{}.pickle'.format(E_x, B_z)\n",
    "try:\n",
    "    esEB = pickle.load(open(filename, 'rb'))['esEB']\n",
    "except:\n",
    "    params = InAs.copy()\n",
    "    params.update(E_x=E_x, B_z=B_z, grid_spacing=grid_spacing)\n",
    "    esEB = exact_spectrum(wire, ks, params, sigma=0.42, num_states=2)\n",
    "    pickle.dump(dict(esEB=esEB,\n",
    "                     params=params,\n",
    "                     R=R,\n",
    "                     grid_spacing=grid_spacing),\n",
    "        open(filename, 'wb'))\n",
    "    \n",
    "plt.plot(ks, esEB, '--')\n",
    "plt.plot(ks, es42, '-')"
   ]
  },
  {
   "cell_type": "code",
   "execution_count": null,
   "metadata": {},
   "outputs": [],
   "source": [
    "plt.plot(ks, esEB, '--')\n",
    "plt.plot(ks, es4, '-')\n",
    "plt.ylim([0.545, 0.547])\n",
    "plt.xlim([-0.04, 0.04])"
   ]
  },
  {
   "cell_type": "markdown",
   "metadata": {},
   "source": [
    "#### 4th order in everything"
   ]
  },
  {
   "cell_type": "code",
   "execution_count": null,
   "metadata": {},
   "outputs": [],
   "source": [
    "%%time\n",
    "# Make perturbation basis of two lowest states\n",
    "kpm_params = dict(num_moments=1000)\n",
    "\n",
    "E0, vecsA = scipy.sparse.linalg.eigsh(H0[1], return_eigenvectors=True, sigma=0.45, k=2)\n",
    "E0, vecsA = fix_basis(E0, vecsA)\n",
    "print(E0)\n",
    "\n",
    "V = electric_terms(wiref)\n",
    "HB = magnetic_terms(tbham, shape)\n",
    "\n",
    "# only keep most interesting keys\n",
    "intersting_keys = lowdin._interesting_keys(sympy.sympify(['k_z', 'E_x', 'E_y', 'B_x', 'B_y', 'B_z']), order=4)\n",
    "\n",
    "model0 = lowdin.effective_model(H0, Hkz + V + HB, evec_A=vecsA, order=4,\n",
    "                                kpm_params=kpm_params,\n",
    "                                interesting_keys=intersting_keys)\n",
    "\n",
    "display(model0.around(decimals=6).tosympy())"
   ]
  },
  {
   "cell_type": "code",
   "execution_count": null,
   "metadata": {},
   "outputs": [],
   "source": [
    "%%time\n",
    "# effective eigenenergies with electric and magnetic fields\n",
    "es0 = []\n",
    "ks = np.linspace(-0.1, 0.1, 101)\n",
    "for k in ks:\n",
    "    pars = {'k_z': k, 'E_x': E_x, 'E_y': 0, 'B_x': 0, 'B_y': 0, 'B_z': B_z}\n",
    "    e = la.eigh((model0).subs(pars)[1], eigvals_only=True)\n",
    "    es0.append(e)\n",
    "es4 = np.array(es0)\n",
    "\n",
    "# This takes long, precalculate it\n",
    "filename = 'wire_exact_{}_{}.pickle'.format(E_x, B_z)\n",
    "try:\n",
    "    esEB = pickle.load(open(filename, 'rb'))['esEB']\n",
    "except:\n",
    "    params = InAs.copy()\n",
    "    params.update(E_x=E_x, B_z=B_z, grid_spacing=grid_spacing)\n",
    "    esEB = exact_spectrum(wire, ks, params, sigma=0.42, num_states=2)\n",
    "    pickle.dump(dict(esEB=esEB,\n",
    "                     params=params,\n",
    "                     R=R,\n",
    "                     grid_spacing=grid_spacing),\n",
    "        open(filename, 'wb'))\n",
    "    \n",
    "plt.plot(ks, esEB, '--')\n",
    "plt.plot(ks, es4, '-')"
   ]
  },
  {
   "cell_type": "code",
   "execution_count": null,
   "metadata": {},
   "outputs": [],
   "source": [
    "plt.plot(ks, esEB, '--')\n",
    "plt.plot(ks, es4, '-')\n",
    "plt.ylim([0.545, 0.547])\n",
    "plt.xlim([-0.04, 0.04])"
   ]
  },
  {
   "cell_type": "markdown",
   "metadata": {},
   "source": [
    "#### 6th order in $E$, 2nd order in everything"
   ]
  },
  {
   "cell_type": "code",
   "execution_count": null,
   "metadata": {},
   "outputs": [],
   "source": [
    "%%time\n",
    "# Make perturbation basis of two lowest states\n",
    "kpm_params = dict(num_moments=1000)\n",
    "\n",
    "E0, vecsA = scipy.sparse.linalg.eigsh(H0[1], return_eigenvectors=True, sigma=0.45, k=2)\n",
    "E0, vecsA = fix_basis(E0, vecsA)\n",
    "print(E0)\n",
    "\n",
    "V = electric_terms(wiref)\n",
    "HB = magnetic_terms(tbham, shape)\n",
    "\n",
    "# only keep most interesting keys\n",
    "intersting_keys = sympy.sympify(['k_z', 'k_z**2',\n",
    "                                 'E_x', 'E_y', 'E_x**2', 'E_y**2',\n",
    "                                 'E_x**3', 'E_x**4', 'E_x**5', 'E_x**6',\n",
    "                                 'E_x**2 * k_z', 'E_x * k_z**2', 'E_x**2 * k_z**2',\n",
    "                                 'E_x**3 * k_z', 'E_x * k_z**3',\n",
    "                                 'B_x', 'B_y', 'B_z',\n",
    "                                 'E_x * k_z', 'E_y * k_z',\n",
    "                                ])\n",
    "\n",
    "model0 = lowdin.effective_model(H0, Hkz + V + HB, evec_A=vecsA, order=6,\n",
    "                                kpm_params=kpm_params,\n",
    "                                interesting_keys=intersting_keys)\n",
    "\n",
    "display(model0.around(decimals=4).tosympy())"
   ]
  },
  {
   "cell_type": "code",
   "execution_count": null,
   "metadata": {},
   "outputs": [],
   "source": [
    "%%time\n",
    "# effective eigenenergies with electric and magnetic fields\n",
    "es0 = []\n",
    "ks = np.linspace(-0.1, 0.1, 101)\n",
    "for k in ks:\n",
    "    pars = {'k_z': k, 'E_x': E_x, 'E_y': 0, 'B_x': 0, 'B_y': 0, 'B_z': B_z}\n",
    "    e = la.eigh((model0).subs(pars)[1], eigvals_only=True)\n",
    "    es0.append(e)\n",
    "es6 = np.array(es0)\n",
    "\n",
    "# This takes long, precalculate it\n",
    "filename = 'wire_exact_{}_{}.pickle'.format(E_x, B_z, grid_spacing=grid_spacing)\n",
    "try:\n",
    "    esEB = pickle.load(open(filename, 'rb'))['esEB']\n",
    "except:\n",
    "    params = InAs.copy()\n",
    "    params.update(E_x=E_x, B_z=B_z)\n",
    "    esEB = exact_spectrum(wire, ks, params, sigma=0.42, num_states=2)\n",
    "    pickle.dump(dict(esEB=esEB,\n",
    "                     params=params,\n",
    "                     R=R,\n",
    "                     grid_spacing=grid_spacing),\n",
    "        open(filename, 'wb'))\n",
    "    \n",
    "plt.plot(ks, esEB, '--')\n",
    "plt.plot(ks, es6, '-')"
   ]
  },
  {
   "cell_type": "code",
   "execution_count": null,
   "metadata": {},
   "outputs": [],
   "source": [
    "plt.plot(ks, esEB, '--')\n",
    "plt.plot(ks, es6, '-')\n",
    "plt.ylim([0.545, 0.547])\n",
    "plt.xlim([-0.04, 0.04])"
   ]
  },
  {
   "cell_type": "markdown",
   "metadata": {},
   "source": [
    "#### 6th order in $E$, $E^2$ correction to effective mass"
   ]
  },
  {
   "cell_type": "code",
   "execution_count": null,
   "metadata": {},
   "outputs": [],
   "source": [
    "%%time\n",
    "# Make perturbation basis of two lowest states\n",
    "kpm_params = dict(num_moments=1000)\n",
    "\n",
    "E0, vecsA = scipy.sparse.linalg.eigsh(H0[1], return_eigenvectors=True, sigma=0.45, k=2)\n",
    "E0, vecsA = fix_basis(E0, vecsA)\n",
    "print(E0)\n",
    "\n",
    "V = electric_terms(wiref)\n",
    "HB = magnetic_terms(tbham, shape)\n",
    "\n",
    "# only keep most interesting keys\n",
    "intersting_keys = sympy.sympify(['k_z', 'k_z**2',\n",
    "                                 'E_x', 'E_y', 'E_x**2', 'E_y**2',\n",
    "                                 'E_x**3', 'E_x**4', 'E_x**5', 'E_x**6',\n",
    "                                 'E_x**2 * k_z', 'E_x**2 * k_z**2',\n",
    "                                 'B_x', 'B_y', 'B_z',\n",
    "                                 'E_x * k_z', 'E_y * k_z',\n",
    "                                ])\n",
    "\n",
    "model0 = lowdin.effective_model(H0, Hkz + V + HB, evec_A=vecsA, order=6,\n",
    "                                kpm_params=kpm_params,\n",
    "                                interesting_keys=intersting_keys)\n",
    "\n",
    "model0.around(decimals=4).tosympy()"
   ]
  },
  {
   "cell_type": "code",
   "execution_count": null,
   "metadata": {},
   "outputs": [],
   "source": [
    "%%time\n",
    "# effective eigenenergies with electric and magnetic fields\n",
    "es0 = []\n",
    "ks = np.linspace(-0.1, 0.1, 101)\n",
    "for k in ks:\n",
    "    pars = {'k_z': k, 'E_x': E_x, 'E_y': 0, 'B_x': 0, 'B_y': 0, 'B_z': B_z}\n",
    "    e = la.eigh((model0).subs(pars)[1], eigvals_only=True)\n",
    "    es0.append(e)\n",
    "es62 = np.array(es0)\n",
    "\n",
    "# This takes long, precalculate it\n",
    "filename = 'wire_exact_{}_{}.pickle'.format(E_x, B_z)\n",
    "try:\n",
    "    esEB = pickle.load(open(filename, 'rb'))['esEB']\n",
    "except:\n",
    "    params = InAs.copy()\n",
    "    params.update(E_x=E_x, B_z=B_z, grid_spacing=grid_spacing)\n",
    "    esEB = exact_spectrum(wire, ks, params, sigma=0.42, num_states=2)\n",
    "    pickle.dump(dict(esEB=esEB,\n",
    "                     params=params,\n",
    "                     R=R,\n",
    "                     grid_spacing=grid_spacing),\n",
    "        open(filename, 'wb'))\n",
    "    \n",
    "plt.plot(ks, esEB, '--')\n",
    "plt.plot(ks, es62, '-')"
   ]
  },
  {
   "cell_type": "code",
   "execution_count": null,
   "metadata": {},
   "outputs": [],
   "source": [
    "plt.plot(ks, esEB, '--')\n",
    "plt.plot(ks, es62, '-')\n",
    "plt.ylim([0.545, 0.547])\n",
    "plt.xlim([-0.04, 0.04])"
   ]
  },
  {
   "cell_type": "code",
   "execution_count": null,
   "metadata": {},
   "outputs": [],
   "source": [
    "for i in range(2):\n",
    "    plt.plot(ks, 1000*esEB[:, i], '-', c='C0', label=('exact' if i == 0 else ''))\n",
    "    plt.plot(ks, 1000*es2[:, i], ':', c='C1', label=('2nd order' if i == 0 else ''))\n",
    "    plt.plot(ks, 1000*es42[:, i], '--', c='C2', label=(r'2nd order + $E_x^4$' if i == 0 else ''))\n",
    "\n",
    "plt.ylim([545, 547])\n",
    "plt.xlim([-0.05, 0.05])\n",
    "plt.legend()\n",
    "plt.ylabel(r'$E$ [meV]')\n",
    "plt.xlabel(r'$k_z$ [nm$^{-1}$]')\n",
    "plt.tight_layout()\n",
    "plt.savefig('nanowire_spectrum.pdf')"
   ]
  },
  {
   "cell_type": "code",
   "execution_count": null,
   "metadata": {},
   "outputs": [],
   "source": [
    "plt.plot(ks, esEB, '--')\n",
    "plt.plot(ks, es2, ':')\n",
    "plt.plot(ks, es4, ':')\n",
    "plt.plot(ks, es6, '-')\n",
    "plt.plot(ks, es62, '-')\n",
    "\n",
    "plt.ylim([0.545, 0.548])\n",
    "plt.xlim([-0.05, 0.05])\n",
    "plt.legend(['exact',\n",
    "            'exact',\n",
    "            '2nd order',\n",
    "            '2nd order',\n",
    "            r'2nd order + $E^4$',\n",
    "            r'2nd order + $E^4$',\n",
    "            r'2nd order + $E^6$',\n",
    "            r'2nd order + $E^6$',\n",
    "            r'2nd order + $E^6$ + $E^6 k_z^2$',\n",
    "            r'2nd order + $E^6$ + $E^6 k_z^2$'],\n",
    "           loc=(1, 0))"
   ]
  },
  {
   "cell_type": "code",
   "execution_count": null,
   "metadata": {},
   "outputs": [],
   "source": [
    "# Use more states exactly\n",
    "kpm_params = dict(num_moments=100)\n",
    "\n",
    "# Make perturbation basis of two lowest states\n",
    "E0, vecs = scipy.sparse.linalg.eigsh(H0[1], return_eigenvectors=True, sigma=0.4, k=60)\n",
    "E0, vecs = fix_basis(E0, vecs)\n",
    "print(E0)\n",
    "\n",
    "ind_0 = np.argwhere(E0 > 0)[:2].flatten()\n",
    "\n",
    "model0 = lowdin.effective_model(H0, Hkz + V + HB,\n",
    "                                evec_A=vecs[:, ind_0],\n",
    "                                evec_B=vecs[:, np.setdiff1d(np.arange(vecs.shape[1]), ind_0)],\n",
    "                                order=2, interesting_keys=intersting_keys,\n",
    "                                kpm_params=kpm_params)\n",
    "display(model0.around(decimals=4).tosympy())"
   ]
  },
  {
   "cell_type": "code",
   "execution_count": null,
   "metadata": {},
   "outputs": [],
   "source": [
    "# effective eigenenergies with electric and magnetic fields\n",
    "es0 = []\n",
    "E_x = 0.02 # V/nm\n",
    "B_z = 0.5 # Tesla\n",
    "ks = np.linspace(-0.1, 0.1, 101)\n",
    "for k in ks:\n",
    "    pars = {'k_z': k, 'E_x': E_x, 'E_y': 0, 'B_x': 0, 'B_y': 0, 'B_z': B_z}\n",
    "    e = la.eigh((model0).subs(pars)[1], eigvals_only=True)\n",
    "    es0.append(e)\n",
    "es0 = np.array(es0)\n",
    "    \n",
    "plt.plot(ks, esEB, '--')\n",
    "plt.plot(ks, es0, '-')"
   ]
  },
  {
   "cell_type": "code",
   "execution_count": null,
   "metadata": {},
   "outputs": [],
   "source": [
    "# Make perturbation basis of two lowest states\n",
    "kpm_params = dict(num_moments=1000)\n",
    "\n",
    "E0, vecsA = scipy.sparse.linalg.eigsh(H0[1], return_eigenvectors=True, sigma=0.45, k=2)\n",
    "E0, vecsA = fix_basis(E0, vecsA)\n",
    "print(E0)\n",
    "\n",
    "V = electric_terms(wiref)\n",
    "HB = magnetic_terms(tbham, shape)\n",
    "\n",
    "# only keep most interesting keys\n",
    "intersting_keys = sympy.sympify(['k_z', 'k_z**2',\n",
    "                                 'E_x', 'E_y', 'E_x**2', 'E_y**2',\n",
    "                                 'E_x**3', 'E_x**4', 'E_x**5', 'E_x**6',\n",
    "                                 'B_x', 'B_y', 'B_z',\n",
    "                                 'E_x * k_z', 'E_y * k_z'])\n",
    "\n",
    "model0 = lowdin.effective_model(H0, Hkz + V + HB, evec_A=vecsA, order=6,\n",
    "                                kpm_params=kpm_params,\n",
    "                                interesting_keys=intersting_keys)\n",
    "\n",
    "model0.around(decimals=4).tosympy()"
   ]
  },
  {
   "cell_type": "code",
   "execution_count": null,
   "metadata": {},
   "outputs": [],
   "source": [
    "es00 = []\n",
    "# es00e = []\n",
    "Exs = np.linspace(-0.02, 0.02, 41)\n",
    "for E_x in Exs:\n",
    "    print(E_x)\n",
    "    pars = {'k_z': 0, 'E_x': E_x, 'E_y': 0, 'B_x': 0, 'B_y': 0, 'B_z': 0}\n",
    "    e = la.eigh((model0).subs(pars)[1], eigvals_only=True)\n",
    "    es00.append(e)\n",
    "\n",
    "#     params = InAs.copy()\n",
    "#     params.update(E_x=E_x)\n",
    "#     ee = exact_spectrum(wire, [0], params, sigma=0.42, num_states=2)\n",
    "#     es00e.append(ee)\n",
    "es00 = np.array(es00)\n",
    "# es00e = np.array(es00e)"
   ]
  },
  {
   "cell_type": "code",
   "execution_count": null,
   "metadata": {},
   "outputs": [],
   "source": [
    "# with 4th order\n",
    "plt.plot(Exs, es002[:, 0], '-')\n",
    "plt.plot(Exs, es004[:, 0], '-')\n",
    "plt.plot(Exs, es006[:, 0], '-')\n",
    "plt.plot(Exs, es00e.reshape((41, 2))[:, 0], '--')\n",
    "plt.ylim([0.4, 0.47])\n",
    "plt.xlim([-0.02, 0.02])\n",
    "plt.legend(['2nd order', '4th order', '6th order', 'exact'])\n",
    "plt.xlabel(r'$E_x$')\n",
    "plt.ylabel(r'$E$')"
   ]
  },
  {
   "cell_type": "code",
   "execution_count": null,
   "metadata": {},
   "outputs": [],
   "source": [
    "# Shift exact spectrum to match it\n",
    "plt.plot(ks, esEB - 0.0248, '--')\n",
    "plt.plot(ks, es0, '-')\n",
    "plt.ylim([0.375, 0.39])\n",
    "plt.xlim([-0.05, 0.05])"
   ]
  },
  {
   "cell_type": "markdown",
   "metadata": {},
   "source": [
    "### Second lowest subband $l=1$ states"
   ]
  },
  {
   "cell_type": "code",
   "execution_count": null,
   "metadata": {},
   "outputs": [],
   "source": [
    "# Make perturbation basis of second lowest states\n",
    "kpm_params = dict(num_moments=1000)\n",
    "E0, vecsA = scipy.sparse.linalg.eigsh(H0[1], return_eigenvectors=True, sigma=0.55, k=4)\n",
    "E0, vecsA = fix_basis(E0, vecsA)\n",
    "print(E0)\n",
    "print(np.diag(vecsA.T.conj() @ sz @ vecsA))\n",
    "print(np.diag(vecsA.T.conj() @ Hos @ vecsA))\n",
    "\n",
    "model1 = lowdin.effective_model(H0, Hkz + V + HB, evec_A=vecsA,\n",
    "                                order=2, interesting_keys=intersting_keys,\n",
    "                                kpm_params=kpm_params)\n",
    "\n",
    "model1.around(decimals=4).tosympy()"
   ]
  },
  {
   "cell_type": "code",
   "execution_count": null,
   "metadata": {},
   "outputs": [],
   "source": [
    "# effective eigenenergies with zero fields\n",
    "es1 = []\n",
    "ks = np.linspace(-0.1, 0.1, 101)\n",
    "for k in ks:\n",
    "    pars = {'k_z': k, 'E_x': 0, 'E_y': 0, 'B_x': 0, 'B_y': 0, 'B_z': 0}\n",
    "    e = la.eigh((model1).subs(pars)[1], eigvals_only=True)\n",
    "    es1.append(e)\n",
    "es1 = np.array(es1)\n",
    "    \n",
    "plt.plot(ks, es1, '-')"
   ]
  },
  {
   "cell_type": "code",
   "execution_count": null,
   "metadata": {},
   "outputs": [],
   "source": [
    "# effective eigenenergies with electric field\n",
    "E_x = 0.01\n",
    "es1 = []\n",
    "ks = np.linspace(-0.1, 0.1, 101)\n",
    "for k in ks:\n",
    "    pars = {'k_z': k, 'E_x': E_x, 'E_y': 0, 'B_x': 0, 'B_y': 0, 'B_z': 0}\n",
    "    e = la.eigh((model1).subs(pars)[1], eigvals_only=True)\n",
    "    es1.append(e)\n",
    "es1 = np.array(es1)\n",
    "\n",
    "plt.plot(ks, es1, '-')"
   ]
  },
  {
   "cell_type": "code",
   "execution_count": null,
   "metadata": {},
   "outputs": [],
   "source": [
    "# effective eigenenergies with electric and magnetic fields\n",
    "es1 = []\n",
    "E_x = 0.02\n",
    "B_z = 0.5\n",
    "ks = np.linspace(-0.1, 0.1, 101)\n",
    "for k in ks:\n",
    "    pars = {'k_z': k, 'E_x': E_x, 'E_y': 0, 'B_x': 0, 'B_y': 0, 'B_z': B_z}\n",
    "    e = la.eigh((model1).subs(pars)[1], eigvals_only=True)\n",
    "    es1.append(e)\n",
    "es1 = np.array(es1)\n",
    "\n",
    "plt.plot(ks, es1, '-')\n",
    "plt.ylim([0.48, 0.50])"
   ]
  },
  {
   "cell_type": "markdown",
   "metadata": {},
   "source": [
    "## Perturbation around finite $E_x$"
   ]
  },
  {
   "cell_type": "markdown",
   "metadata": {},
   "source": [
    "### Lowest subband $l=0$ states"
   ]
  },
  {
   "cell_type": "code",
   "execution_count": null,
   "metadata": {},
   "outputs": [],
   "source": [
    "# E_x = 0.01 # V/nm\n",
    "# B_z = 0.25 # Tesla\n",
    "E_x0 = 0.1 # V/nm\n",
    "dE_x = 0 # V/nm\n",
    "B_z = 1 # Tesla"
   ]
  },
  {
   "cell_type": "markdown",
   "metadata": {},
   "source": [
    "#### 2nd order in most parameters, linear in B"
   ]
  },
  {
   "cell_type": "code",
   "execution_count": null,
   "metadata": {},
   "outputs": [],
   "source": [
    "H0[1].shape, xop.shape"
   ]
  },
  {
   "cell_type": "code",
   "execution_count": null,
   "metadata": {},
   "outputs": [],
   "source": [
    "%%time\n",
    "# Make perturbation basis of two lowest states\n",
    "kpm_params = dict(num_moments=1000)\n",
    "\n",
    "xop = kwant.operator.Density(wiref, onsite=lambda site: site.pos[0] * np.eye(8), sum=True).tocoo().tocsr()\n",
    "xop.eliminate_zeros()\n",
    "\n",
    "E0, vecsA = scipy.sparse.linalg.eigsh(H0[1] - E_x0 * xop, return_eigenvectors=True, sigma=0.45, k=2)\n",
    "E0, vecsA = fix_basis(E0, vecsA)\n",
    "print(E0)\n",
    "\n",
    "V = electric_terms(wiref)\n",
    "HB = magnetic_terms(tbham, shape)\n",
    "\n",
    "# only keep most interesting keys\n",
    "intersting_keys = sympy.sympify(['k_z', 'k_z**2',\n",
    "                                 'E_x', 'E_y', 'E_x**2', 'E_y**2',\n",
    "                                 'B_x', 'B_y', 'B_z',\n",
    "                                 'E_x * k_z', 'E_y * k_z',\n",
    "                                ])\n",
    "\n",
    "model2f = lowdin.effective_model(H0 - E_x0 * xop, Hkz + V + HB, evec_A=vecsA, order=2,\n",
    "                                kpm_params=kpm_params,\n",
    "                                interesting_keys=intersting_keys)\n",
    "\n",
    "display(model2f.around(decimals=4).tosympy())"
   ]
  },
  {
   "cell_type": "code",
   "execution_count": null,
   "metadata": {},
   "outputs": [],
   "source": [
    "%%time\n",
    "# effective eigenenergies with electric and magnetic fields\n",
    "es0 = []\n",
    "\n",
    "ks = np.linspace(-0.1, 0.1, 101)\n",
    "for k in ks:\n",
    "    pars = {'k_z': k, 'E_x': dE_x, 'E_y': 0, 'B_x': 0, 'B_y': 0, 'B_z': B_z}\n",
    "    e = la.eigh((model2f).subs(pars)[1], eigvals_only=True)\n",
    "    es0.append(e)\n",
    "es2f = np.array(es0)\n",
    "\n",
    "es0 = []\n",
    "for k in ks:\n",
    "    pars = {'k_z': k, 'E_x': dE_x, 'E_y': 0, 'B_x': 0, 'B_y': 0, 'B_z': 0}\n",
    "    e = la.eigh((model2f).subs(pars)[1], eigvals_only=True)\n",
    "    es0.append(e)\n",
    "es20 = np.array(es0)\n",
    "\n",
    "# This takes long, precalculate it\n",
    "filename = 'wire_exact_finite_E_{}_{}.pickle'.format(E_x0, B_z)\n",
    "try:\n",
    "    esEB = pickle.load(open(filename, 'rb'))['esEB']\n",
    "except:\n",
    "    params = InAs.copy()\n",
    "    params.update(E_x=E_x0, B_z=B_z, grid_spacing=grid_spacing)\n",
    "    esEB = exact_spectrum(wire, ks, params, sigma=0.40, num_states=2)\n",
    "    pickle.dump(dict(esEB=esEB,\n",
    "                     params=params,\n",
    "                     R=R,\n",
    "                     grid_spacing=grid_spacing),\n",
    "        open(filename, 'wb'))\n",
    "    \n",
    "plt.plot(ks, esEB, '--')\n",
    "plt.plot(ks, es2f, '-')\n",
    "plt.plot(ks, es20, ':')"
   ]
  },
  {
   "cell_type": "code",
   "execution_count": null,
   "metadata": {},
   "outputs": [],
   "source": [
    "plt.rcParams['text.usetex'] = True\n",
    "\n",
    "for i in range(2):\n",
    "    plt.plot(ks, 1000*es2f[:, i], '-', c='C2', label=(r'2nd order at $B_z = 1$T' if i == 0 else ''))\n",
    "    plt.plot(ks, 1000*es20[:, i], ':', c='C3', label=('2nd order at $B_z = 0$' if i == 0 else ''))\n",
    "    plt.plot(ks, 1000*esEB[:, i], '--', c='C1', label=('exact at $B_z = 1$T' if i == 0 else ''))\n",
    "    # plt.plot(ks, 1000*es2[:, i] + 052.3, '-.', c='C4', label=(r'2nd order at $B_z = 1$T expanded around $E_x = 0$' if i == 0 else ''))\n",
    "\n",
    "plt.ylim([399, 410])\n",
    "plt.xlim([-0.1, 0.1])\n",
    "plt.legend()\n",
    "plt.ylabel(r'$E$ [meV]')\n",
    "plt.xlabel(r'$k_z$ [nm$^{-1}$]')\n",
    "plt.tight_layout()\n",
    "plt.savefig('nanowire_spectrum.pdf')"
   ]
  },
  {
   "cell_type": "markdown",
   "metadata": {},
   "source": [
    "#### Compare with 2nd order in most parameters, linear in B expanded around $E_x=0$"
   ]
  },
  {
   "cell_type": "code",
   "execution_count": null,
   "metadata": {},
   "outputs": [],
   "source": [
    "%%time\n",
    "# Make perturbation basis of two lowest states\n",
    "kpm_params = dict(num_moments=1000)\n",
    "\n",
    "E0, vecsA = scipy.sparse.linalg.eigsh(H0[1], return_eigenvectors=True, sigma=0.45, k=2)\n",
    "E0, vecsA = fix_basis(E0, vecsA)\n",
    "print(E0)\n",
    "\n",
    "V = electric_terms(wiref)\n",
    "HB = magnetic_terms(tbham, shape)\n",
    "\n",
    "# only keep most interesting keys\n",
    "intersting_keys = sympy.sympify(['k_z', 'k_z**2',\n",
    "                                 'E_x', 'E_y', 'E_x**2', 'E_y**2',\n",
    "                                 'B_x', 'B_y', 'B_z',\n",
    "                                 'E_x * k_z', 'E_y * k_z',\n",
    "                                ])\n",
    "\n",
    "model0 = lowdin.effective_model(H0, Hkz + V + HB, evec_A=vecsA, order=2,\n",
    "                                kpm_params=kpm_params,\n",
    "                                interesting_keys=intersting_keys)\n",
    "\n",
    "display(model0.around(decimals=5).tosympy())"
   ]
  },
  {
   "cell_type": "code",
   "execution_count": null,
   "metadata": {},
   "outputs": [],
   "source": [
    "# get parameters in convenient units\n",
    "# effective mass in free electron mass units\n",
    "print('m^* =', params['hbar']**2 / (2 * model0['k_z**2'][0, 0].real * params['m_0']), r'm_0')\n",
    "\n",
    "# g-factor\n",
    "print('g_xx = g_yy =', -2 * model0['B_x'][1, 0].real / params['mu_B'])\n",
    "print('g_zz =', -2 * model0['B_z'][0, 0].real / params['mu_B'])"
   ]
  },
  {
   "cell_type": "code",
   "execution_count": null,
   "metadata": {},
   "outputs": [],
   "source": [
    "%%time\n",
    "# effective eigenenergies with electric and magnetic fields\n",
    "es0 = []\n",
    "\n",
    "ks = np.linspace(-0.1, 0.1, 101)\n",
    "for k in ks:\n",
    "    pars = {'k_z': k, 'E_x': E_x0, 'E_y': 0, 'B_x': 0, 'B_y': 0, 'B_z': B_z}\n",
    "    e = la.eigh((model0).subs(pars)[1], eigvals_only=True)\n",
    "    es0.append(e)\n",
    "es2 = np.array(es0)\n",
    "\n",
    "plt.plot(ks, esEB, '--')\n",
    "plt.plot(ks, es2 + 0.0522, '-')"
   ]
  },
  {
   "cell_type": "code",
   "execution_count": null,
   "metadata": {},
   "outputs": [],
   "source": [
    "xop = kwant.operator.Density(wiref, onsite=lambda site: site.pos[0] * np.eye(8), sum=True).tocoo().tocsr()\n",
    "xop.eliminate_zeros()"
   ]
  },
  {
   "cell_type": "code",
   "execution_count": null,
   "metadata": {},
   "outputs": [],
   "source": [
    "kphamx = sympy.Matrix(sympy.sympify('x') * np.eye(8))\n",
    "tbhamx = kwant.continuum.discretize(kphamx, coords=['x', 'y', 'z'], grid_spacing=grid_spacing)\n",
    "tbhamx[list(tbhamx.sites())[0].family.neighbors()] = np.zeros((8, 8))\n",
    "\n",
    "# Fill an infinite wire with circular cross section with the model\n",
    "shape = lambda site: la.norm(site.pos) < R\n",
    "tz = np.array(tbham.symmetry.periods)[-1]\n",
    "wirex = kwant.Builder(symmetry=kwant.TranslationalSymmetry(tz))\n",
    "wirex.fill(tbhamx, shape, start=(0, 0, 0))\n",
    "wirexf = wirex.finalized()"
   ]
  },
  {
   "cell_type": "code",
   "execution_count": null,
   "metadata": {},
   "outputs": [],
   "source": [
    "type(kphamx)"
   ]
  },
  {
   "cell_type": "code",
   "execution_count": null,
   "metadata": {},
   "outputs": [],
   "source": [
    "sympy.sympify(kphamx)"
   ]
  },
  {
   "cell_type": "code",
   "execution_count": null,
   "metadata": {},
   "outputs": [],
   "source": [
    "x1 = wirexf.cell_hamiltonian(sparse=True)"
   ]
  },
  {
   "cell_type": "code",
   "execution_count": null,
   "metadata": {},
   "outputs": [],
   "source": [
    "x2 = wiref.cell_hamiltonian(sparse=True, params={p: (0 if p not in ['m_0', 'E_x', 'phi_0'] else 1) for p in InAs})"
   ]
  },
  {
   "cell_type": "code",
   "execution_count": null,
   "metadata": {},
   "outputs": [],
   "source": [
    "(-x1 - x2).data"
   ]
  },
  {
   "cell_type": "code",
   "execution_count": null,
   "metadata": {},
   "outputs": [],
   "source": [
    "(x1 - xop).data"
   ]
  },
  {
   "cell_type": "code",
   "execution_count": null,
   "metadata": {},
   "outputs": [],
   "source": [
    "x=0.1\n",
    "np.array([[1/np.tan(x), 1/np.sin(x)], [1/np.sin(x), 1/np.tan(x)]])"
   ]
  },
  {
   "cell_type": "code",
   "execution_count": null,
   "metadata": {},
   "outputs": [],
   "source": []
  }
 ],
 "metadata": {
  "kernelspec": {
   "display_name": "Python [conda env:kwant_conda]",
   "language": "python",
   "name": "conda-env-kwant_conda-py"
  },
  "language_info": {
   "codemirror_mode": {
    "name": "ipython",
    "version": 3
   },
   "file_extension": ".py",
   "mimetype": "text/x-python",
   "name": "python",
   "nbconvert_exporter": "python",
   "pygments_lexer": "ipython3",
   "version": "3.7.1"
  }
 },
 "nbformat": 4,
 "nbformat_minor": 2
}
