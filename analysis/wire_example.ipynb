{
 "cells": [
  {
   "cell_type": "code",
   "execution_count": null,
   "metadata": {},
   "outputs": [],
   "source": [
    "import kwant\n",
    "import semicon\n",
    "\n",
    "import numpy as np\n",
    "import scipy.linalg as la\n",
    "import scipy.sparse\n",
    "import scipy.sparse.linalg as sla\n",
    "import pickle\n",
    "\n",
    "import sympy\n",
    "sympy.init_printing(print_builtin=False)\n",
    "\n",
    "import matplotlib.pyplot as plt\n",
    "%matplotlib inline\n",
    "\n",
    "import codes.higher_order_lowdin as lowdin\n",
    "from codes.combine import apply_peierls_to_template, magnetic_perturbation"
   ]
  },
  {
   "cell_type": "code",
   "execution_count": null,
   "metadata": {},
   "outputs": [],
   "source": [
    "# %load_ext line_profiler"
   ]
  },
  {
   "cell_type": "markdown",
   "metadata": {},
   "source": [
    "# k.p example of using the Lowdin perturbation\n",
    "\n",
    "This example requires [semicon](https://gitlab.kwant-project.org/semicon/semicon) to be installed.\n",
    "\n",
    "It should be as easy as \n",
    "```\n",
    "pip install git+https://gitlab.kwant-project.org/semicon/semicon.git\n",
    "```"
   ]
  },
  {
   "cell_type": "code",
   "execution_count": null,
   "metadata": {},
   "outputs": [],
   "source": [
    "try:\n",
    "    import semicon\n",
    "except ImportError:\n",
    "    print(\"Semicon should be installed to run this notebook.\")"
   ]
  },
  {
   "cell_type": "code",
   "execution_count": null,
   "metadata": {},
   "outputs": [],
   "source": [
    "import kwant\n",
    "import scipy\n",
    "import sympy\n",
    "import semicon\n",
    "\n",
    "\n",
    "print(\"semicon version:\", semicon.__version__)\n",
    "print(\"kwant version:\", kwant.__version__)\n",
    "print(\"scipy version:\", scipy.__version__)\n",
    "print(\"sympy version\", sympy.__version__)"
   ]
  },
  {
   "cell_type": "code",
   "execution_count": null,
   "metadata": {},
   "outputs": [],
   "source": [
    "import warnings\n",
    "warnings.filterwarnings(\"ignore\", category=FutureWarning) \n",
    "warnings.filterwarnings(\"ignore\", category=kwant.KwantDeprecationWarning)"
   ]
  },
  {
   "cell_type": "markdown",
   "metadata": {},
   "source": [
    "## Prepare k.p model and solve it exactly"
   ]
  },
  {
   "cell_type": "code",
   "execution_count": null,
   "metadata": {},
   "outputs": [],
   "source": [
    "gamma_0 = 1.0\n",
    "\n",
    "# Get the k.p model for ZincBlende material\n",
    "model = semicon.models.ZincBlende(\n",
    "    components=('foreman',),\n",
    "    default_databank='lawaetz'\n",
    ")\n",
    "kpham = model.hamiltonian\n",
    "\n",
    "# Get parameters for InAs\n",
    "InAs = model.parameters('InAs').renormalize(new_gamma_0=gamma_0)\n",
    "\n",
    "display(kpham)\n",
    "\n",
    "# Add Zeeman field with InAs bulk g-factor value\n",
    "g_bulk = -15\n",
    "\n",
    "kpham += sum(sympy.sympify(B) * g_bulk * sympy.sympify('mu_B') * model.spin_operators[i] for i, B in enumerate(['B_x', 'B_y', 'B_z']))\n",
    "\n",
    "# Add electric field\n",
    "kpham += sympy.sympify('- E_x * x - E_y * y') * np.eye(8)\n",
    "\n",
    "InAs = {**InAs, 'B_x': 0, 'B_y': 0, 'B_z': 0, 'E_x': 0, 'E_y': 0}"
   ]
  },
  {
   "cell_type": "code",
   "execution_count": null,
   "metadata": {},
   "outputs": [],
   "source": [
    "kpham"
   ]
  },
  {
   "cell_type": "code",
   "execution_count": null,
   "metadata": {},
   "outputs": [],
   "source": [
    "# Discretize the model to get a kwant tight-binding model\n",
    "grid_spacing = 0.5\n",
    "R = 10\n",
    "\n",
    "tbham = kwant.continuum.discretize(kpham, grid=grid_spacing)\n",
    "# Add orbital magnetic field\n",
    "tbham = apply_peierls_to_template(tbham)\n",
    "\n",
    "# Fill an infinite wire with circular cross section with the model\n",
    "shape = lambda site: la.norm(site.pos) < R\n",
    "tz = np.array(tbham.symmetry.periods)[-1]\n",
    "wire = kwant.Builder(symmetry=kwant.TranslationalSymmetry(tz))\n",
    "wire.fill(tbham, shape, start=(0, 0, 0))\n",
    "kwant.plotter.plot(wire, num_lead_cells=10, pos_transform=lambda pos: pos[:2]);\n",
    "\n",
    "# Get the unit cell and hopping matrices\n",
    "wiref = wire.finalized()\n",
    "Hos = wiref.cell_hamiltonian(params=InAs, sparse=True).tocsr()\n",
    "Hos.eliminate_zeros()\n",
    "Hhop = wiref.inter_cell_hopping(params=InAs, sparse=True).tocsr()\n",
    "Hhop.eliminate_zeros()\n",
    "\n",
    "# Make second order model in k_z\n",
    "H0 = lowdin.Model({1: Hos + (Hhop + Hhop.T.conj())})\n",
    "Hkz = lowdin.Model({'k_z': (1j * Hhop - 1j * Hhop.T.conj()), 'k_z**2': -(Hhop + Hhop.T.conj())})\n",
    "H = H0 + Hkz"
   ]
  },
  {
   "cell_type": "code",
   "execution_count": null,
   "metadata": {},
   "outputs": [],
   "source": [
    "def exact_spectrum(wire, ks, params, sigma=0.5, num_states=6):\n",
    "    wrapped_wire = kwant.wraparound.wraparound(wire).finalized()\n",
    "    es = []\n",
    "    for k in ks:\n",
    "        pars = {**params, 'k_x': k}\n",
    "        e = scipy.sparse.linalg.eigsh(wrapped_wire.hamiltonian_submatrix(params=pars, sparse=True),\n",
    "                                      return_eigenvectors=False, sigma=sigma, k=num_states)\n",
    "        e = sorted(e)\n",
    "        es.append(e)\n",
    "    return np.array(es)"
   ]
  },
  {
   "cell_type": "code",
   "execution_count": null,
   "metadata": {},
   "outputs": [],
   "source": [
    "# exact eigenenergies\n",
    "ks = np.linspace(-0.1, 0.1, 21)\n",
    "\n",
    "# This takes long, precalculate it\n",
    "try:\n",
    "    es = pickle.load(open('wire_exact_0.pickle', 'rb'))['es']\n",
    "except:\n",
    "    params = InAs.copy()\n",
    "    params.update(E_x=E_x, B_z=B_z)\n",
    "    es = exact_spectrum(wire, ks, InAs, sigma=0.5, num_states=6)\n",
    "    pickle.dump(dict(es=es,\n",
    "                     params=params,\n",
    "                     R=R,\n",
    "                     grid_spacing=grid_spacing),\n",
    "        open('wire_exact_0.pickle', 'wb'))\n",
    "    \n",
    "plt.plot(ks, es, '-');"
   ]
  },
  {
   "cell_type": "markdown",
   "metadata": {},
   "source": [
    "## Build perturbative Hamiltonian"
   ]
  },
  {
   "cell_type": "code",
   "execution_count": null,
   "metadata": {},
   "outputs": [],
   "source": [
    "def electric_terms(wiref):\n",
    "    # Make electric field perturbations\n",
    "\n",
    "    xop = kwant.operator.Density(wiref, onsite=lambda site: site.pos[0] * np.eye(8), sum=True).tocoo().tocsr()\n",
    "    xop.eliminate_zeros()\n",
    "    yop = kwant.operator.Density(wiref, onsite=lambda site: site.pos[1] * np.eye(8), sum=True).tocoo().tocsr()\n",
    "    yop.eliminate_zeros()\n",
    "\n",
    "    V = lowdin.Model({'E_x': -xop, 'E_y': -yop})\n",
    "    \n",
    "    return V\n",
    "\n",
    "def magnetic_terms(tbham, shape):\n",
    "    # Make magnetic field perturbations\n",
    "    HB = 0\n",
    "    for i, (n, B) in enumerate(zip(np.eye(3), ['B_x', 'B_y', 'B_z'])):\n",
    "        # orbital magnetic field\n",
    "        tbhamB = magnetic_perturbation(tbham, n=n)\n",
    "        wireB = kwant.Builder(symmetry=kwant.TranslationalSymmetry(tz))\n",
    "        wireB.fill(tbhamB, shape, start=(0, 0, 0))\n",
    "        wireB = wireB.finalized()\n",
    "        matB = wireB.cell_hamiltonian(params=InAs, sparse=True).tocsr()\n",
    "        matB += wireB.inter_cell_hopping(params=InAs, sparse=True).tocsr() + wireB.inter_cell_hopping(params=InAs, sparse=True).tocsr().T.conj()\n",
    "        HB += lowdin.Model({B: matB})\n",
    "        # Zeeman term\n",
    "        matZ = kwant.operator.Density(wiref, onsite=lambda site: model.spin_operators[i], sum=True).tocoo().tocsr()\n",
    "        matZ.eliminate_zeros()\n",
    "        HB += lowdin.Model({B: InAs['mu_B'] * g_bulk * matZ})\n",
    "\n",
    "    return HB"
   ]
  },
  {
   "cell_type": "code",
   "execution_count": null,
   "metadata": {},
   "outputs": [],
   "source": [
    "sz0 = 0.5 * np.diag([1, -1, 3, 1, -1, -3, -1, 1])\n",
    "\n",
    "sz = kwant.operator.Density(wiref, \n",
    "                            onsite=lambda site: sz0,\n",
    "                            sum=True).tocoo().tocsr()\n",
    "\n",
    "def fix_basis(E0, vecsA):\n",
    "    # Order eigenstates by energy\n",
    "    e_order = np.argsort(E0)\n",
    "    E02 = np.sort(E0)\n",
    "    vecsA2 = vecsA[:, e_order]\n",
    "    # Make sure that the degenerate states are orthogonal\n",
    "    vecsA2, _ = la.qr(vecsA2, mode='economic')\n",
    "    assert len(E02) % 2 == 0\n",
    "    # Fix basis in degenerate eigensubspace by spin z polarization\n",
    "    szA = vecsA2.T.conj() @ sz @ vecsA2\n",
    "    for i in range(0, len(E02), 2):\n",
    "        assert np.isclose(E02[i], E02[i+1]), (i, E02)\n",
    "        _, U = la.eigh(szA[i:i+2, i:i+2])\n",
    "        vecsA2[:, i:i+2] = vecsA2[:, i:i+2] @ U\n",
    "        szAi = vecsA2[:, i:i+2].T.conj() @ sz @ vecsA2[:, i:i+2]\n",
    "        assert np.allclose(szAi, np.diag(np.diag(szAi)))\n",
    "    # fix phases, this is arbitrary, but removes phase ambiguity\n",
    "    phases = np.diag(np.angle(vecsA2.T @ vecsA2))\n",
    "    vecsA2 = vecsA2 @ np.diag(np.exp(-1j*phases/2))\n",
    "    return E02, vecsA2"
   ]
  },
  {
   "cell_type": "markdown",
   "metadata": {},
   "source": [
    "### Lowest subband $l=0$ states"
   ]
  },
  {
   "cell_type": "code",
   "execution_count": null,
   "metadata": {},
   "outputs": [],
   "source": [
    "# Make perturbation basis of two lowest states\n",
    "kpm_params = dict(num_moments=1000)\n",
    "\n",
    "E0, vecsA = scipy.sparse.linalg.eigsh(H0[1], return_eigenvectors=True, sigma=0.45, k=2)\n",
    "E0, vecsA = fix_basis(E0, vecsA)\n",
    "print(E0)\n",
    "\n",
    "V = electric_terms(wiref)\n",
    "HB = magnetic_terms(tbham, shape)\n",
    "\n",
    "# only keep most interesting keys\n",
    "intersting_keys = sympy.sympify(['k_z', 'k_z**2',\n",
    "                                 'E_x', 'E_y', 'E_x**2', 'E_y**2',\n",
    "                                 'B_x', 'B_y', 'B_z',\n",
    "                                 'E_x * k_z', 'E_y * k_z'])\n",
    "\n",
    "model0 = lowdin.effective_model(H0, Hkz + V + HB, evec_A=vecsA, order=2,\n",
    "                                kpm_params=kpm_params,\n",
    "                                interesting_keys=intersting_keys)\n",
    "\n",
    "model0.around(decimals=4).tosympy()"
   ]
  },
  {
   "cell_type": "code",
   "execution_count": null,
   "metadata": {},
   "outputs": [],
   "source": [
    "# effective eigenenergies with electric and magnetic fields\n",
    "es0 = []\n",
    "E_x = 0.02 # V/nm\n",
    "B_z = 0.5 # Tesla\n",
    "ks = np.linspace(-0.1, 0.1, 101)\n",
    "for k in ks:\n",
    "    pars = {'k_z': k, 'E_x': E_x, 'E_y': 0, 'B_x': 0, 'B_y': 0, 'B_z': B_z}\n",
    "    e = la.eigh((model0).subs(pars)[1], eigvals_only=True)\n",
    "    es0.append(e)\n",
    "es0 = np.array(es0)\n",
    "\n",
    "# This takes long, precalculate it\n",
    "try:\n",
    "    esEB = pickle.load(open('wire_exact.pickle', 'rb'))['esEB']\n",
    "except:\n",
    "    params = InAs.copy()\n",
    "    params.update(E_x=E_x, B_z=B_z)\n",
    "    esEB = exact_spectrum(wire, ks, params, sigma=0.42, num_states=2)\n",
    "    pickle.dump(dict(esEB=esEB,\n",
    "                     params=params,\n",
    "                     R=R,\n",
    "                     grid_spacing=grid_spacing),\n",
    "        open('wire_exact.pickle', 'wb'))\n",
    "    \n",
    "plt.plot(ks, esEB, '--')\n",
    "plt.plot(ks, es0, '-')"
   ]
  },
  {
   "cell_type": "code",
   "execution_count": null,
   "metadata": {},
   "outputs": [],
   "source": []
  },
  {
   "cell_type": "code",
   "execution_count": null,
   "metadata": {},
   "outputs": [],
   "source": [
    "plt.plot(ks, esEB - 0.0248, '--')\n",
    "plt.plot(ks, es0, '-')\n",
    "plt.ylim([0.375, 0.39])\n",
    "plt.xlim([-0.05, 0.05])"
   ]
  },
  {
   "cell_type": "code",
   "execution_count": null,
   "metadata": {},
   "outputs": [],
   "source": [
    "# Use more states exactly\n",
    "kpm_params = dict(num_moments=100)\n",
    "\n",
    "# Make perturbation basis of two lowest states\n",
    "E0, vecs = scipy.sparse.linalg.eigsh(H0[1], return_eigenvectors=True, sigma=0.4, k=60)\n",
    "E0, vecs = fix_basis(E0, vecs)\n",
    "print(E0)\n",
    "\n",
    "ind_0 = np.argwhere(E0 > 0)[:2].flatten()\n",
    "\n",
    "model0 = lowdin.effective_model(H0, Hkz + V + HB,\n",
    "                                evec_A=vecs[:, ind_0],\n",
    "                                evec_B=vecs[:, np.setdiff1d(np.arange(vecs.shape[1]), ind_0)],\n",
    "                                order=2, interesting_keys=intersting_keys,\n",
    "                                kpm_params=kpm_params)\n",
    "display(model0.around(decimals=4).tosympy())"
   ]
  },
  {
   "cell_type": "code",
   "execution_count": null,
   "metadata": {},
   "outputs": [],
   "source": [
    "# effective eigenenergies with electric and magnetic fields\n",
    "es0 = []\n",
    "E_x = 0.02 # V/nm\n",
    "B_z = 0.5 # Tesla\n",
    "ks = np.linspace(-0.1, 0.1, 101)\n",
    "for k in ks:\n",
    "    pars = {'k_z': k, 'E_x': E_x, 'E_y': 0, 'B_x': 0, 'B_y': 0, 'B_z': B_z}\n",
    "    e = la.eigh((model0).subs(pars)[1], eigvals_only=True)\n",
    "    es0.append(e)\n",
    "es0 = np.array(es0)\n",
    "    \n",
    "plt.plot(ks, esEB, '--')\n",
    "plt.plot(ks, es0, '-')"
   ]
  },
  {
   "cell_type": "code",
   "execution_count": null,
   "metadata": {},
   "outputs": [],
   "source": [
    "# Shift exact spectrum to match it\n",
    "plt.plot(ks, esEB - 0.0248, '--')\n",
    "plt.plot(ks, es0, '-')\n",
    "plt.ylim([0.375, 0.39])\n",
    "plt.xlim([-0.05, 0.05])"
   ]
  },
  {
   "cell_type": "markdown",
   "metadata": {},
   "source": [
    "### Second lowest subband $l=1$ states"
   ]
  },
  {
   "cell_type": "code",
   "execution_count": null,
   "metadata": {},
   "outputs": [],
   "source": [
    "# Make perturbation basis of second lowest states\n",
    "kpm_params = dict(num_moments=1000)\n",
    "E0, vecsA = scipy.sparse.linalg.eigsh(H0[1], return_eigenvectors=True, sigma=0.55, k=4)\n",
    "E0, vecsA = fix_basis(E0, vecsA)\n",
    "print(E0)\n",
    "print(np.diag(vecsA.T.conj() @ sz @ vecsA))\n",
    "print(np.diag(vecsA.T.conj() @ Hos @ vecsA))\n",
    "\n",
    "model1 = lowdin.effective_model(H0, Hkz + V + HB, evec_A=vecsA,\n",
    "                                order=2, interesting_keys=intersting_keys,\n",
    "                                kpm_params=kpm_params)\n",
    "\n",
    "model1.around(decimals=4).tosympy()"
   ]
  },
  {
   "cell_type": "code",
   "execution_count": null,
   "metadata": {},
   "outputs": [],
   "source": [
    "# effective eigenenergies with zero fields\n",
    "es1 = []\n",
    "ks = np.linspace(-0.1, 0.1, 101)\n",
    "for k in ks:\n",
    "    pars = {'k_z': k, 'E_x': 0, 'E_y': 0, 'B_x': 0, 'B_y': 0, 'B_z': 0}\n",
    "    e = la.eigh((model1).subs(pars)[1], eigvals_only=True)\n",
    "    es1.append(e)\n",
    "es1 = np.array(es1)\n",
    "    \n",
    "plt.plot(ks, es1, '-')"
   ]
  },
  {
   "cell_type": "code",
   "execution_count": null,
   "metadata": {},
   "outputs": [],
   "source": [
    "# effective eigenenergies with electric field\n",
    "E_x = 0.01\n",
    "es1 = []\n",
    "ks = np.linspace(-0.1, 0.1, 101)\n",
    "for k in ks:\n",
    "    pars = {'k_z': k, 'E_x': E_x, 'E_y': 0, 'B_x': 0, 'B_y': 0, 'B_z': 0}\n",
    "    e = la.eigh((model1).subs(pars)[1], eigvals_only=True)\n",
    "    es1.append(e)\n",
    "es1 = np.array(es1)\n",
    "\n",
    "plt.plot(ks, es1, '-')"
   ]
  },
  {
   "cell_type": "code",
   "execution_count": null,
   "metadata": {},
   "outputs": [],
   "source": [
    "# effective eigenenergies with electric and magnetic fields\n",
    "es1 = []\n",
    "E_x = 0.02\n",
    "B_z = 0.5\n",
    "ks = np.linspace(-0.1, 0.1, 101)\n",
    "for k in ks:\n",
    "    pars = {'k_z': k, 'E_x': E_x, 'E_y': 0, 'B_x': 0, 'B_y': 0, 'B_z': B_z}\n",
    "    e = la.eigh((model1).subs(pars)[1], eigvals_only=True)\n",
    "    es1.append(e)\n",
    "es1 = np.array(es1)\n",
    "\n",
    "plt.plot(ks, es1, '-')\n",
    "plt.ylim([0.48, 0.50])"
   ]
  },
  {
   "cell_type": "code",
   "execution_count": null,
   "metadata": {},
   "outputs": [],
   "source": []
  }
 ],
 "metadata": {
  "kernelspec": {
   "display_name": "Python [conda env:kwant_conda]",
   "language": "python",
   "name": "conda-env-kwant_conda-py"
  },
  "language_info": {
   "codemirror_mode": {
    "name": "ipython",
    "version": 3
   },
   "file_extension": ".py",
   "mimetype": "text/x-python",
   "name": "python",
   "nbconvert_exporter": "python",
   "pygments_lexer": "ipython3",
   "version": "3.7.1"
  }
 },
 "nbformat": 4,
 "nbformat_minor": 2
}
