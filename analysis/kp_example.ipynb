{
 "cells": [
  {
   "cell_type": "markdown",
   "metadata": {},
   "source": [
    "# k.p example of using the Lowdin perturbation\n",
    "\n",
    "This example requires [semicon](https://gitlab.kwant-project.org/semicon/semicon) to be installed.\n",
    "\n",
    "It should be as easy as \n",
    "```\n",
    "pip install git+https://gitlab.kwant-project.org/r-j-skolasinski/semicon.git\n",
    "```"
   ]
  },
  {
   "cell_type": "code",
   "execution_count": null,
   "metadata": {},
   "outputs": [],
   "source": [
    "try:\n",
    "    import semicon\n",
    "except ImportError:\n",
    "    print(\"Semicon should be installed to run this notebook.\")"
   ]
  },
  {
   "cell_type": "code",
   "execution_count": null,
   "metadata": {},
   "outputs": [],
   "source": [
    "import warnings\n",
    "warnings.filterwarnings(\"ignore\", category=FutureWarning) "
   ]
  },
  {
   "cell_type": "code",
   "execution_count": null,
   "metadata": {},
   "outputs": [],
   "source": [
    "import kwant\n",
    "import semicon\n",
    "\n",
    "import numpy as np\n",
    "import scipy.linalg as la\n",
    "\n",
    "import sympy\n",
    "sympy.init_printing(print_builtin=False)\n",
    "\n",
    "import matplotlib.pyplot as plt\n",
    "%matplotlib inline"
   ]
  },
  {
   "cell_type": "markdown",
   "metadata": {},
   "source": [
    "# Prepare model"
   ]
  },
  {
   "cell_type": "code",
   "execution_count": null,
   "metadata": {},
   "outputs": [],
   "source": [
    "widths = [5, 5, 5, 5]\n",
    "gamma_0 = 1.0\n",
    "\n",
    "grid_spacing = 0.5\n",
    "shape = lambda site: 0 - grid_spacing / 2 < site.pos[0] < sum(widths)\n",
    "\n",
    "kpham = semicon.models.foreman('z')\n",
    "\n",
    "AlSb = semicon.parameters.bulk('lawaetz', 'AlSb', gamma_0, valence_band_offset=.18)\n",
    "InAs = semicon.parameters.bulk('lawaetz', 'InAs', gamma_0)\n",
    "GaSb = semicon.parameters.bulk('lawaetz', 'GaSb', gamma_0, valence_band_offset=.56)\n",
    "\n",
    "params, walls = semicon.parameters.two_deg(\n",
    "    parameters = [AlSb, InAs, GaSb, AlSb],\n",
    "    widths = widths,\n",
    "    grid_spacing=grid_spacing,\n",
    "    extra_constants=semicon.parameters.constants,\n",
    ")"
   ]
  },
  {
   "cell_type": "markdown",
   "metadata": {},
   "source": [
    "# Solve it exactly"
   ]
  },
  {
   "cell_type": "code",
   "execution_count": null,
   "metadata": {},
   "outputs": [],
   "source": [
    "template = kwant.continuum.discretize(str(kpham), coords='z', grid_spacing=grid_spacing)\n",
    "\n",
    "syst = kwant.Builder()\n",
    "syst.fill(template, shape, (0, ))\n",
    "syst = syst.finalized()\n",
    "\n",
    "N = len(syst.sites)"
   ]
  },
  {
   "cell_type": "code",
   "execution_count": null,
   "metadata": {},
   "outputs": [],
   "source": [
    "momenta = np.linspace(-.4, .4, 101)\n",
    "energies = []\n",
    "\n",
    "for k in momenta:\n",
    "    p = {'k_x': k, 'k_y': 0}\n",
    "    mat = syst.hamiltonian_submatrix(params={**p, **params})\n",
    "    energies.append(la.eigvalsh(mat))\n",
    "    \n",
    "energies = np.array(energies)"
   ]
  },
  {
   "cell_type": "code",
   "execution_count": null,
   "metadata": {},
   "outputs": [],
   "source": [
    "plt.plot(momenta, 1000 * energies, 'k-');\n",
    "plt.ylim(420, 820)"
   ]
  },
  {
   "cell_type": "markdown",
   "metadata": {},
   "source": [
    "# Get effective model "
   ]
  },
  {
   "cell_type": "code",
   "execution_count": null,
   "metadata": {},
   "outputs": [],
   "source": [
    "from codes.lowdin import prepare_hamiltonian, first_order, second_order_explicit"
   ]
  },
  {
   "cell_type": "code",
   "execution_count": null,
   "metadata": {},
   "outputs": [],
   "source": [
    "%%time\n",
    "gens = ['k_x', 'k_y']\n",
    "H0, H1 = prepare_hamiltonian(\n",
    "    kpham, gens, 'z', grid_spacing, shape, (0,)\n",
    ")\n",
    "\n",
    "mat0 = H0.hamiltonian_submatrix(params=params)\n",
    "mat1 = {k: v.hamiltonian_submatrix(params=params) for k, v in H1.items()}"
   ]
  },
  {
   "cell_type": "code",
   "execution_count": null,
   "metadata": {},
   "outputs": [],
   "source": [
    "%%time\n",
    "ev, evec = la.eigh(mat0)\n",
    "indices = list(range(6*N, 6*N+2))"
   ]
  },
  {
   "cell_type": "code",
   "execution_count": null,
   "metadata": {},
   "outputs": [],
   "source": [
    "%%time\n",
    "\n",
    "def decouple(operator, subspace):\n",
    "    matrix = subspace.T.conjugate() @ operator @ subspace\n",
    "    ev, evec = la.eigh(matrix)\n",
    "    return subspace @ evec\n",
    "\n",
    "M = np.diag([1/2, -1/2, 3/2, 1/2, -1/2, -3/2, 1/2, -1/2])\n",
    "bigM = la.block_diag(*[M for i in range(len(syst.sites))])\n",
    "assert np.allclose(bigM @ mat0 - mat0 @ bigM, np.zeros(mat0.shape))\n",
    "\n",
    "for i in indices[::2]:\n",
    "    evec[:, i:i+2] = decouple(bigM, evec[:, i:i+2])\n",
    "\n",
    "# apply \"smart\" gauge choice to prettify final output\n",
    "# I have no idea how this works, but it works, and is wonderful.\n",
    "# It is a pure magic!\n",
    "for i, v in enumerate(evec.T):\n",
    "    phase = np.angle(v @ v)\n",
    "    evec[:, i] = v * np.exp(-1j*phase/2)"
   ]
  },
  {
   "cell_type": "code",
   "execution_count": null,
   "metadata": {},
   "outputs": [],
   "source": [
    "%%time\n",
    "M1 = first_order(mat1, evec[:, indices])"
   ]
  },
  {
   "cell_type": "code",
   "execution_count": null,
   "metadata": {},
   "outputs": [],
   "source": [
    "%%time\n",
    "M2 = second_order_explicit(mat1, indices, ev, evec)"
   ]
  },
  {
   "cell_type": "code",
   "execution_count": null,
   "metadata": {},
   "outputs": [],
   "source": [
    "for k, v in M1.items():\n",
    "    print(k)\n",
    "    print(v)\n",
    "    print()"
   ]
  },
  {
   "cell_type": "code",
   "execution_count": null,
   "metadata": {},
   "outputs": [],
   "source": [
    "for k, v in M2.items():\n",
    "    print(k)\n",
    "    print(v)\n",
    "    print()"
   ]
  },
  {
   "cell_type": "code",
   "execution_count": null,
   "metadata": {},
   "outputs": [],
   "source": [
    "def sympify_perturbation(M1=None, M2=None, decimals=12):\n",
    "    terms = []\n",
    "    terms += [(k, v) for k, v in M1.items() if M1 is not None]\n",
    "    terms += [(k[0] * k[1], v) for k, v in M2.items() if M2 is not None]\n",
    "\n",
    "    if len(terms) == 0:\n",
    "        raise ValueError(\"At least one of 'M1' or 'M2' should contain \"\n",
    "                         \"some items.\")\n",
    "    output = []\n",
    "    for k, v in terms:\n",
    "        output.append(k * sympy.Matrix(np.round(v, decimals)))\n",
    "    return sympy.MatAdd(*output).as_explicit()\n",
    "        "
   ]
  },
  {
   "cell_type": "code",
   "execution_count": null,
   "metadata": {},
   "outputs": [],
   "source": [
    "sympify_perturbation(M1, M2)"
   ]
  }
 ],
 "metadata": {
  "kernelspec": {
   "display_name": "Python [conda env:kwant]",
   "language": "python",
   "name": "conda-env-kwant-py"
  },
  "language_info": {
   "codemirror_mode": {
    "name": "ipython",
    "version": 3
   },
   "file_extension": ".py",
   "mimetype": "text/x-python",
   "name": "python",
   "nbconvert_exporter": "python",
   "pygments_lexer": "ipython3",
   "version": "3.6.5"
  }
 },
 "nbformat": 4,
 "nbformat_minor": 2
}
