{
 "cells": [
  {
   "cell_type": "code",
   "execution_count": null,
   "metadata": {},
   "outputs": [],
   "source": [
    "import kwant\n",
    "\n",
    "import numpy as np\n",
    "import scipy.linalg as la\n",
    "import scipy.sparse\n",
    "import scipy.sparse.linalg as sla\n",
    "\n",
    "import sympy\n",
    "sympy.init_printing(print_builtin=False)\n",
    "\n",
    "import matplotlib.pyplot as plt\n",
    "%matplotlib inline\n",
    "\n",
    "import codes.operator_perturbation as pert\n",
    "import codes.perturbative_model"
   ]
  },
  {
   "cell_type": "code",
   "execution_count": null,
   "metadata": {},
   "outputs": [],
   "source": [
    "from importlib import reload\n",
    "pert = reload(pert)"
   ]
  },
  {
   "cell_type": "code",
   "execution_count": null,
   "metadata": {},
   "outputs": [],
   "source": [
    "# %load_ext line_profiler"
   ]
  },
  {
   "cell_type": "markdown",
   "metadata": {},
   "source": [
    "# Simple models"
   ]
  },
  {
   "cell_type": "code",
   "execution_count": null,
   "metadata": {},
   "outputs": [],
   "source": [
    "# Simple model\n",
    "N = 1000\n",
    "ev2 = np.array([0] * N + [2] * N)\n",
    "mat02 = scipy.sparse.diags(ev2, dtype=complex, format='csr')\n",
    "V = scipy.sparse.lil_matrix((2 * N, 2 * N), dtype=complex)\n",
    "for i in range(N):\n",
    "    V[i + N, i + N] = 2\n",
    "    V[i, i + N] = 1\n",
    "    V[i + N, i] = 1\n",
    "mat12 = {'x': V.tocsr()}"
   ]
  },
  {
   "cell_type": "code",
   "execution_count": null,
   "metadata": {},
   "outputs": [],
   "source": [
    "%%time\n",
    "\n",
    "kpm_params = dict(num_moments=1000, num_vectors=10)\n",
    "\n",
    "model = pert.trace_perturbation(mat02, mat12, order=2, kpm_params=kpm_params)"
   ]
  },
  {
   "cell_type": "code",
   "execution_count": null,
   "metadata": {},
   "outputs": [],
   "source": [
    "# %lprun -f codes.perturbative_model._smart_dot pert.trace_perturbation(mat02, mat12, order=2, kpm_params=kpm_params)"
   ]
  },
  {
   "cell_type": "code",
   "execution_count": null,
   "metadata": {},
   "outputs": [],
   "source": [
    "def func(x):\n",
    "    return 1 * (x < 1) + 0 * (x >= 1)\n",
    "\n",
    "model(func)"
   ]
  },
  {
   "cell_type": "code",
   "execution_count": null,
   "metadata": {},
   "outputs": [],
   "source": [
    "def func(x):\n",
    "    return x * (1 * (x < 1) + 0 * (x >= 1))\n",
    "\n",
    "model(func)"
   ]
  },
  {
   "cell_type": "code",
   "execution_count": null,
   "metadata": {},
   "outputs": [],
   "source": [
    "degree = 10000\n",
    "%time coef = np.polynomial.chebyshev.chebinterpolate(func, degree)\n",
    "coef = kwant.kpm.jackson_kernel(coef)\n",
    "x = np.cos(np.pi/degree * np.arange(degree+1))\n",
    "plt.plot(x, np.polynomial.chebyshev.chebval(x, coef))\n",
    "plt.xlim([-0.01, 0.01])"
   ]
  },
  {
   "cell_type": "code",
   "execution_count": null,
   "metadata": {},
   "outputs": [],
   "source": [
    "from scipy.sparse.linalg import LinearOperator\n",
    "b = LinearOperator(a.shape, lambda v: a @ v)"
   ]
  },
  {
   "cell_type": "code",
   "execution_count": null,
   "metadata": {},
   "outputs": [],
   "source": [
    "b.dot(np.array([[1, 2, 3]]).T)"
   ]
  },
  {
   "cell_type": "code",
   "execution_count": null,
   "metadata": {},
   "outputs": [],
   "source": [
    "np.dot(b, np.array([[1, 2, 3]]).T)"
   ]
  },
  {
   "cell_type": "code",
   "execution_count": null,
   "metadata": {},
   "outputs": [],
   "source": [
    "1"
   ]
  },
  {
   "cell_type": "code",
   "execution_count": null,
   "metadata": {},
   "outputs": [],
   "source": []
  }
 ],
 "metadata": {
  "kernelspec": {
   "display_name": "Python [conda env:kwant_conda]",
   "language": "python",
   "name": "conda-env-kwant_conda-py"
  },
  "language_info": {
   "codemirror_mode": {
    "name": "ipython",
    "version": 3
   },
   "file_extension": ".py",
   "mimetype": "text/x-python",
   "name": "python",
   "nbconvert_exporter": "python",
   "pygments_lexer": "ipython3",
   "version": "3.7.1"
  }
 },
 "nbformat": 4,
 "nbformat_minor": 2
}
