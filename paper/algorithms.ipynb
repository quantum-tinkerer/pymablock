{
 "cells": [
  {
   "cell_type": "code",
   "execution_count": null,
   "id": "9b063725",
   "metadata": {
    "tags": [
     "remove-input"
    ]
   },
   "outputs": [],
   "source": [
    "#| label: expanded\n",
    "\n",
    "from operator import mul\n",
    "\n",
    "from sympy import Symbol, Eq\n",
    "\n",
    "from pymablock.block_diagonalization import BlockSeries, symbolic\n",
    "\n",
    "H = BlockSeries(\n",
    "    data={\n",
    "        (0, 0, 0): Symbol('{H_{0}^{AA}}'),\n",
    "        (1, 1, 0): Symbol('{H_{0}^{BB}}'),\n",
    "        (0, 0, 1): Symbol('{H_{1}^{AA}}'),\n",
    "        (0, 1, 1): Symbol('{H_{1}^{AB}}'),\n",
    "        (1, 1, 1): Symbol('{H_{1}^{BB}}'),\n",
    "    },\n",
    "    shape=(2, 2),\n",
    "    n_infinite=1,\n",
    ")\n",
    "\n",
    "max_order = 5\n",
    "hamiltonians = {\n",
    "  Symbol(f'H_{{{index}}}'): value for index, value in H._data.items()\n",
    "}\n",
    "offdiagonals = {\n",
    "  Symbol(f'V_{{({order},)}}'): Symbol(f'V_{order}') for order in range(max_order)\n",
    "}\n",
    "\n",
    "H_tilde, *_ = symbolic(H)\n",
    "\n",
    "for order in range(max_order):\n",
    "    result = Symbol(fr'\\tilde{{H}}_{order}^{{AA}}')\n",
    "    display(Eq(result, H_tilde[0, 0, order].subs({**hamiltonians, **offdiagonals})))"
   ]
  }
 ],
 "metadata": {
  "kernelspec": {
   "display_name": "Python 3 (ipykernel)",
   "language": "python",
   "name": "python3"
  }
 },
 "nbformat": 4,
 "nbformat_minor": 5
}
