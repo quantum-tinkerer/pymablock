{
 "cells": [
  {
   "cell_type": "markdown",
   "id": "89200695",
   "metadata": {},
   "source": [
    "---\n",
    "title: finding model\n",
    "description: file for test\n",
    "---"
   ]
  },
  {
   "cell_type": "markdown",
   "id": "da27912d",
   "metadata": {},
   "source": [
    "# Constructing an effective model\n",
    "\n",
    "## Pymablock workflow\n",
    "\n",
    "**The workflow of Pymablock consists of three steps.**\n",
    "Building an effective model using Pymablock is a three step process:\n",
    "\n",
    "* Define a Hamiltonian\n",
    "* Call `pymablock.block_diagonalize`\n",
    "* Request the desired order of the effective Hamiltonian\n",
    "\n",
    "```python\n",
    "from pymablock import block_diagonalize\n",
    "\n",
    "# Define perturbation theory\n",
    "H_tilde, *_ = block_diagonalize([h_0, h_p], subspace_eigenvectors=[vecs_A, vecs_B])\n",
    "\n",
    "# Request 4th order correction to the effective Hamiltonian\n",
    "H_AA_4 = H_tilde[0, 0, 4]\n",
    "```\n",
    "\n",
    "<!-- **Depending on the input Hamiltonian, Pymablock uses specific routines to find\n",
    "the effective model, so that symbolic expressions are compact and numerics are\n",
    "efficient.** -->\n",
    "The function `block_diagonalize` interprets the Hamiltonian and calls the block\n",
    "diagonalization routines depending on the type and sparsity of the input, so\n",
    "that symbolic expressions are compact and numerics are efficient.\n",
    "This is the main function of Pymablock, and it is the only one that the user\n",
    "needs to call.\n",
    "Its output is a multivariate series whose terms are different blocks and orders\n",
    "of the effective Hamiltonian and the unitary transformation.\n",
    "Calling `block_diagonalize` is not computationally expensive, because the\n",
    "terms of the series are only computed when requested.\n",
    "\n",
    "## k.p model of bilayer graphene\n",
    "\n",
    "<!-- **We use bilayer graphene to illustrate how to use Pymablock with analytic models.** -->\n",
    "To illustrate how to use Pymablock with analytic models, we consider two layers\n",
    "of graphene stacked on top of each other.\n",
    "Our goal is to find the low energy model near the $\\mathbf{K}$ point, following Ref.\n",
    "[McCann_2013](doi:10.1088/0034-4885/76/5/056503).\n",
    "To start, we construct the k.p Hamiltonian of bilayer graphene from the\n",
    "tight-binding model shown in the figure below.\n",
    "\n",
    "```{figure} figures/bilayer.svg\n",
    ":name: bilayer\n",
    ":alt: Crystal structure and hopping of bilayer graphene\n",
    ":width: 250px\n",
    ":align: center\n",
    "\n",
    "Crystal structure and hoppings of bilayer graphene.\n",
    "```\n",
    "\n",
    "The physics of this system is not crucial for us, but here are the main features:\n",
    "\n",
    "* The unit cell is spanned by vectors $\\mathbf{a}_1 = (1/2, \\sqrt{3}/2)$ and $\\mathbf{a}_2=(-1/2, \\sqrt{3}/2)$.\n",
    "* The unit cell contains 4 atoms with wave functions $\\phi_{A,1}, \\phi_{B,1}, \\phi_{A,2}, \\phi_{B,2}$.\n",
    "* The hoppings within each layer are $t_1$.\n",
    "* The hopping between atoms that are on top of each other is $t_2$.\n",
    "* The layers have an onsite potential $\\pm m$.\n",
    "\n",
    "### Defining a symbolic Hamiltonian\n",
    "\n",
    "We define the Hamiltonian using the Sympy package for symbolic Python\n",
    "[sympy](10.7717/peerj-cs.103)."
   ]
  },
  {
   "cell_type": "code",
   "execution_count": null,
   "id": "b6267e09",
   "metadata": {},
   "outputs": [],
   "source": [
    "#| label: my-cell\n",
    "\n",
    "import matplotlib.pyplot as plt\n",
    "\n",
    "plt.plot([1,2,3,4])\n"
   ]
  },
  {
   "cell_type": "code",
   "execution_count": null,
   "id": "b77a2c92",
   "metadata": {},
   "outputs": [],
   "source": [
    "\n",
    "import numpy as np\n",
    "from sympy import symbols, Matrix, sqrt, Eq, exp, I, pi, Add, MatAdd\n",
    "from sympy.physics.vector import ReferenceFrame\n",
    "\n",
    "t_1, t_2, m = symbols(\"t_1 t_2 m\", real=True)\n",
    "alpha = symbols(r\"\\alpha\")\n",
    "\n",
    "H = Matrix([\n",
    "    [m, t_1 * alpha, 0, 0],\n",
    "    [t_1 * alpha.conjugate(), m, t_2, 0],\n",
    "    [0, t_2, -m, t_1 * alpha],\n",
    "    [0, 0, t_1 * alpha.conjugate(), -m]]\n",
    ")\n",
    "Eq(symbols(\"H\"), H, evaluate=False)"
   ]
  },
  {
   "cell_type": "markdown",
   "id": "dfbf1b0f",
   "metadata": {},
   "source": [
    "Here $\\alpha(\\mathbf{k})$ groups the momentum dependent terms in the Hamiltonian.\n",
    "We choose $\\mathbf{K}=(4\\pi/3, 0)$ as the reference point for the\n",
    "$\\mathbf{k}$-vector, such that $k_x$ and $k_y$ are perturbative parameters."
   ]
  },
  {
   "cell_type": "code",
   "execution_count": null,
   "id": "a536a4c8",
   "metadata": {},
   "outputs": [],
   "source": [
    "k_x, k_y = symbols(\"k_x k_y\", real=True)\n",
    "N = ReferenceFrame(\"N\")\n",
    "a_1 = (sqrt(3) * N.y + N.x) / 2\n",
    "a_2 = (sqrt(3) * N.y - N.x) / 2\n",
    "k = (4 * pi / 3 + k_x) * N.x + k_y * N.y\n",
    "\n",
    "alpha_k = (1 + exp(I * k.dot(a_1)) + exp(I * k.dot(a_2))).expand(complex=True, trig=True)\n",
    "Eq(alpha, alpha_k, evaluate=False)"
   ]
  },
  {
   "cell_type": "markdown",
   "id": "a0390763",
   "metadata": {},
   "source": [
    "### Defining the perturbative series\n",
    "\n",
    "<!-- **We define the perturbative series** -->\n",
    "To call `block_diagonalize`, we need the eigenvectors of the unperturbed\n",
    "Hamiltonian.\n",
    "These determine the basis in which the perturbative corrections are computed\n",
    "and the subspace of interest for the effective model.\n",
    "We obtain them by substituting the unperturbed values $\\alpha = m = 0$ into the\n",
    "Hamiltonian and diagonalizing it."
   ]
  },
  {
   "cell_type": "code",
   "execution_count": null,
   "id": "f5759cb3",
   "metadata": {},
   "outputs": [],
   "source": [
    "vecs = H.subs({alpha: 0, m: 0}).diagonalize(normalize=True)[0]\n",
    "vecs"
   ]
  },
  {
   "cell_type": "markdown",
   "id": "23572128",
   "metadata": {},
   "source": [
    "Then, we substitute the full expression for $\\alpha(\\mathbf{k})$ into the\n",
    "Hamiltonian, and we define the block diagonalization routine using that\n",
    "$k_x$, $k_y$, and $m$ are perturbative parameters."
   ]
  },
  {
   "cell_type": "code",
   "execution_count": null,
   "id": "d2dc7739",
   "metadata": {},
   "outputs": [],
   "source": [
    "from pymablock import block_diagonalize\n",
    "\n",
    "H_tilde, U, U_adjoint = block_diagonalize(\n",
    "    H.subs({alpha: alpha_k}),\n",
    "    symbols=(k_x, k_y, m),\n",
    "    subspace_eigenvectors=[vecs[:, :2], vecs[:, 2:]]\n",
    ")"
   ]
  },
  {
   "cell_type": "markdown",
   "id": "89fdaeb2",
   "metadata": {},
   "source": [
    "Here `symbols` specifies the perturbative parameters in the order of variables\n",
    "in the perturbative series.\n",
    "The `dimension_names` attribute of the result stores their order:"
   ]
  },
  {
   "cell_type": "code",
   "execution_count": null,
   "id": "bfd54058",
   "metadata": {},
   "outputs": [],
   "source": [
    "H_tilde.dimension_names"
   ]
  },
  {
   "cell_type": "markdown",
   "id": "a0c3fdd3",
   "metadata": {},
   "source": [
    "Now we are ready to specify which calculation to perform.\n",
    "To compute the standard quadratic dispersion of bilayer graphene and trigonal\n",
    "warping, we need corrections up to third order in momentum.\n",
    "Let us then group the terms by total power of momentum.\n",
    "For now this requires an explicit definition of all components, but in the\n",
    "future we plan to automate this step."
   ]
  },
  {
   "cell_type": "code",
   "execution_count": null,
   "id": "205ed926",
   "metadata": {},
   "outputs": [],
   "source": [
    "k_square = np.array([[0, 1, 2], [2, 1, 0]])\n",
    "k_cube = np.array([[0, 1, 2, 3], [3, 2, 1, 0]])"
   ]
  },
  {
   "cell_type": "markdown",
   "id": "aca36dfb",
   "metadata": {},
   "source": [
    "The above manual definition of `k_square` and `k_cube` becomes cumbersome for\n",
    "higher orders or dimensions.\n",
    "Instead, we can use the `np.mgrid` and select the terms we need by total power\n",
    "like this:\n",
    "\n",
    "```python\n",
    "k_powers = np.mgrid[:4, :4]\n",
    "k_square = k_powers[..., np.sum(k_powers, axis=0) == 2]\n",
    "k_cube = k_powers[..., np.sum(k_powers, axis=0) == 3]\n",
    "```\n",
    "\n",
    "Before we saw that querying `H_tilde` returns the results in a numpy array.\n",
    "To gather different entries into one symbolic expression, we define a\n",
    "convenience function that sums several orders together.\n",
    "This uses the `numpy.ma.MaskedArray.compressed` method of masked numpy arrays,\n",
    "and simplifies the resulting expression."
   ]
  },
  {
   "cell_type": "code",
   "execution_count": null,
   "id": "6c3fbfde",
   "metadata": {},
   "outputs": [],
   "source": [
    "def H_tilde_AA(*orders):\n",
    "    return Add(*H_tilde[0, 0, orders[0], orders[1], orders[2]].compressed()).simplify()"
   ]
  },
  {
   "cell_type": "markdown",
   "id": "22c22377",
   "metadata": {},
   "source": [
    "Finally, we are ready to obtain the result."
   ]
  },
  {
   "cell_type": "code",
   "execution_count": null,
   "id": "84881691",
   "metadata": {},
   "outputs": [],
   "source": [
    "mass_term = H_tilde_AA([0], [0], [1])\n",
    "kinetic = H_tilde_AA(*k_square, 0)\n",
    "mass_correction = H_tilde_AA(*k_square, 1)\n",
    "cubic = H_tilde_AA(*k_cube, 0)\n",
    "MatAdd(mass_term + kinetic, mass_correction + cubic, evaluate=False)"
   ]
  },
  {
   "cell_type": "markdown",
   "id": "2849d4d1",
   "metadata": {},
   "source": [
    "The first term contains the standard quadratic dispersion of bilayer graphene with a gap.\n",
    "The second term contains trigonal warping and the coupling between the gap and momentum.\n",
    "\n",
    "## Induced gap in a double quantum dot\n",
    "\n",
    "**Large systems pose an additional challenge due to the scaling of linear algebra routines for large matrices.**\n",
    "Large systems pose an additional challenge due to the scaling of linear algebra\n",
    "routines for large matrices.\n",
    "Pymablock handles large systems by using sparse matrices and avoiding the\n",
    "construction of the full Hamiltonian.\n",
    "We illustrate its efficiency with a model of a double quantum dot and a\n",
    "superconductor with a tunnel barrier in between.\n",
    "\n",
    "_(Include figure with scheme of the system)_\n",
    "\n",
    "### Building the Hamiltonian with Kwant\n",
    "\n",
    "**We use Kwant to build the Hamiltonian of the system.**\n",
    "We use the Kwant package [kwant](doi:10.1088/1367-2630/16/6/063065) to build\n",
    "the Hamiltonian of the system.\n",
    "In the following code, we define a square lattice of $L \\times W = 200 \\times\n",
    "40$ sites with $2$ orbitals per unit cell with the superconducting region in\n",
    "the middle and the quantum dots on the sides."
   ]
  },
  {
   "cell_type": "code",
   "execution_count": null,
   "id": "2f41cd47",
   "metadata": {},
   "outputs": [],
   "source": [
    "import tinyarray as ta\n",
    "import matplotlib.backends\n",
    "import scipy.linalg\n",
    "from scipy.sparse.linalg import eigsh\n",
    "import numpy as np\n",
    "import kwant\n",
    "import matplotlib.pyplot as plt\n",
    "color_cycle = [\"#5790fc\", \"#f89c20\", \"#e42536\"]\n",
    "\n",
    "from pymablock import block_diagonalize\n",
    "\n",
    "\n",
    "sigma_z = ta.array([[1, 0], [0, -1]], float)\n",
    "sigma_x = ta.array([[0, 1], [1, 0]], float)\n",
    "\n",
    "syst = kwant.Builder()\n",
    "lat = kwant.lattice.square(norbs=2)\n",
    "L, W = 200, 40\n",
    "\n",
    "def normal_onsite(site, mu_n, t):\n",
    "    return (-mu_n + 4 * t) * sigma_z\n",
    "\n",
    "def sc_onsite(site, mu_sc, Delta, t):\n",
    "    return (-mu_sc + 4 * t) * sigma_z + Delta * sigma_x\n",
    "\n",
    "syst[lat.shape((lambda pos: abs(pos[1]) < W and abs(pos[0]) < L), (0, 0))] = normal_onsite\n",
    "syst[lat.shape((lambda pos: abs(pos[1]) < W and abs(pos[0]) < L / 3), (0, 0))] = sc_onsite\n",
    "syst[lat.neighbors()] = lambda site1, site2, t: -t * sigma_z\n",
    "\n",
    "def barrier(site1, site2):\n",
    "    return (abs(site1.pos[0]) - L / 3) * (abs(site2.pos[0]) - L / 3) < 0\n",
    "\n",
    "syst[(hop for hop in syst.hoppings() if barrier(*hop))] = (\n",
    "    lambda site1, site2, t_barrier: -t_barrier * sigma_z\n",
    ")"
   ]
  },
  {
   "cell_type": "markdown",
   "id": "c64898d7",
   "metadata": {},
   "source": [
    "Here `mu_n` and `mu_sc` are the chemical potentials of the normal and\n",
    "superconducting regions, respectively, `Delta` is the superconducting gap, and\n",
    "`t` is the hopping amplitude within each region.\n",
    "The barrier strength between the quantum dots and the superconductor is `t_barrier`.\n",
    "\n",
    "We can now plot the system and finalize it"
   ]
  },
  {
   "cell_type": "code",
   "execution_count": null,
   "id": "95a703f4",
   "metadata": {},
   "outputs": [],
   "source": [
    "kwant.plot(\n",
    "    syst,\n",
    "    fig_size=(10, 6),\n",
    "    site_color=(lambda site: abs(site.pos[0]) < L / 3),\n",
    "    colorbar=False,\n",
    "    cmap=\"seismic\",\n",
    "    hop_lw=0,\n",
    ")\n",
    "\n",
    "syst = syst.finalized()\n",
    "f\"The system has {len(syst.sites)} sites.\""
   ]
  },
  {
   "cell_type": "markdown",
   "id": "0b76fac3",
   "metadata": {},
   "source": [
    "In the plot the blue regions are the left and right quantum dots, while the\n",
    "superconductor is the red region in the middle.\n",
    "\n",
    "We see that the system is large: with this many sites even storing all the\n",
    "eigenvectors would take 60 GB of memory.\n",
    "We must therefore use sparse matrices, and may only compute a few eigenvectors.\n",
    "In this case, perturbation theory allows us to compute the effective\n",
    "Hamiltonian of the low energy degrees of freedom.\n",
    "\n",
    "To get the unperturbed Hamiltonian, we use the following values for $\\mu_n$,\n",
    "$\\mu_{sc}$, $\\Delta$, $t$, and $t_{\\text{barrier}}$."
   ]
  },
  {
   "cell_type": "code",
   "execution_count": null,
   "id": "2db21ba7",
   "metadata": {},
   "outputs": [],
   "source": [
    "params = dict(\n",
    "    mu_n=0.05,\n",
    "    mu_sc=0.3,\n",
    "    Delta=0.05,\n",
    "    t=1.,\n",
    "    t_barrier=0.,\n",
    ")\n",
    "\n",
    "h_0 = syst.hamiltonian_submatrix(params=params, sparse=True).real"
   ]
  },
  {
   "cell_type": "markdown",
   "id": "445db2dd",
   "metadata": {},
   "source": [
    "The barrier strength and the asymmetry of the dot potentials are the two\n",
    "perturbations that we vary."
   ]
  },
  {
   "cell_type": "code",
   "execution_count": null,
   "id": "b98973ad",
   "metadata": {},
   "outputs": [],
   "source": [
    "barrier = syst.hamiltonian_submatrix(\n",
    "    params={**{p: 0 for p in params.keys()}, \"t_barrier\": 1}, sparse=True\n",
    ").real\n",
    "delta_mu = (\n",
    "    kwant.operator.Density(syst, (lambda site: sigma_z * site.pos[0] / L)).tocoo().real\n",
    ")"
   ]
  },
  {
   "cell_type": "markdown",
   "id": "e2c14a0e",
   "metadata": {},
   "source": [
    "### Define the perturbative series\n",
    "\n",
    "In the implicit mode, Pymablock computes the perturbative series without\n",
    "knowing the eigenvectors of one of the Hamiltonian subspaces.\n",
    "\n",
    "Therefore we compute 4 eigenvectors of the unperturbed Hamiltonian, which\n",
    "correspond to the 4 lowest eigenvalues closest to $E=0$.\n",
    "These are the lowest energy Andreev states in two quantum dots."
   ]
  },
  {
   "cell_type": "code",
   "execution_count": null,
   "id": "556ac021",
   "metadata": {},
   "outputs": [],
   "source": [
    "%%time\n",
    "\n",
    "vals, vecs = eigsh(h_0, k=4, sigma=0)\n",
    "vecs, _ = scipy.linalg.qr(vecs, mode=\"economic\")  # orthogonalize the vectors"
   ]
  },
  {
   "cell_type": "markdown",
   "id": "b354de84",
   "metadata": {},
   "source": [
    "The orthogonalization is often necessary to do manually because\n",
    "`scipy.sparse.linalg.eigsh` does not return orthogonal eigenvectors if the\n",
    "matrix is complex and eigenvalues are degenerate.\n",
    "\n",
    "We now define the block diagonalization routine and compute the few lowest\n",
    "orders of the effective Hamiltonian.\n",
    "Here we only provide the set of vectors of the interesting subspace.\n",
    "This selects the `pymablock.implicit` method that uses efficient sparse\n",
    "solvers for Sylvester's equation."
   ]
  },
  {
   "cell_type": "code",
   "execution_count": null,
   "id": "aa885a94",
   "metadata": {},
   "outputs": [],
   "source": [
    "%%time\n",
    "\n",
    "H_tilde, *_ = block_diagonalize([h_0, barrier, delta_mu], subspace_eigenvectors=[vecs])"
   ]
  },
  {
   "cell_type": "markdown",
   "id": "2506e8dc",
   "metadata": {},
   "source": [
    "Block diagonalization is now the most time consuming step because it requires\n",
    "pre-computing several decomposition of the full Hamiltonian.\n",
    "It is, however, manageable and it only produces a constant overhead.\n",
    "\n",
    "### Get results\n",
    "\n",
    "For convenience, we collect the lowest three orders in each parameter in an\n",
    "appropriately sized tensor."
   ]
  },
  {
   "cell_type": "code",
   "execution_count": null,
   "id": "47dae931",
   "metadata": {},
   "outputs": [],
   "source": [
    "%%time\n",
    "\n",
    "# Combine all the perturbative terms into a single 4D array\n",
    "fill_value = np.zeros((), dtype=object)\n",
    "fill_value[()] = np.zeros_like(H_tilde[0, 0, 0, 0])\n",
    "h_tilde = np.array(np.ma.filled(H_tilde[0, 0, :3, :3], fill_value).tolist())"
   ]
  },
  {
   "cell_type": "markdown",
   "id": "3df1e078",
   "metadata": {},
   "source": [
    "We see that we have obtained the effective model in only a few seconds.\n",
    "We can now compute the low energy spectrum after rescaling the perturbative\n",
    "corrections by the magnitude of each perturbation."
   ]
  },
  {
   "cell_type": "code",
   "execution_count": null,
   "id": "3fa352f5",
   "metadata": {},
   "outputs": [],
   "source": [
    "def effective_energies(h_tilde, barrier, delta_mu):\n",
    "    barrier_powers = barrier ** np.arange(3).reshape(-1, 1, 1, 1)\n",
    "    delta_mu_powers = delta_mu ** np.arange(3).reshape(1, -1, 1, 1)\n",
    "    return scipy.linalg.eigvalsh(\n",
    "        np.sum(h_tilde * barrier_powers * delta_mu_powers, axis=(0, 1))\n",
    "    )"
   ]
  },
  {
   "cell_type": "markdown",
   "id": "30353257",
   "metadata": {},
   "source": [
    "Finally, we plot the spectrum"
   ]
  },
  {
   "cell_type": "code",
   "execution_count": null,
   "id": "ba727859",
   "metadata": {
    "tags": [
     "hide-input"
    ]
   },
   "outputs": [],
   "source": [
    "%%time\n",
    "\n",
    "barrier_vals = np.array([0, 0.5, .75])\n",
    "delta_mu_vals = np.linspace(0, 10e-4, num=101)\n",
    "results = [\n",
    "    np.array([effective_energies(h_tilde, bar, dmu) for dmu in delta_mu_vals])\n",
    "    for bar in barrier_vals\n",
    "]\n",
    "\n",
    "plt.figure(figsize=(10, 6), dpi=200)\n",
    "[\n",
    "    plt.plot(delta_mu_vals, result, color=color, label=[f\"$t_b={barrier}$\"] + 3 * [None])\n",
    "    for result, color, barrier in zip(results, color_cycle, barrier_vals)\n",
    "]\n",
    "plt.xlabel(r\"$\\delta_\\mu$\")\n",
    "plt.ylabel(r\"$E$\")\n",
    "plt.legend();"
   ]
  },
  {
   "cell_type": "markdown",
   "id": "b0d66549",
   "metadata": {},
   "source": [
    "As expected, the crossing at $E=0$ due to the dot asymmetry is lifted when the\n",
    "dots are coupled to the superconductor. In addition, we observe how the\n",
    "proximity gap of the dots increases with the coupling strength.\n",
    "\n",
    "We also see that computing the spectrum perturbatively is faster than\n",
    "repeatedly using sparse diagonalization for a set of parameters.\n",
    "In this example the total runtime of Pymablock would only allow us to compute\n",
    "the  eigenvectors at around 5 points in the parameter space."
   ]
  }
 ],
 "metadata": {
  "kernelspec": {
   "display_name": "Python 3 (ipykernel)",
   "language": "python",
   "name": "python3"
  },
  "language_info": {
   "name": "python",
   "version": "3.10.12"
  }
 },
 "nbformat": 4,
 "nbformat_minor": 5
}
