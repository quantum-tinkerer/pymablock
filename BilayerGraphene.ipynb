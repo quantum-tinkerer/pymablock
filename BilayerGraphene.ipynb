{
 "cells": [
  {
   "cell_type": "code",
   "execution_count": 2,
   "id": "417af706-1217-4f6a-97f2-53ec113a2dc7",
   "metadata": {
    "tags": []
   },
   "outputs": [],
   "source": [
    "import numpy as np\n",
    "import sympy\n",
    "import scipy\n",
    "import kwant\n",
    "\n",
    "from lowdin import block_diagonalization"
   ]
  },
  {
   "cell_type": "markdown",
   "id": "d1cfa5c7-6080-4c91-a093-3b1df25cd444",
   "metadata": {},
   "source": [
    "# Bilayer Grahepene in tight-binding approximation"
   ]
  },
  {
   "cell_type": "markdown",
   "id": "f4f1099e-2e83-409e-b8f2-cd6d124efa92",
   "metadata": {
    "tags": []
   },
   "source": [
    "## Real-space Hamltonians\n",
    "We begin in real space where we consider the different allowed hoppings seperately. The unit cell consists of 4 atoms, 2 from the bottom layer and 2 from the top layer. We denote each by their own creation and annihilation operators reading\n",
    "$$\\{c_{B1}, c_{B2}, c_{T1}, c_{T2}\\}.$$\n",
    "We set $c_{B1}$ to be in the origin and $c_{T1}$ to be the AA on top at $(0,0,b)^T$, where $b$ is the distance between the two layers. \n",
    "The hoppings between nearest neighbors are the same (covalent carbon bonds) in plane, but differ out of plane."
   ]
  },
  {
   "cell_type": "code",
   "execution_count": null,
   "id": "43ab99f2-482f-4c39-9245-bfa7cc653070",
   "metadata": {},
   "outputs": [],
   "source": []
  },
  {
   "cell_type": "code",
   "execution_count": null,
   "id": "b2f6e778-ccd8-4271-9ced-1911cbca278d",
   "metadata": {},
   "outputs": [],
   "source": []
  },
  {
   "cell_type": "markdown",
   "id": "1562aac1-601a-4874-93d9-239d0c5b6e82",
   "metadata": {},
   "source": [
    "Finally we arrive at the Bloch-matrix representation of the bilayer tight-binding lattice\n",
    "\\begin{align}\n",
    "\\mathcal{H}=\\sum_k \\left(\\begin{array}{cc}c^\\dagger_{k,B1}\\\\ c^{\\dagger}_{k,B2}\\\\ c^{\\dagger}_{k,T1}\\\\ c^{\\dagger}_{k,T2}\\end{array}\\right)\\left(\\begin{array}{cc}0&f_{B1,B2}(k)&f_{B1,T1}(k)&f_{B1,T2}(k)\\\\ f_{B1,B2}(k)^\\dagger&0&f_{B2,T1}(k)&f_{B2,T2}(k)\\\\f_{B1,T1}^\\dagger(k)&f_{B2,T1}^\\dagger(k)&0&f_{T1,T2}(k)\\\\f_{B1,T2}^\\dagger(k)&f_{B2,T2}^\\dagger(k)&f_{T1,T2}^\\dagger(k)&0\\end{array}\\right) \\left(\\begin{array}{cc}c_{k,B1}\\\\ c_{k,B2}\\\\ c_{k,T1}\\\\ c_{k,T2}\\end{array}\\right)\n",
    "\\end{align}\n",
    "where we have found\n",
    "\\begin{align}\n",
    "f_{B1,B2}(k)&=-t_i(e^{ik_xa}+e^{-ik_xa/2}2\\cos(k_ya\\sqrt{3}/2)) \\\\\n",
    "f_{B1,T1}(k)&=-t_{B1,T1}e^{ik_zb}(e^{-ik_xa}+e^{ikxa/2}2\\cos(k_ya\\sqrt{3}/2)) \\\\\n",
    "f_{B1,T2}(k)&= -t_{B1,T2}e^{ik_zb}(e^{-ik_xa}+e^{ik_xa/2}2\\cos(k_ya\\sqrt{3}/2))\\\\\n",
    "f_{B2,T1}(k)&= -t_{B1,T2}e^{ik_zb}(e^{ik_xa/2}2\\cos(k_ya\\sqrt{3}/2)+e^{-ik_xa})\\\\\n",
    "f_{B2,T2}(k)&= -t_{B2,T2}e^{ik_zb}(e^{ik_xa}+e^{-ik_xa/2}2\\cos(k_ya\\sqrt{3}/2))\\\\\n",
    "f_{T1,T2}(k)&=-t_i(e^{ik_xa}+e^{-ik_xa/2}2\\cos(k_ya\\sqrt{3}/2)) \\\\\n",
    "\\end{align}\n",
    "where the $t$ correspond to the hopping ampltiudes across the indexed bond, $k_i$ are the momenta, and $a$ is the lattice constant.\n",
    "We see that the electrons have no amplitude to stay on the same site but are strictly intienerant. If the second layer of graphene was not present, we would recover the usual graphene Hamiltonian with its bands \n",
    "\\begin{align}\n",
    "\\varepsilon_\\pm=\\pm t\\sqrt{3+2\\cos(k_ya\\sqrt{3})+4\\cos(k_xa3/2)\\cos(k_ya\\sqrt{3}/2)}\n",
    "\\end{align}\n",
    "and its emergent Dirac cones at the K-points \n",
    "\\begin{align}\n",
    "\\vec{K}&=\\frac{2\\pi}{3a}(1,1/\\sqrt{3})^T \\\\\n",
    "\\vec{K^\\prime}&=\\frac{2\\pi}{3a}(1,-1/\\sqrt{3})^T.\n",
    "\\end{align}\n",
    "What though when we slowly turn on the interlayer coupling? To analyse this, we want to treat the presence of the second layer in perturbation theory. Looking at the Hamiltonian, this means we have to remove the block off-diagonal coupling blocks between the layers in perturbation theory. Wouldn't it be convenient if there was a package for that?\n",
    "\n",
    "Let us begin by creating the Hamiltonian as a `sympy` Matrix. For brevity we will assume that all interlayer hoppings are equal and denote them as $t_l$"
   ]
  },
  {
   "cell_type": "code",
   "execution_count": 6,
   "id": "2c3616ad-5321-4c89-b154-874b34274c9a",
   "metadata": {
    "tags": []
   },
   "outputs": [
    {
     "data": {
      "text/latex": [
       "$\\displaystyle t_{i}$"
      ],
      "text/plain": [
       "t_i"
      ]
     },
     "execution_count": 6,
     "metadata": {},
     "output_type": "execute_result"
    }
   ],
   "source": [
    "t_i, t_l, a, k_x, k_y = sympy.symbols('t_i t_l a k_x k_y')\n",
    "H = sympy.Matrix"
   ]
  },
  {
   "cell_type": "code",
   "execution_count": null,
   "id": "2825095d-a4e9-43d9-a939-7a7481708907",
   "metadata": {},
   "outputs": [],
   "source": []
  }
 ],
 "metadata": {
  "kernelspec": {
   "display_name": "Python 3 (ipykernel)",
   "language": "python",
   "name": "python3"
  },
  "language_info": {
   "codemirror_mode": {
    "name": "ipython",
    "version": 3
   },
   "file_extension": ".py",
   "mimetype": "text/x-python",
   "name": "python",
   "nbconvert_exporter": "python",
   "pygments_lexer": "ipython3",
   "version": "3.10.8"
  }
 },
 "nbformat": 4,
 "nbformat_minor": 5
}
