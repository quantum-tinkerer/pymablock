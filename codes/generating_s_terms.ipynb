{
 "cells": [
  {
   "cell_type": "code",
   "execution_count": null,
   "metadata": {},
   "outputs": [],
   "source": [
    "import sympy\n",
    "import numpy as np\n",
    "from math import factorial\n",
    "from sympy.interactive import printing\n",
    "\n",
    "printing.init_printing(use_unicode=True) "
   ]
  },
  {
   "cell_type": "code",
   "execution_count": null,
   "metadata": {},
   "outputs": [],
   "source": [
    "sympy.__version__"
   ]
  },
  {
   "cell_type": "code",
   "execution_count": null,
   "metadata": {},
   "outputs": [],
   "source": [
    "from time import time"
   ]
  },
  {
   "cell_type": "code",
   "execution_count": null,
   "metadata": {},
   "outputs": [],
   "source": [
    "wanted_order = 9"
   ]
  },
  {
   "cell_type": "code",
   "execution_count": null,
   "metadata": {},
   "outputs": [],
   "source": [
    "t1 = time()\n",
    "\n",
    "# Defining symbols\n",
    "H0_AA, H0_BB, H1_AA, H1_BB, H2_AB, H2_BA, S_AB, S_BA = sympy.symbols('H0_AA, H0_BB, H1_AA, H1_BB, H2_AB, H2_BA, S_AB, S_BA', commutative=False)\n",
    "x = sympy.Symbol('x', commutative=True)\n",
    "S_AB_i = [sympy.symbols('S_AB_{}'.format(i), commutative=False) for i in range(0, wanted_order + 1)]\n",
    "S_BA_i = [sympy.symbols('S_BA_{}'.format(i), commutative=False) for i in range(0, wanted_order + 1)]\n",
    "\n",
    "S_AB_series = 0\n",
    "S_BA_series = 0\n",
    "for i in range(1, wanted_order + 1):\n",
    "    S_AB_series += S_AB_i[i] * x ** (i)\n",
    "    S_BA_series += S_BA_i[i] * x ** (i)\n",
    "\n",
    "def commute_n_odd(H_AA, H_BB, S_AB, S_BA, n):\n",
    "    assert n % 2 == 1\n",
    "    res_AB = clean_terms(H_AA * S_AB - S_AB * H_BB, wanted_order)\n",
    "    res_BA = clean_terms(H_BB * S_BA - S_BA * H_AA, wanted_order)\n",
    "    for i in range((n - 1) // 2):\n",
    "        res_AA = clean_terms(res_AB * S_BA - S_AB * res_BA, wanted_order)\n",
    "        res_BB = clean_terms(res_BA * S_AB - S_BA * res_AB, wanted_order)\n",
    "        res_AB = clean_terms(res_AA * S_AB - S_AB * res_BB, wanted_order)\n",
    "        res_BA = clean_terms(res_BB * S_BA - S_BA * res_AA, wanted_order)\n",
    "    return res_AB\n",
    "\n",
    "def commute_n_even(H_AB, H_BA, S_AB, S_BA, n):\n",
    "    assert n % 2 == 0\n",
    "    res_AB = H_AB\n",
    "    res_BA = H_BA\n",
    "    for i in range(n // 2):\n",
    "        res_AA = clean_terms(res_AB * S_BA - S_AB * res_BA, wanted_order)\n",
    "        res_BB = clean_terms(res_BA * S_AB - S_BA * res_AB, wanted_order)\n",
    "        res_AB = clean_terms(res_AA * S_AB - S_AB * res_BB, wanted_order)\n",
    "        res_BA = clean_terms(res_BB * S_BA - S_BA * res_AA, wanted_order)\n",
    "    return res_AB\n",
    "\n",
    "def clean_terms(A, wanted_order):\n",
    "    A = A.expand()\n",
    "    return sum([A.coeff(x, n) * x**n for n in range(0, wanted_order+1)]).expand()\n",
    "\n",
    "# Calculating offdiagonal \n",
    "Hn_AB = 0\n",
    "for j in range(wanted_order//2 + 1):\n",
    "    Hn_AB += commute_n_odd(H0_AA + H1_AA*x, H0_BB + H1_BB*x, S_AB_series, S_BA_series, 2*j+1) / sympy.factorial(2*j+1)\n",
    "    Hn_AB += commute_n_even(H2_AB*x, H2_BA*x, S_AB_series, S_BA_series, 2*j)  / sympy.factorial(2*j)\n",
    "    print('j = {} done'.format())\n",
    "    \n",
    "print('step 2')\n",
    "\n",
    "Hn_AB = clean_terms(Hn_AB, wanted_order)\n",
    "\n",
    "t2 = time()\n",
    "print((t2-t1)/60)"
   ]
  },
  {
   "cell_type": "code",
   "execution_count": null,
   "metadata": {},
   "outputs": [],
   "source": [
    "Y_i = []\n",
    "for n in range(1, wanted_order + 1):\n",
    "    Y = - (Hn_AB.coeff(x, n) - (H0_AA*S_AB_i[n] - S_AB_i[n]*H0_BB))\n",
    "    # Y = - (collected[x**n])\n",
    "    Y = Y.expand()\n",
    "    display(Y)\n",
    "    Y_i.append(Y)"
   ]
  },
  {
   "cell_type": "markdown",
   "metadata": {},
   "source": [
    "# for computations"
   ]
  },
  {
   "cell_type": "code",
   "execution_count": null,
   "metadata": {},
   "outputs": [],
   "source": [
    "def write_n(n):\n",
    "    expr = - (Hn_AB.coeff(x, n) - (H0_AA*S_AB_i[n] - S_AB_i[n]*H0_BB))\n",
    "    expr.expand()\n",
    "    \n",
    "    output = \"\"\n",
    "    output += 'def Y%i(H0_AA, H0_BB, H1_AA, H1_BB, H2_AB, H2_BA, S_AB_i, S_BA_i):\\n' % n\n",
    "    if n > 1:\n",
    "        output += '    '\n",
    "        for i in range(1,n):\n",
    "            output += 'S_AB_%i, ' % i\n",
    "        output += '= S_AB_i[:%i]\\n' % (n-1)\n",
    "        output += '    '\n",
    "        for i in range(1,n):\n",
    "            output += 'S_BA_%i, ' % i\n",
    "        output += '= S_BA_i[:%i]\\n' % (n-1)\n",
    "    output += '    return (' + str(expr) + ')\\n'\n",
    "    return output"
   ]
  },
  {
   "cell_type": "code",
   "execution_count": null,
   "metadata": {},
   "outputs": [],
   "source": [
    "text_to_write = u\"\"\n",
    "\n",
    "for n in range(1, wanted_order+1):\n",
    "    text_to_write += write_n(n)\n",
    "    text_to_write += '\\n\\n'\n",
    "\n",
    "text_to_write += 'Y_i = ('\n",
    "for n in range(1, wanted_order+1):\n",
    "    text_to_write += 'Y%i,' % n\n",
    "text_to_write += ')\\n'\n",
    "    \n",
    "import io\n",
    "\n",
    "with io.open('perturbationS.py', 'w') as f:\n",
    "    f.write(text_to_write)    "
   ]
  },
  {
   "cell_type": "code",
   "execution_count": null,
   "metadata": {},
   "outputs": [],
   "source": []
  }
 ],
 "metadata": {
  "kernelspec": {
   "display_name": "kpm_pro",
   "language": "python",
   "name": "kpm_pro"
  },
  "language_info": {
   "codemirror_mode": {
    "name": "ipython",
    "version": 3
   },
   "file_extension": ".py",
   "mimetype": "text/x-python",
   "name": "python",
   "nbconvert_exporter": "python",
   "pygments_lexer": "ipython3",
   "version": "3.6.3"
  }
 },
 "nbformat": 4,
 "nbformat_minor": 2
}
