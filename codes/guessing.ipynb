{
 "cells": [
  {
   "cell_type": "code",
   "execution_count": 1,
   "metadata": {},
   "outputs": [],
   "source": [
    "from os import environ\n",
    "os.environ[\"JPY_API_TOKEN\"] = \"\"\n",
    "os.environ[\"JUPYTERPOST_URL\"] = \"https://services.io.quantumtinkerer.group/services/jupyterpost\"\n",
    "import jupyterpost"
   ]
  },
  {
   "cell_type": "code",
   "execution_count": 2,
   "metadata": {},
   "outputs": [],
   "source": [
    "from itertools import count\n",
    "\n",
    "import sympy\n",
    "import numpy as np\n",
    "import tinyarray as ta\n",
    "\n",
    "from polynomial_orders_U import compute_next_orders, H_tilde\n",
    "from sympy import MatrixSymbol"
   ]
  },
  {
   "cell_type": "code",
   "execution_count": 3,
   "metadata": {},
   "outputs": [],
   "source": [
    "wanted_orders = [[4]]\n",
    "Ns = [2, 2] # np.random.randint(1, high=5, size=2)\n",
    "\n",
    "\n",
    "def hamiltonians(Ns, wanted_orders):\n",
    "    \"\"\"\n",
    "    Produce random Hamiltonians to test.\n",
    "\n",
    "    Ns: dimension of each block (A, B)\n",
    "    wanted_orders: list of orders to compute\n",
    "\n",
    "    Returns:\n",
    "    hams: list of Hamiltonians\n",
    "    \"\"\"\n",
    "    N_p = len(wanted_orders[0])\n",
    "    orders = ta.array(np.eye(N_p))\n",
    "    hams = []\n",
    "    for i in range(2):\n",
    "        hams.append(np.diag(np.sort(np.random.rand(Ns[i])) - i))\n",
    "\n",
    "    def matrices_it(N_i, N_j, hermitian):\n",
    "        \"\"\"\n",
    "        Generate random matrices of size N_i x N_j.\n",
    "\n",
    "        N_i: number of rows\n",
    "        N_j: number of columns\n",
    "        hermitian: if True, the matrix is hermitian\n",
    "\n",
    "        Returns:\n",
    "        generator of random matrices\n",
    "        \"\"\"\n",
    "        for i in count():\n",
    "            H = np.random.rand(N_i, N_j) + 1j * np.random.rand(N_i, N_j)\n",
    "            if hermitian:\n",
    "                H += H.conj().T\n",
    "            yield H\n",
    "\n",
    "    for i, j, hermitian in zip([0, 1, 0], [0, 1, 1], [True, True, False]):\n",
    "        matrices = matrices_it(Ns[i], Ns[j], hermitian)\n",
    "        hams.append({order: matrix for order, matrix in zip(orders, matrices)})\n",
    "    return hams\n",
    "\n"
   ]
  },
  {
   "cell_type": "code",
   "execution_count": 4,
   "metadata": {},
   "outputs": [],
   "source": [
    "hams = hamiltonians(Ns, wanted_orders)\n",
    "H_0_AA, H_0_BB, H_p_AA, H_p_BB, H_p_AB = hams\n",
    "exp_S = compute_next_orders(*hams, wanted_orders=wanted_orders)\n",
    "\n",
    "H_AA_01 = H_tilde(H_0_AA, np.zeros_like(H_0_BB), {}, {}, {}, wanted_orders, exp_S)[0]\n",
    "H_AA_02 = H_tilde(H_0_AA, H_0_BB, {}, {}, {}, wanted_orders, exp_S)[0]\n",
    "H_AA_p1 = H_tilde(np.zeros_like(H_0_AA), np.zeros_like(H_0_BB), H_p_AA, {}, {}, wanted_orders, exp_S)[0]\n",
    "H_AA_p2 = H_tilde(np.zeros_like(H_0_AA), np.zeros_like(H_0_BB), {}, H_p_BB, {}, wanted_orders, exp_S)[0]\n",
    "H_AA_p3 = H_tilde(np.zeros_like(H_0_AA), np.zeros_like(H_0_BB), {}, {}, H_p_AB, wanted_orders, exp_S)[0]"
   ]
  },
  {
   "cell_type": "code",
   "execution_count": 6,
   "metadata": {},
   "outputs": [],
   "source": [
    "# for order in H_AA_0:\n",
    "#     print(H_AA_0[order] / H_AA_p[order])\n",
    "#     print()\n",
    "#     print()\n"
   ]
  },
  {
   "cell_type": "code",
   "execution_count": 7,
   "metadata": {},
   "outputs": [],
   "source": [
    "# test\n",
    "from sympy.physics.quantum import Operator, HermitianOperator\n",
    "from operator import mul\n",
    "\n",
    "dim1 = 2\n",
    "dim2 = 2\n",
    "\n",
    "H_0_AA = HermitianOperator(\"{H_{0}^{AA}}\")\n",
    "H_0_BB = HermitianOperator(\"{H_{0}^{BB}}\")\n",
    "\n",
    "H_p_AA = {}\n",
    "H_p_BB = {}\n",
    "H_p_AB = {}\n",
    "\n",
    "H_p_AA[ta.array([1])] = HermitianOperator(\"{H_{p}^{AA}}\")\n",
    "H_p_BB[ta.array([1])] = HermitianOperator(\"{H_{p}^{BB}}\")   \n",
    "H_p_AB[ta.array([1])] = Operator(\"{H_{p}^{AB}}\")"
   ]
  },
  {
   "cell_type": "code",
   "execution_count": 8,
   "metadata": {},
   "outputs": [],
   "source": [
    "class EnergyDivider:\n",
    "    def __init__(self):\n",
    "        self.data = {}\n",
    "\n",
    "    def __call__(self, rhs):\n",
    "        new_entry = Operator(f\"V_{len(self.data) + 1}\")\n",
    "        self.data[new_entry] = rhs\n",
    "        return new_entry"
   ]
  },
  {
   "cell_type": "code",
   "execution_count": 9,
   "metadata": {
    "lines_to_end_of_cell_marker": 2
   },
   "outputs": [],
   "source": [
    "wanted_orders=[[5]]\n",
    "divider = EnergyDivider()\n",
    "exp_S = compute_next_orders(\n",
    "    H_0_AA, H_0_BB, H_p_AA, H_p_BB, H_p_AB,\n",
    "    wanted_orders=wanted_orders,\n",
    "    divide_energies=divider,\n",
    "    op=mul,\n",
    ")\n"
   ]
  },
  {
   "cell_type": "code",
   "execution_count": 53,
   "metadata": {},
   "outputs": [],
   "source": [
    "H_tilde_AA, H_tilde_BB = H_tilde(\n",
    "    H_0_AA, H_0_BB, H_p_AA, H_p_BB, H_p_AB, wanted_orders, exp_S, op=mul\n",
    ")\n"
   ]
  },
  {
   "cell_type": "code",
   "execution_count": 55,
   "metadata": {},
   "outputs": [
    {
     "data": {
      "text/latex": [
       "$\\displaystyle - \\frac{{H_{0}^{AA}} V_{1} V_{1}^{\\dagger}}{2} - \\frac{V_{1} V_{1}^{\\dagger} {H_{0}^{AA}}}{2} - V_{1} {H_{p}^{AB}}^{\\dagger} + V_{1} {H_{0}^{BB}} V_{1}^{\\dagger} - {H_{p}^{AB}} V_{1}^{\\dagger}$"
      ],
      "text/plain": [
       "-{H_{0}^{AA}}*V_1*Dagger(V_1)/2 - V_1*Dagger(V_1)*{H_{0}^{AA}}/2 - V_1*Dagger({H_{p}^{AB}}) + V_1*{H_{0}^{BB}}*Dagger(V_1) - {H_{p}^{AB}}*Dagger(V_1)"
      ]
     },
     "execution_count": 55,
     "metadata": {},
     "output_type": "execute_result"
    }
   ],
   "source": [
    "H_tilde_AA[(2,)]"
   ]
  },
  {
   "cell_type": "code",
   "execution_count": 57,
   "metadata": {},
   "outputs": [
    {
     "data": {
      "text/latex": [
       "$\\displaystyle \\frac{\\left(- V_{1} V_{2}^{\\dagger} - V_{2} V_{1}^{\\dagger}\\right) {H_{p}^{AA}}}{2} - \\left(- \\frac{V_{1} {H_{p}^{AB}}^{\\dagger} V_{1} V_{1}^{\\dagger}}{2} + V_{3} {H_{p}^{AB}}^{\\dagger}\\right) + \\frac{\\left(- \\frac{V_{1} V_{1}^{\\dagger} V_{1} V_{1}^{\\dagger}}{4} - V_{1} V_{3}^{\\dagger} - V_{2} V_{2}^{\\dagger} - V_{3} V_{1}^{\\dagger}\\right) {H_{0}^{AA}}}{2} - \\left(- V_{1} {H_{0}^{BB}} V_{3}^{\\dagger} - V_{1} {H_{p}^{BB}} V_{2}^{\\dagger} - V_{2} {H_{0}^{BB}} V_{2}^{\\dagger} - V_{2} {H_{p}^{BB}} V_{1}^{\\dagger} - V_{3} {H_{0}^{BB}} V_{1}^{\\dagger}\\right) + \\frac{{H_{0}^{AA}} \\left(- \\frac{V_{1} V_{1}^{\\dagger} V_{1} V_{1}^{\\dagger}}{4} - V_{1} V_{3}^{\\dagger} - V_{2} V_{2}^{\\dagger} - V_{3} V_{1}^{\\dagger}\\right)}{2} + \\frac{{H_{p}^{AA}} \\left(- V_{1} V_{2}^{\\dagger} - V_{2} V_{1}^{\\dagger}\\right)}{2} + \\frac{V_{1} V_{1}^{\\dagger} {H_{0}^{AA}} V_{1} V_{1}^{\\dagger}}{4} + \\frac{V_{1} V_{1}^{\\dagger} {H_{p}^{AB}} V_{1}^{\\dagger}}{2} - {H_{p}^{AB}} V_{3}^{\\dagger}$"
      ],
      "text/plain": [
       "(-V_1*Dagger(V_2) - V_2*Dagger(V_1))*{H_{p}^{AA}}/2 - (-V_1*Dagger({H_{p}^{AB}})*V_1*Dagger(V_1)/2 + V_3*Dagger({H_{p}^{AB}})) + (-V_1*Dagger(V_1)*V_1*Dagger(V_1)/4 - V_1*Dagger(V_3) - V_2*Dagger(V_2) - V_3*Dagger(V_1))*{H_{0}^{AA}}/2 - (-V_1*{H_{0}^{BB}}*Dagger(V_3) - V_1*{H_{p}^{BB}}*Dagger(V_2) - V_2*{H_{0}^{BB}}*Dagger(V_2) - V_2*{H_{p}^{BB}}*Dagger(V_1) - V_3*{H_{0}^{BB}}*Dagger(V_1)) + {H_{0}^{AA}}*(-V_1*Dagger(V_1)*V_1*Dagger(V_1)/4 - V_1*Dagger(V_3) - V_2*Dagger(V_2) - V_3*Dagger(V_1))/2 + {H_{p}^{AA}}*(-V_1*Dagger(V_2) - V_2*Dagger(V_1))/2 + V_1*Dagger(V_1)*{H_{0}^{AA}}*V_1*Dagger(V_1)/4 + V_1*Dagger(V_1)*{H_{p}^{AB}}*Dagger(V_1)/2 - {H_{p}^{AB}}*Dagger(V_3)"
      ]
     },
     "execution_count": 57,
     "metadata": {},
     "output_type": "execute_result"
    }
   ],
   "source": [
    "H_tilde_AA[(4,)]"
   ]
  },
  {
   "cell_type": "code",
   "execution_count": 74,
   "metadata": {},
   "outputs": [
    {
     "data": {
      "text/latex": [
       "$\\displaystyle \\frac{\\left(V_{1} V_{2}^{\\dagger} + V_{2} V_{1}^{\\dagger}\\right) {H_{0}^{AA}} V_{2}}{2} + \\frac{\\left(V_{1} V_{2}^{\\dagger} + V_{2} V_{1}^{\\dagger}\\right) {H_{p}^{AA}} V_{1}}{2} + \\frac{\\left(\\left(V_{1} V_{1}^{\\dagger}\\right)^{2} + 4 V_{1} V_{3}^{\\dagger} + 4 V_{2} V_{2}^{\\dagger} + 4 V_{3} V_{1}^{\\dagger}\\right) {H_{0}^{AA}} V_{1}}{8} + \\frac{\\left(\\left(V_{1} V_{1}^{\\dagger}\\right)^{2} + 4 V_{1} V_{3}^{\\dagger} + 4 V_{2} V_{2}^{\\dagger} + 4 V_{3} V_{1}^{\\dagger}\\right) {H_{p}^{AB}}}{8} - {H_{p}^{AA}} V_{4} + \\frac{V_{1} V_{1}^{\\dagger} {H_{0}^{AA}} V_{3}}{2} + \\frac{V_{1} V_{1}^{\\dagger} {H_{p}^{AA}} V_{2}}{2} - \\frac{V_{1} V_{1}^{\\dagger} {H_{p}^{AB}} V_{1}^{\\dagger} V_{1}}{4} + V_{1} {H_{p}^{AB}}^{\\dagger} V_{3} - \\frac{V_{1} {H_{0}^{BB}} \\left(\\left(V_{1}^{\\dagger} V_{1}\\right)^{2} + 4 V_{1}^{\\dagger} V_{3} + 4 V_{2}^{\\dagger} V_{2} + 4 V_{3}^{\\dagger} V_{1}\\right)}{8} - \\frac{V_{1} {H_{p}^{BB}} \\left(V_{1}^{\\dagger} V_{2} + V_{2}^{\\dagger} V_{1}\\right)}{2} + V_{2} {H_{p}^{AB}}^{\\dagger} V_{2} - \\frac{V_{2} {H_{0}^{BB}} \\left(V_{1}^{\\dagger} V_{2} + V_{2}^{\\dagger} V_{1}\\right)}{2} - \\frac{V_{2} {H_{p}^{BB}} V_{1}^{\\dagger} V_{1}}{2} + V_{3} {H_{p}^{AB}}^{\\dagger} V_{1} - \\frac{V_{3} {H_{0}^{BB}} V_{1}^{\\dagger} V_{1}}{2} + V_{4} {H_{p}^{BB}} + \\frac{{H_{p}^{AB}} \\left(\\left(V_{1}^{\\dagger} V_{1}\\right)^{2} + 4 V_{1}^{\\dagger} V_{3} + 4 V_{2}^{\\dagger} V_{2} + 4 V_{3}^{\\dagger} V_{1}\\right)}{8}$"
      ],
      "text/plain": [
       "(V_1*Dagger(V_2) + V_2*Dagger(V_1))*{H_{0}^{AA}}*V_2/2 + (V_1*Dagger(V_2) + V_2*Dagger(V_1))*{H_{p}^{AA}}*V_1/2 + ((V_1*Dagger(V_1))**2 + 4*V_1*Dagger(V_3) + 4*V_2*Dagger(V_2) + 4*V_3*Dagger(V_1))*{H_{0}^{AA}}*V_1/8 + ((V_1*Dagger(V_1))**2 + 4*V_1*Dagger(V_3) + 4*V_2*Dagger(V_2) + 4*V_3*Dagger(V_1))*{H_{p}^{AB}}/8 - {H_{p}^{AA}}*V_4 + V_1*Dagger(V_1)*{H_{0}^{AA}}*V_3/2 + V_1*Dagger(V_1)*{H_{p}^{AA}}*V_2/2 - V_1*Dagger(V_1)*{H_{p}^{AB}}*Dagger(V_1)*V_1/4 + V_1*Dagger({H_{p}^{AB}})*V_3 - V_1*{H_{0}^{BB}}*((Dagger(V_1)*V_1)**2 + 4*Dagger(V_1)*V_3 + 4*Dagger(V_2)*V_2 + 4*Dagger(V_3)*V_1)/8 - V_1*{H_{p}^{BB}}*(Dagger(V_1)*V_2 + Dagger(V_2)*V_1)/2 + V_2*Dagger({H_{p}^{AB}})*V_2 - V_2*{H_{0}^{BB}}*(Dagger(V_1)*V_2 + Dagger(V_2)*V_1)/2 - V_2*{H_{p}^{BB}}*Dagger(V_1)*V_1/2 + V_3*Dagger({H_{p}^{AB}})*V_1 - V_3*{H_{0}^{BB}}*Dagger(V_1)*V_1/2 + V_4*{H_{p}^{BB}} + {H_{p}^{AB}}*((Dagger(V_1)*V_1)**2 + 4*Dagger(V_1)*V_3 + 4*Dagger(V_2)*V_2 + 4*Dagger(V_3)*V_1)/8"
      ]
     },
     "execution_count": 74,
     "metadata": {},
     "output_type": "execute_result"
    }
   ],
   "source": [
    "sympy.simplify(list(divider.data.values())[-1])"
   ]
  },
  {
   "cell_type": "code",
   "execution_count": 89,
   "metadata": {},
   "outputs": [],
   "source": [
    "expr = sympy.expand(list(divider.data.values())[-2])"
   ]
  },
  {
   "cell_type": "code",
   "execution_count": 91,
   "metadata": {},
   "outputs": [
    {
     "data": {
      "text/latex": [
       "$\\displaystyle - {H_{p}^{AA}} V_{1} + V_{1} {H_{p}^{BB}}$"
      ],
      "text/plain": [
       "-{H_{p}^{AA}}*V_1 + V_1*{H_{p}^{BB}}"
      ]
     },
     "execution_count": 91,
     "metadata": {},
     "output_type": "execute_result"
    }
   ],
   "source": [
    "list(divider.data.values())[1]"
   ]
  },
  {
   "cell_type": "code",
   "execution_count": 90,
   "metadata": {},
   "outputs": [
    {
     "data": {
      "text/latex": [
       "$\\displaystyle - {H_{p}^{AA}} V_{3} + \\frac{V_{1} V_{1}^{\\dagger} V_{1} {H_{p}^{BB}}}{2} + \\frac{V_{1} V_{1}^{\\dagger} V_{2} {H_{0}^{BB}}}{2} + \\frac{V_{1} V_{2}^{\\dagger} V_{1} {H_{0}^{BB}}}{2} + V_{1} {H_{p}^{AB}}^{\\dagger} V_{2} - \\frac{V_{1} {H_{0}^{BB}} V_{1}^{\\dagger} V_{2}}{2} - \\frac{V_{1} {H_{0}^{BB}} V_{2}^{\\dagger} V_{1}}{2} - \\frac{V_{1} {H_{p}^{BB}} V_{1}^{\\dagger} V_{1}}{2} + \\frac{V_{2} V_{1}^{\\dagger} V_{1} {H_{0}^{BB}}}{2} + V_{2} {H_{p}^{AB}}^{\\dagger} V_{1} - \\frac{V_{2} {H_{0}^{BB}} V_{1}^{\\dagger} V_{1}}{2} + V_{3} {H_{p}^{BB}} + \\frac{{H_{p}^{AB}} V_{1}^{\\dagger} V_{2}}{2} + \\frac{{H_{p}^{AB}} V_{2}^{\\dagger} V_{1}}{2}$"
      ],
      "text/plain": [
       "-{H_{p}^{AA}}*V_3 + V_1*Dagger(V_1)*V_1*{H_{p}^{BB}}/2 + V_1*Dagger(V_1)*V_2*{H_{0}^{BB}}/2 + V_1*Dagger(V_2)*V_1*{H_{0}^{BB}}/2 + V_1*Dagger({H_{p}^{AB}})*V_2 - V_1*{H_{0}^{BB}}*Dagger(V_1)*V_2/2 - V_1*{H_{0}^{BB}}*Dagger(V_2)*V_1/2 - V_1*{H_{p}^{BB}}*Dagger(V_1)*V_1/2 + V_2*Dagger(V_1)*V_1*{H_{0}^{BB}}/2 + V_2*Dagger({H_{p}^{AB}})*V_1 - V_2*{H_{0}^{BB}}*Dagger(V_1)*V_1/2 + V_3*{H_{p}^{BB}} + {H_{p}^{AB}}*Dagger(V_1)*V_2/2 + {H_{p}^{AB}}*Dagger(V_2)*V_1/2"
      ]
     },
     "execution_count": 90,
     "metadata": {},
     "output_type": "execute_result"
    }
   ],
   "source": [
    "sympy.expand(expr.subs({H_0_AA * v: v * H_0_BB + rhs for v, rhs in divider.data.items()}).subs({H_0_AA * v: v * H_0_BB + rhs for v, rhs in divider.data.items()}))"
   ]
  },
  {
   "cell_type": "code",
   "execution_count": 60,
   "metadata": {},
   "outputs": [
    {
     "data": {
      "text/latex": [
       "$\\displaystyle \\frac{\\left(- V_{1} V_{2}^{\\dagger} - V_{2} V_{1}^{\\dagger}\\right) {H_{p}^{AA}}}{2} - \\left(- \\frac{V_{1} {H_{p}^{AB}}^{\\dagger} V_{1} V_{1}^{\\dagger}}{2} + V_{3} {H_{p}^{AB}}^{\\dagger}\\right) + \\frac{\\left(- \\frac{V_{1} V_{1}^{\\dagger} V_{1} V_{1}^{\\dagger}}{4} - V_{1} V_{3}^{\\dagger} - V_{2} V_{2}^{\\dagger} - V_{3} V_{1}^{\\dagger}\\right) {H_{0}^{AA}}}{2} - \\left(- V_{1} {H_{0}^{BB}} V_{3}^{\\dagger} - V_{1} {H_{p}^{BB}} V_{2}^{\\dagger} - V_{2} {H_{0}^{BB}} V_{2}^{\\dagger} - V_{2} {H_{p}^{BB}} V_{1}^{\\dagger} - V_{3} {H_{0}^{BB}} V_{1}^{\\dagger}\\right) + \\frac{{H_{0}^{AA}} \\left(- \\frac{V_{1} V_{1}^{\\dagger} V_{1} V_{1}^{\\dagger}}{4} - V_{1} V_{3}^{\\dagger} - V_{2} V_{2}^{\\dagger} - V_{3} V_{1}^{\\dagger}\\right)}{2} + \\frac{{H_{p}^{AA}} \\left(- V_{1} V_{2}^{\\dagger} - V_{2} V_{1}^{\\dagger}\\right)}{2} + \\frac{V_{1} V_{1}^{\\dagger} {H_{0}^{AA}} V_{1} V_{1}^{\\dagger}}{4} + \\frac{V_{1} V_{1}^{\\dagger} {H_{p}^{AB}} V_{1}^{\\dagger}}{2} - {H_{p}^{AB}} V_{3}^{\\dagger}$"
      ],
      "text/plain": [
       "(-V_1*Dagger(V_2) - V_2*Dagger(V_1))*{H_{p}^{AA}}/2 - (-V_1*Dagger({H_{p}^{AB}})*V_1*Dagger(V_1)/2 + V_3*Dagger({H_{p}^{AB}})) + (-V_1*Dagger(V_1)*V_1*Dagger(V_1)/4 - V_1*Dagger(V_3) - V_2*Dagger(V_2) - V_3*Dagger(V_1))*{H_{0}^{AA}}/2 - (-V_1*{H_{0}^{BB}}*Dagger(V_3) - V_1*{H_{p}^{BB}}*Dagger(V_2) - V_2*{H_{0}^{BB}}*Dagger(V_2) - V_2*{H_{p}^{BB}}*Dagger(V_1) - V_3*{H_{0}^{BB}}*Dagger(V_1)) + {H_{0}^{AA}}*(-V_1*Dagger(V_1)*V_1*Dagger(V_1)/4 - V_1*Dagger(V_3) - V_2*Dagger(V_2) - V_3*Dagger(V_1))/2 + {H_{p}^{AA}}*(-V_1*Dagger(V_2) - V_2*Dagger(V_1))/2 + V_1*Dagger(V_1)*{H_{0}^{AA}}*V_1*Dagger(V_1)/4 + V_1*Dagger(V_1)*{H_{p}^{AB}}*Dagger(V_1)/2 - {H_{p}^{AB}}*Dagger(V_3)"
      ]
     },
     "execution_count": 60,
     "metadata": {},
     "output_type": "execute_result"
    }
   ],
   "source": [
    "H_tilde_AA[(4,)]"
   ]
  }
 ],
 "metadata": {
  "kernelspec": {
   "display_name": "Python 3 (ipykernel)",
   "language": "python",
   "name": "python3"
  },
  "language_info": {
   "codemirror_mode": {
    "name": "ipython",
    "version": 3
   },
   "file_extension": ".py",
   "mimetype": "text/x-python",
   "name": "python",
   "nbconvert_exporter": "python",
   "pygments_lexer": "ipython3",
   "version": "3.10.8"
  },
  "vscode": {
   "interpreter": {
    "hash": "e277c87d298f084a4fb4f285e78050d306df3be0047ebb9bb35a914ad52b5b74"
   }
  }
 },
 "nbformat": 4,
 "nbformat_minor": 4
}
