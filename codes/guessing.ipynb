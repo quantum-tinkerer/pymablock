{
 "cells": [
  {
   "cell_type": "code",
   "execution_count": 11,
   "metadata": {},
   "outputs": [],
   "source": [
    "from itertools import count\n",
    "\n",
    "import sympy\n",
    "import numpy as np\n",
    "import tinyarray as ta\n",
    "\n",
    "from polynomial_orders_U import compute_next_orders, H_tilde\n",
    "from sympy import MatrixSymbol"
   ]
  },
  {
   "cell_type": "code",
   "execution_count": 12,
   "metadata": {},
   "outputs": [],
   "source": [
    "wanted_orders = [[4]]\n",
    "Ns = [2, 2] # np.random.randint(1, high=5, size=2)\n",
    "\n",
    "\n",
    "def hamiltonians(Ns, wanted_orders):\n",
    "    \"\"\"\n",
    "    Produce random Hamiltonians to test.\n",
    "\n",
    "    Ns: dimension of each block (A, B)\n",
    "    wanted_orders: list of orders to compute\n",
    "\n",
    "    Returns:\n",
    "    hams: list of Hamiltonians\n",
    "    \"\"\"\n",
    "    N_p = len(wanted_orders[0])\n",
    "    orders = ta.array(np.eye(N_p))\n",
    "    hams = []\n",
    "    for i in range(2):\n",
    "        hams.append(np.diag(np.sort(np.random.rand(Ns[i])) - i))\n",
    "\n",
    "    def matrices_it(N_i, N_j, hermitian):\n",
    "        \"\"\"\n",
    "        Generate random matrices of size N_i x N_j.\n",
    "\n",
    "        N_i: number of rows\n",
    "        N_j: number of columns\n",
    "        hermitian: if True, the matrix is hermitian\n",
    "\n",
    "        Returns:\n",
    "        generator of random matrices\n",
    "        \"\"\"\n",
    "        for i in count():\n",
    "            H = np.random.rand(N_i, N_j) + 1j * np.random.rand(N_i, N_j)\n",
    "            if hermitian:\n",
    "                H += H.conj().T\n",
    "            yield H\n",
    "\n",
    "    for i, j, hermitian in zip([0, 1, 0], [0, 1, 1], [True, True, False]):\n",
    "        matrices = matrices_it(Ns[i], Ns[j], hermitian)\n",
    "        hams.append({order: matrix for order, matrix in zip(orders, matrices)})\n",
    "    return hams\n",
    "\n"
   ]
  },
  {
   "cell_type": "code",
   "execution_count": 13,
   "metadata": {},
   "outputs": [],
   "source": [
    "hams = hamiltonians(Ns, wanted_orders)\n",
    "H_0_AA, H_0_BB, H_p_AA, H_p_BB, H_p_AB = hams\n",
    "exp_S = compute_next_orders(*hams, wanted_orders=wanted_orders)\n",
    "\n",
    "H_AA_01 = H_tilde(H_0_AA, np.zeros_like(H_0_BB), {}, {}, {}, wanted_orders, exp_S)[0]\n",
    "H_AA_02 = H_tilde(H_0_AA, H_0_BB, {}, {}, {}, wanted_orders, exp_S)[0]\n",
    "H_AA_p1 = H_tilde(np.zeros_like(H_0_AA), np.zeros_like(H_0_BB), H_p_AA, {}, {}, wanted_orders, exp_S)[0]\n",
    "H_AA_p2 = H_tilde(np.zeros_like(H_0_AA), np.zeros_like(H_0_BB), {}, H_p_BB, {}, wanted_orders, exp_S)[0]\n",
    "H_AA_p3 = H_tilde(np.zeros_like(H_0_AA), np.zeros_like(H_0_BB), {}, {}, H_p_AB, wanted_orders, exp_S)[0]"
   ]
  },
  {
   "cell_type": "code",
   "execution_count": 14,
   "metadata": {},
   "outputs": [
    {
     "ename": "NameError",
     "evalue": "name 'H_AA_0' is not defined",
     "output_type": "error",
     "traceback": [
      "\u001b[0;31m---------------------------------------------------------------------------\u001b[0m",
      "\u001b[0;31mNameError\u001b[0m                                 Traceback (most recent call last)",
      "Cell \u001b[0;32mIn[14], line 1\u001b[0m\n\u001b[0;32m----> 1\u001b[0m \u001b[39mfor\u001b[39;00m order \u001b[39min\u001b[39;00m H_AA_0:\n\u001b[1;32m      2\u001b[0m     \u001b[39mprint\u001b[39m(H_AA_0[order] \u001b[39m/\u001b[39m H_AA_p[order])\n\u001b[1;32m      3\u001b[0m     \u001b[39mprint\u001b[39m()\n",
      "\u001b[0;31mNameError\u001b[0m: name 'H_AA_0' is not defined"
     ]
    }
   ],
   "source": [
    "for order in H_AA_0:\n",
    "    print(H_AA_0[order] / H_AA_p[order])\n",
    "    print()\n",
    "    print()\n"
   ]
  },
  {
   "cell_type": "code",
   "execution_count": null,
   "metadata": {},
   "outputs": [],
   "source": []
  },
  {
   "cell_type": "code",
   "execution_count": null,
   "metadata": {},
   "outputs": [],
   "source": [
    "# test\n",
    "\n",
    "dim1 = 2\n",
    "dim2 = 2\n",
    "\n",
    "H_0_AA = MatrixSymbol(\"{H_{0}^{AA}}\", dim2, dim2)\n",
    "H_0_BB = MatrixSymbol(\"{H_{0}^{BB}}\", dim2, dim2)\n",
    "\n",
    "H_p_AA = {}\n",
    "H_p_BB = {}\n",
    "H_p_AB = {}\n",
    "\n",
    "H_p_AA[ta.array([1])] = MatrixSymbol(\"{H_{p}^{AA}}\", dim1, dim1)\n",
    "H_p_BB[ta.array([1])] = MatrixSymbol(\"{H_{p}^{BB}}\", dim2, dim2)   \n",
    "H_p_AB[ta.array([1])] = MatrixSymbol(\"{H_{p}^{AB}}\", dim1, dim2)"
   ]
  },
  {
   "cell_type": "code",
   "execution_count": null,
   "metadata": {},
   "outputs": [],
   "source": [
    "class EnergyDivider:\n",
    "    def __init__(self):\n",
    "        self.data = {}\n",
    "        \n",
    "    def __call__(self, rhs):\n",
    "        new_entry = MatrixSymbol(f\"V_{len(self.data) + 1}\", dim1, dim2)\n",
    "        self.data[new_entry] = rhs\n",
    "        return new_entry"
   ]
  },
  {
   "cell_type": "code",
   "execution_count": null,
   "metadata": {
    "lines_to_end_of_cell_marker": 2
   },
   "outputs": [],
   "source": [
    "wanted_orders=[[4]]\n",
    "divider = EnergyDivider()\n",
    "exp_S = compute_next_orders(\n",
    "    H_0_AA, H_0_BB, H_p_AA, H_p_BB, H_p_AB,\n",
    "    wanted_orders=wanted_orders,\n",
    "    divide_energies=divider\n",
    ")\n"
   ]
  },
  {
   "cell_type": "code",
   "execution_count": null,
   "metadata": {},
   "outputs": [
    {
     "data": {
      "text/plain": [
       "{V_1: -{H_{p}^{AB}},\n",
       " V_2: V_1*{H_{p}^{BB}} - {H_{p}^{AA}}*V_1,\n",
       " V_3: (1/2)*V_1*Adjoint(V_1)*{H_{0}^{AA}}*V_1 + (1/2)*V_1*Adjoint(V_1)*{H_{p}^{AB}} + V_1*Adjoint({H_{p}^{AB}})*V_1 - (1/2)*V_1*{H_{0}^{BB}}*Adjoint(V_1)*V_1 + V_2*{H_{p}^{BB}} - {H_{p}^{AA}}*V_2 + (1/2)*{H_{p}^{AB}}*Adjoint(V_1)*V_1,\n",
       " V_4: -(-(1/2)*V_1*Adjoint(V_2) - (1/2)*V_2*Adjoint(V_1))*{H_{0}^{AA}}*V_1 - (-(1/2)*V_1*Adjoint(V_2) - (1/2)*V_2*Adjoint(V_1))*{H_{p}^{AB}} + (1/2)*V_1*Adjoint(V_1)*{H_{0}^{AA}}*V_2 + (1/2)*V_1*Adjoint(V_1)*{H_{p}^{AA}}*V_1 + V_1*Adjoint({H_{p}^{AB}})*V_2 + V_1*{H_{0}^{BB}}*(-(1/2)*Adjoint(V_1)*V_2 - (1/2)*Adjoint(V_2)*V_1) - (1/2)*V_1*{H_{p}^{BB}}*Adjoint(V_1)*V_1 + V_2*Adjoint({H_{p}^{AB}})*V_1 - (1/2)*V_2*{H_{0}^{BB}}*Adjoint(V_1)*V_1 + V_3*{H_{p}^{BB}} - {H_{p}^{AA}}*V_3 - {H_{p}^{AB}}*(-(1/2)*Adjoint(V_1)*V_2 - (1/2)*Adjoint(V_2)*V_1)}"
      ]
     },
     "execution_count": 35,
     "metadata": {},
     "output_type": "execute_result"
    }
   ],
   "source": [
    "divider.data"
   ]
  },
  {
   "cell_type": "code",
   "execution_count": null,
   "metadata": {},
   "outputs": [],
   "source": [
    "H_tilde_AA, H_tilde_BB = H_tilde(H_0_AA,\n",
    "                                 H_0_BB,\n",
    "                                 H_p_AA,\n",
    "                                 H_p_BB,\n",
    "                                 H_p_AB,\n",
    "                                 wanted_orders,\n",
    "                                 exp_S\n",
    "                                )"
   ]
  },
  {
   "cell_type": "code",
   "execution_count": null,
   "metadata": {},
   "outputs": [
    {
     "data": {
      "text/latex": [
       "$\\displaystyle - \\frac{1}{2} V_{1} V_{1}^{\\dagger} \\left({H_{0}^{AA}}\\right)^{\\dagger} + \\left(\\frac{1}{2}\\right) V_{1} \\left({H_{0}^{BB}}\\right)^{\\dagger} V_{1}^{\\dagger} - V_{1} \\left({H_{p}^{AB}}\\right)^{\\dagger} + \\left(\\frac{1}{2}\\right) V_{1} {H_{0}^{BB}} V_{1}^{\\dagger} - \\left(\\frac{1}{2}\\right) {H_{0}^{AA}} V_{1} V_{1}^{\\dagger} - {H_{p}^{AB}} V_{1}^{\\dagger}$"
      ],
      "text/plain": [
       "-(1/2)*V_1*Adjoint(V_1)*Adjoint({H_{0}^{AA}}) + (1/2)*V_1*Adjoint({H_{0}^{BB}})*Adjoint(V_1) - V_1*Adjoint({H_{p}^{AB}}) + (1/2)*V_1*{H_{0}^{BB}}*Adjoint(V_1) - (1/2)*{H_{0}^{AA}}*V_1*Adjoint(V_1) - {H_{p}^{AB}}*Adjoint(V_1)"
      ]
     },
     "execution_count": 16,
     "metadata": {},
     "output_type": "execute_result"
    }
   ],
   "source": [
    "H_tilde_AA[(2,)]"
   ]
  },
  {
   "cell_type": "code",
   "execution_count": null,
   "metadata": {},
   "outputs": [
    {
     "data": {
      "text/plain": [
       "(V_1, -{H_{p}^{AB}})"
      ]
     },
     "execution_count": 42,
     "metadata": {},
     "output_type": "execute_result"
    }
   ],
   "source": [
    "list(divider.data.items())[0]"
   ]
  },
  {
   "cell_type": "code",
   "execution_count": null,
   "metadata": {},
   "outputs": [
    {
     "data": {
      "text/latex": [
       "$\\displaystyle - \\left(- V_{1}\\right) V_{1}^{\\dagger} - - V_{1} V_{1}^{\\dagger} - \\left(\\frac{1}{2}\\right) V_{1} V_{1}^{\\dagger} \\left({H_{0}^{AA}}\\right)^{\\dagger} + \\left(\\frac{1}{2}\\right) V_{1} \\left({H_{0}^{BB}}\\right)^{\\dagger} V_{1}^{\\dagger} + \\left(\\frac{1}{2}\\right) V_{1} {H_{0}^{BB}} V_{1}^{\\dagger} - \\left(\\frac{1}{2}\\right) {H_{0}^{AA}} V_{1} V_{1}^{\\dagger}$"
      ],
      "text/plain": [
       "-(-V_1)*Adjoint(V_1) - V_1*Adjoint(-V_1) - (1/2)*V_1*Adjoint(V_1)*Adjoint({H_{0}^{AA}}) + (1/2)*V_1*Adjoint({H_{0}^{BB}})*Adjoint(V_1) + (1/2)*V_1*{H_{0}^{BB}}*Adjoint(V_1) - (1/2)*{H_{0}^{AA}}*V_1*Adjoint(V_1)"
      ]
     },
     "execution_count": 46,
     "metadata": {},
     "output_type": "execute_result"
    }
   ],
   "source": [
    "sympy.simplify(H_tilde_AA[(2,)].subs(*list(divider.data.items())[0][::-1]))"
   ]
  },
  {
   "cell_type": "code",
   "execution_count": null,
   "metadata": {},
   "outputs": [
    {
     "data": {
      "text/latex": [
       "$\\displaystyle - V_{1} {H_{0}^{BB}} + {H_{0}^{AA}} V_{1} = - {H_{p}^{AB}}$"
      ],
      "text/plain": [
       "Eq(-V_1*{H_{0}^{BB}} + {H_{0}^{AA}}*V_1, -{H_{p}^{AB}})"
      ]
     },
     "execution_count": 32,
     "metadata": {},
     "output_type": "execute_result"
    }
   ],
   "source": [
    "[sympy.Equality(H_0_AA @ v - v @ H_0_BB, y) for v, y in divider.data.items()][0]"
   ]
  },
  {
   "cell_type": "code",
   "execution_count": null,
   "metadata": {},
   "outputs": [
    {
     "data": {
      "text/latex": [
       "$\\displaystyle \\left(- \\frac{1}{2} V_{1} V_{2}^{\\dagger} - \\left(\\frac{1}{2}\\right) V_{2} V_{1}^{\\dagger}\\right) \\left({H_{0}^{AA}}\\right)^{\\dagger} - \\left(\\frac{1}{2}\\right) V_{1} V_{1}^{\\dagger} \\left({H_{p}^{AA}}\\right)^{\\dagger} + \\left(\\frac{1}{2}\\right) V_{1} \\left({H_{p}^{BB}}\\right)^{\\dagger} V_{1}^{\\dagger} + V_{1} {H_{0}^{BB}} V_{2}^{\\dagger} + \\left(\\frac{1}{2}\\right) V_{1} {H_{p}^{BB}} V_{1}^{\\dagger} + V_{2} \\left({H_{0}^{BB}}\\right)^{\\dagger} V_{1}^{\\dagger} - V_{2} \\left({H_{p}^{AB}}\\right)^{\\dagger} + {H_{0}^{AA}} \\left(- \\frac{1}{2} V_{1} V_{2}^{\\dagger} - \\left(\\frac{1}{2}\\right) V_{2} V_{1}^{\\dagger}\\right) - \\left(\\frac{1}{2}\\right) {H_{p}^{AA}} V_{1} V_{1}^{\\dagger} - {H_{p}^{AB}} V_{2}^{\\dagger}$"
      ],
      "text/plain": [
       "(-(1/2)*V_1*Adjoint(V_2) - (1/2)*V_2*Adjoint(V_1))*Adjoint({H_{0}^{AA}}) - (1/2)*V_1*Adjoint(V_1)*Adjoint({H_{p}^{AA}}) + (1/2)*V_1*Adjoint({H_{p}^{BB}})*Adjoint(V_1) + V_1*{H_{0}^{BB}}*Adjoint(V_2) + (1/2)*V_1*{H_{p}^{BB}}*Adjoint(V_1) + V_2*Adjoint({H_{0}^{BB}})*Adjoint(V_1) - V_2*Adjoint({H_{p}^{AB}}) + {H_{0}^{AA}}*(-(1/2)*V_1*Adjoint(V_2) - (1/2)*V_2*Adjoint(V_1)) - (1/2)*{H_{p}^{AA}}*V_1*Adjoint(V_1) - {H_{p}^{AB}}*Adjoint(V_2)"
      ]
     },
     "execution_count": 22,
     "metadata": {},
     "output_type": "execute_result"
    }
   ],
   "source": [
    "H_tilde_AA[(3,)]"
   ]
  },
  {
   "cell_type": "code",
   "execution_count": null,
   "metadata": {},
   "outputs": [
    {
     "data": {
      "text/latex": [
       "$\\displaystyle - V_{2} {H_{0}^{BB}} + {H_{0}^{AA}} V_{2} = V_{1} {H_{p}^{BB}} - {H_{p}^{AA}} V_{1}$"
      ],
      "text/plain": [
       "Eq(-V_2*{H_{0}^{BB}} + {H_{0}^{AA}}*V_2, V_1*{H_{p}^{BB}} - {H_{p}^{AA}}*V_1)"
      ]
     },
     "execution_count": 33,
     "metadata": {},
     "output_type": "execute_result"
    }
   ],
   "source": [
    "[sympy.Equality(H_0_AA @ v - v @ H_0_BB, y) for v, y in divider.data.items()][1]"
   ]
  },
  {
   "cell_type": "code",
   "execution_count": null,
   "metadata": {},
   "outputs": [
    {
     "data": {
      "text/latex": [
       "$\\displaystyle \\left(- \\frac{1}{2} V_{1} V_{2}^{\\dagger} - \\left(\\frac{1}{2}\\right) V_{2} V_{1}^{\\dagger}\\right) \\left({H_{p}^{AA}}\\right)^{\\dagger} + \\left(- \\frac{1}{4} \\left(\\left(- \\frac{1}{2} V_{1} V_{1}^{\\dagger}\\right)^{2}\\right)^{\\dagger} - \\left(\\frac{1}{4}\\right) \\left(- \\frac{1}{2} V_{1} V_{1}^{\\dagger}\\right)^{2} - \\left(\\frac{1}{2}\\right) V_{1} V_{3}^{\\dagger} - \\left(\\frac{1}{2}\\right) V_{2} V_{2}^{\\dagger} - \\left(\\frac{1}{2}\\right) V_{3} V_{1}^{\\dagger}\\right) \\left({H_{0}^{AA}}\\right)^{\\dagger} + \\left(\\frac{1}{8}\\right) V_{1} V_{1}^{\\dagger} \\left({H_{0}^{AA}}\\right)^{\\dagger} V_{1} V_{1}^{\\dagger} + \\left(\\frac{1}{8}\\right) V_{1} V_{1}^{\\dagger} {H_{0}^{AA}} V_{1} V_{1}^{\\dagger} + \\left(\\frac{1}{2}\\right) V_{1} V_{1}^{\\dagger} {H_{p}^{AB}} V_{1}^{\\dagger} + \\left(\\frac{1}{2}\\right) V_{1} \\left({H_{p}^{AB}}\\right)^{\\dagger} V_{1} V_{1}^{\\dagger} + V_{1} {H_{0}^{BB}} V_{3}^{\\dagger} + V_{1} {H_{p}^{BB}} V_{2}^{\\dagger} + \\left(\\frac{1}{2}\\right) V_{2} \\left({H_{0}^{BB}}\\right)^{\\dagger} V_{2}^{\\dagger} + V_{2} \\left({H_{p}^{BB}}\\right)^{\\dagger} V_{1}^{\\dagger} + \\left(\\frac{1}{2}\\right) V_{2} {H_{0}^{BB}} V_{2}^{\\dagger} + V_{3} \\left({H_{0}^{BB}}\\right)^{\\dagger} V_{1}^{\\dagger} - V_{3} \\left({H_{p}^{AB}}\\right)^{\\dagger} + {H_{0}^{AA}} \\left(- \\frac{1}{4} \\left(\\left(- \\frac{1}{2} V_{1} V_{1}^{\\dagger}\\right)^{2}\\right)^{\\dagger} - \\left(\\frac{1}{4}\\right) \\left(- \\frac{1}{2} V_{1} V_{1}^{\\dagger}\\right)^{2} - \\left(\\frac{1}{2}\\right) V_{1} V_{3}^{\\dagger} - \\left(\\frac{1}{2}\\right) V_{2} V_{2}^{\\dagger} - \\left(\\frac{1}{2}\\right) V_{3} V_{1}^{\\dagger}\\right) + {H_{p}^{AA}} \\left(- \\frac{1}{2} V_{1} V_{2}^{\\dagger} - \\left(\\frac{1}{2}\\right) V_{2} V_{1}^{\\dagger}\\right) - {H_{p}^{AB}} V_{3}^{\\dagger}$"
      ],
      "text/plain": [
       "(-(1/2)*V_1*Adjoint(V_2) - (1/2)*V_2*Adjoint(V_1))*Adjoint({H_{p}^{AA}}) + (-(1/4)*Adjoint((-(1/2)*V_1*Adjoint(V_1))**2) - (1/4)*(-(1/2)*V_1*Adjoint(V_1))**2 - (1/2)*V_1*Adjoint(V_3) - (1/2)*V_2*Adjoint(V_2) - (1/2)*V_3*Adjoint(V_1))*Adjoint({H_{0}^{AA}}) + (1/8)*V_1*Adjoint(V_1)*Adjoint({H_{0}^{AA}})*V_1*Adjoint(V_1) + (1/8)*V_1*Adjoint(V_1)*{H_{0}^{AA}}*V_1*Adjoint(V_1) + (1/2)*V_1*Adjoint(V_1)*{H_{p}^{AB}}*Adjoint(V_1) + (1/2)*V_1*Adjoint({H_{p}^{AB}})*V_1*Adjoint(V_1) + V_1*{H_{0}^{BB}}*Adjoint(V_3) + V_1*{H_{p}^{BB}}*Adjoint(V_2) + (1/2)*V_2*Adjoint({H_{0}^{BB}})*Adjoint(V_2) + V_2*Adjoint({H_{p}^{BB}})*Adjoint(V_1) + (1/2)*V_2*{H_{0}^{BB}}*Adjoint(V_2) + V_3*Adjoint({H_{0}^{BB}})*Adjoint(V_1) - V_3*Adjoint({H_{p}^{AB}}) + {H_{0}^{AA}}*(-(1/4)*Adjoint((-(1/2)*V_1*Adjoint(V_1))**2) - (1/4)*(-(1/2)*V_1*Adjoint(V_1))**2 - (1/2)*V_1*Adjoint(V_3) - (1/2)*V_2*Adjoint(V_2) - (1/2)*V_3*Adjoint(V_1)) + {H_{p}^{AA}}*(-(1/2)*V_1*Adjoint(V_2) - (1/2)*V_2*Adjoint(V_1)) - {H_{p}^{AB}}*Adjoint(V_3)"
      ]
     },
     "execution_count": 38,
     "metadata": {},
     "output_type": "execute_result"
    }
   ],
   "source": [
    "H_tilde_AA[(4,)]"
   ]
  },
  {
   "cell_type": "code",
   "execution_count": null,
   "metadata": {},
   "outputs": [
    {
     "data": {
      "text/latex": [
       "$\\displaystyle - V_{3} {H_{0}^{BB}} + {H_{0}^{AA}} V_{3} = \\left(\\frac{1}{2}\\right) V_{1} V_{1}^{\\dagger} {H_{0}^{AA}} V_{1} + \\left(\\frac{1}{2}\\right) V_{1} V_{1}^{\\dagger} {H_{p}^{AB}} + V_{1} \\left({H_{p}^{AB}}\\right)^{\\dagger} V_{1} - \\left(\\frac{1}{2}\\right) V_{1} {H_{0}^{BB}} V_{1}^{\\dagger} V_{1} + V_{2} {H_{p}^{BB}} - {H_{p}^{AA}} V_{2} + \\left(\\frac{1}{2}\\right) {H_{p}^{AB}} V_{1}^{\\dagger} V_{1}$"
      ],
      "text/plain": [
       "Eq(-V_3*{H_{0}^{BB}} + {H_{0}^{AA}}*V_3, (1/2)*V_1*Adjoint(V_1)*{H_{0}^{AA}}*V_1 + (1/2)*V_1*Adjoint(V_1)*{H_{p}^{AB}} + V_1*Adjoint({H_{p}^{AB}})*V_1 - (1/2)*V_1*{H_{0}^{BB}}*Adjoint(V_1)*V_1 + V_2*{H_{p}^{BB}} - {H_{p}^{AA}}*V_2 + (1/2)*{H_{p}^{AB}}*Adjoint(V_1)*V_1)"
      ]
     },
     "execution_count": 37,
     "metadata": {},
     "output_type": "execute_result"
    }
   ],
   "source": [
    "[sympy.Equality(H_0_AA @ v - v @ H_0_BB, y) for v, y in divider.data.items()][2]"
   ]
  },
  {
   "cell_type": "code",
   "execution_count": null,
   "metadata": {},
   "outputs": [
    {
     "data": {
      "text/latex": [
       "$\\displaystyle V_{1} {H_{p}^{BB}} - {H_{p}^{AA}} V_{1}$"
      ],
      "text/plain": [
       "V_1*{H_{p}^{BB}} - {H_{p}^{AA}}*V_1"
      ]
     },
     "execution_count": 29,
     "metadata": {},
     "output_type": "execute_result"
    }
   ],
   "source": [
    "list(divider.data.values())[1]"
   ]
  },
  {
   "cell_type": "code",
   "execution_count": null,
   "metadata": {},
   "outputs": [
    {
     "data": {
      "text/latex": [
       "$\\displaystyle - V_{1} {H_{0}^{BB}} + {H_{0}^{AA}} V_{1} = - {H_{p}^{AB}}$"
      ],
      "text/plain": [
       "Eq(-V_1*{H_{0}^{BB}} + {H_{0}^{AA}}*V_1, -{H_{p}^{AB}})"
      ]
     },
     "execution_count": 31,
     "metadata": {},
     "output_type": "execute_result"
    }
   ],
   "source": [
    "[sympy.Equality(H_0_AA @ v - v @ H_0_BB, y) for v, y in divider.data.items()][0]"
   ]
  },
  {
   "cell_type": "code",
   "execution_count": null,
   "metadata": {},
   "outputs": [],
   "source": []
  }
 ],
 "metadata": {
  "kernelspec": {
   "display_name": "Python 3 (ipykernel)",
   "language": "python",
   "name": "python3"
  },
  "language_info": {
   "codemirror_mode": {
    "name": "ipython",
    "version": 3
   },
   "file_extension": ".py",
   "mimetype": "text/x-python",
   "name": "python",
   "nbconvert_exporter": "python",
   "pygments_lexer": "ipython3",
   "version": "3.8.8"
  },
  "vscode": {
   "interpreter": {
    "hash": "e277c87d298f084a4fb4f285e78050d306df3be0047ebb9bb35a914ad52b5b74"
   }
  }
 },
 "nbformat": 4,
 "nbformat_minor": 4
}
